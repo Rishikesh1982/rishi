{
  "nbformat": 4,
  "nbformat_minor": 0,
  "metadata": {
    "colab": {
      "provenance": []
    },
    "kernelspec": {
      "name": "python3",
      "display_name": "Python 3"
    },
    "language_info": {
      "name": "python"
    }
  },
  "cells": [
    {
      "cell_type": "code",
      "execution_count": 1,
      "metadata": {
        "id": "5ccHJ7nlegQG",
        "colab": {
          "base_uri": "https://localhost:8080/"
        },
        "outputId": "e03416dd-5fd0-4c00-d223-7a329db46a93"
      },
      "outputs": [
        {
          "output_type": "stream",
          "name": "stdout",
          "text": [
            "True\n"
          ]
        }
      ],
      "source": [
        "arr = [1,2,4,2,5,9]\n",
        "arr1=[]\n",
        "for i in arr:\n",
        "  if i in arr1:\n",
        "    print ('True')\n",
        "  else :\n",
        "    arr1.append(i)"
      ]
    },
    {
      "cell_type": "code",
      "source": [
        "arr2 = [1, 2, 3, 4, 5, 6, 7]\n",
        "k = 3\n",
        "k=k%len(arr2)\n",
        "rotated_arr = arr2[-k:] + arr2[:-k]\n",
        "print(rotated_arr)"
      ],
      "metadata": {
        "colab": {
          "base_uri": "https://localhost:8080/"
        },
        "id": "UE6p6tw0duby",
        "outputId": "79085ece-7117-48d1-87c8-c607a793d2c8"
      },
      "execution_count": 2,
      "outputs": [
        {
          "output_type": "stream",
          "name": "stdout",
          "text": [
            "[5, 6, 7, 1, 2, 3, 4]\n"
          ]
        }
      ]
    },
    {
      "cell_type": "code",
      "source": [
        "arr = [2, 4, 5, 7, 9, 12]\n",
        "arr.reverse()\n",
        "print(arr)"
      ],
      "metadata": {
        "colab": {
          "base_uri": "https://localhost:8080/"
        },
        "id": "C9uVIzW9jr2i",
        "outputId": "c9371efa-249c-4c76-ea2f-576dea1d2990"
      },
      "execution_count": 10,
      "outputs": [
        {
          "output_type": "stream",
          "name": "stdout",
          "text": [
            "[12, 9, 7, 5, 4, 2]\n"
          ]
        }
      ]
    },
    {
      "cell_type": "code",
      "source": [
        "arr = [10, 5, 20, 8, 15]\n",
        "max(arr)"
      ],
      "metadata": {
        "colab": {
          "base_uri": "https://localhost:8080/"
        },
        "id": "7Pk2MtbDkNrZ",
        "outputId": "484c3944-ae62-4b11-ffb2-d520ea181fcb"
      },
      "execution_count": 11,
      "outputs": [
        {
          "output_type": "execute_result",
          "data": {
            "text/plain": [
              "20"
            ]
          },
          "metadata": {},
          "execution_count": 11
        }
      ]
    },
    {
      "cell_type": "code",
      "source": [
        "arr4 = [1, 1, 2, 2, 2, 3, 3, 4, 4, 4, 5, 5]\n",
        "arr4 = list(set(arr4))\n",
        "print(arr4)"
      ],
      "metadata": {
        "colab": {
          "base_uri": "https://localhost:8080/"
        },
        "id": "nljioKOUl2X7",
        "outputId": "2f843df3-178d-491a-a913-667edbcfeee6"
      },
      "execution_count": 44,
      "outputs": [
        {
          "output_type": "stream",
          "name": "stdout",
          "text": [
            "[1, 2, 3, 4, 5]\n"
          ]
        }
      ]
    },
    {
      "cell_type": "code",
      "source": [],
      "metadata": {
        "id": "MLa4a101vLXs"
      },
      "execution_count": null,
      "outputs": []
    }
  ]
}