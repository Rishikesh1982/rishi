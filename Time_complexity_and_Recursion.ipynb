{
  "nbformat": 4,
  "nbformat_minor": 0,
  "metadata": {
    "colab": {
      "provenance": []
    },
    "kernelspec": {
      "name": "python3",
      "display_name": "Python 3"
    },
    "language_info": {
      "name": "python"
    }
  },
  "cells": [
    {
      "cell_type": "markdown",
      "source": [
        "def quicksort(arr):\n",
        "\n",
        "if len(arr) <= 1:\n",
        "\n",
        "return arr\n",
        "\n",
        "pivot = arr[len(arr) // 2]\n",
        "\n",
        "left = [x for x in arr if x < pivot]\n",
        "\n",
        "middle = [x for x in arr if x == pivot]\n",
        "\n",
        "right = [x for x in arr if x > pivot]\n",
        "\n",
        "return quicksort(left) + middle + quicksort(right)\n",
        "\n",
        "**The time complexity of above code is O(n log n)**\n",
        "\n",
        "2)\n",
        "\n",
        "def nested_loop_example(matrix):\n",
        "\n",
        "rows, cols = len(matrix), len(matrix[0])\n",
        "\n",
        "total = 0\n",
        "\n",
        "for i in range(rows):\n",
        "\n",
        "for j in range(cols):\n",
        "\n",
        "total += matrix[i][j]\n",
        "\n",
        "return total\n",
        "\n",
        "**Th time complexity of above code is O(n^2)**\n",
        "\n",
        "3)\n",
        "\n",
        "def example_function(arr):\n",
        "\n",
        "result = 0\n",
        "\n",
        "for element in arr:\n",
        "\n",
        "result += element\n",
        "\n",
        "return result\n",
        "\n",
        "**Th time complexity of above code is O(n)**\n",
        "\n",
        "4)\n",
        "\n",
        "def longest_increasing_subsequence(nums):\n",
        "\n",
        "n = len(nums)\n",
        "\n",
        "lis = [1] * n\n",
        "\n",
        "for i in range(1, n):\n",
        "\n",
        "for j in range(0, i):\n",
        "\n",
        "if nums[i] > nums[j] and lis[i] < lis[j] + 1:\n",
        "\n",
        "lis[i] = lis[j] + 1\n",
        "\n",
        "return max(lis)\n",
        "\n",
        "**Th time complexity of above code is O(n^2)**\n",
        "\n",
        "5)\n",
        "\n",
        "def mysterious_function(arr):\n",
        "\n",
        "n = len(arr)\n",
        "\n",
        "result = 0\n",
        "\n",
        "for i in range(n):\n",
        "\n",
        "for j in range(i, n):\n",
        "\n",
        "result += arr[i] * arr[j]\n",
        "\n",
        "return result\n",
        "\n",
        "**The time complexity of aove code is O(n^2)**"
      ],
      "metadata": {
        "id": "0Rvk8Y7D2UkQ"
      }
    },
    {
      "cell_type": "code",
      "execution_count": 1,
      "metadata": {
        "id": "dT_h18eV5cZ4",
        "colab": {
          "base_uri": "https://localhost:8080/"
        },
        "outputId": "f01b954f-7e1c-40a9-a4cd-b35637882825"
      },
      "outputs": [
        {
          "output_type": "stream",
          "name": "stdout",
          "text": [
            "6\n"
          ]
        }
      ],
      "source": [
        "def sum_of_digits(n):\n",
        "    if n < 10:\n",
        "        return n\n",
        "\n",
        "    return n % 10 + sum_of_digits(n // 10)\n",
        "\n",
        "result = sum_of_digits(123)\n",
        "print(result)\n"
      ]
    },
    {
      "cell_type": "code",
      "source": [
        "def fibonacci_series(n):\n",
        "    if n == 0:\n",
        "        return []\n",
        "    elif n == 1:\n",
        "        return [0]\n",
        "    elif n == 2:\n",
        "        return [0, 1]\n",
        "\n",
        "    fib_series = fibonacci_series(n - 1)\n",
        "    fib_series.append(fib_series[-1] + fib_series[-2])\n",
        "    return fib_series\n",
        "\n",
        "result = fibonacci_series(6)\n",
        "print(result)\n"
      ],
      "metadata": {
        "colab": {
          "base_uri": "https://localhost:8080/"
        },
        "id": "2VdOOymF4Pk_",
        "outputId": "6af6787d-21bf-4437-cbd7-1b8cf286b47f"
      },
      "execution_count": 2,
      "outputs": [
        {
          "output_type": "stream",
          "name": "stdout",
          "text": [
            "[0, 1, 1, 2, 3, 5]\n"
          ]
        }
      ]
    },
    {
      "cell_type": "code",
      "source": [
        "def subset_sum(nums, target_sum):\n",
        "\n",
        "    if target_sum == 0:\n",
        "        return True\n",
        "    if not nums or target_sum < 0:\n",
        "        return False\n",
        "\n",
        "    return subset_sum(nums[:-1], target_sum - nums[-1]) or subset_sum(nums[:-1], target_sum)\n",
        "\n",
        "result = subset_sum([3, 34, 4, 12, 5, 2], 9)\n",
        "print(result)\n"
      ],
      "metadata": {
        "colab": {
          "base_uri": "https://localhost:8080/"
        },
        "id": "hvLEQXaw4UyV",
        "outputId": "02159d07-1d89-4917-a9f2-1b03ff875dcf"
      },
      "execution_count": 3,
      "outputs": [
        {
          "output_type": "stream",
          "name": "stdout",
          "text": [
            "True\n"
          ]
        }
      ]
    },
    {
      "cell_type": "code",
      "source": [
        "def word_break(s, word_dict):\n",
        "    if not s:\n",
        "        return True\n",
        "\n",
        "    for i in range(1, len(s) + 1):\n",
        "        prefix = s[:i]\n",
        "        if prefix in word_dict and word_break(s[i:], word_dict):\n",
        "            return True\n",
        "\n",
        "    return False\n",
        "\n",
        "result = word_break(\"leetcode\", [\"leet\", \"code\"])\n",
        "print(result)\n"
      ],
      "metadata": {
        "colab": {
          "base_uri": "https://localhost:8080/"
        },
        "id": "f3nMivgM4aWI",
        "outputId": "6a1ef686-b377-4059-b1ab-c55bbe1dc04b"
      },
      "execution_count": 4,
      "outputs": [
        {
          "output_type": "stream",
          "name": "stdout",
          "text": [
            "True\n"
          ]
        }
      ]
    },
    {
      "cell_type": "code",
      "source": [
        "def is_safe(board, row, col, n):\n",
        "    for i in range(col):\n",
        "        if board[row][i] == 'Q':\n",
        "            return False\n",
        "\n",
        "    for i, j in zip(range(row, -1, -1), range(col, -1, -1)):\n",
        "        if board[i][j] == 'Q':\n",
        "            return False\n",
        "\n",
        "    for i, j in zip(range(row, n, 1), range(col, -1, -1)):\n",
        "        if board[i][j] == 'Q':\n",
        "            return False\n",
        "\n",
        "    return True\n",
        "\n",
        "def solve_n_queens_util(board, col, n, result):\n",
        "    if col == n:\n",
        "        result.append([\"\".join(row) for row in board])\n",
        "        return\n",
        "\n",
        "    for i in range(n):\n",
        "        if is_safe(board, i, col, n):\n",
        "            board[i][col] = 'Q'\n",
        "            solve_n_queens_util(board, col + 1, n, result)\n",
        "            board[i][col] = '.'\n",
        "\n",
        "def solve_n_queens(n):\n",
        "    board = [['.' for _ in range(n)] for _ in range(n)]\n",
        "    result = []\n",
        "    solve_n_queens_util(board, 0, n, result)\n",
        "    return result\n",
        "\n",
        "result = solve_n_queens(4)\n",
        "for solution in result:\n",
        "    for row in solution:\n",
        "        print(row)\n",
        "    print()\n"
      ],
      "metadata": {
        "colab": {
          "base_uri": "https://localhost:8080/"
        },
        "id": "oOu4wX-l4hdl",
        "outputId": "ed545a62-0380-42c2-a005-b15a4467fb4a"
      },
      "execution_count": 5,
      "outputs": [
        {
          "output_type": "stream",
          "name": "stdout",
          "text": [
            "..Q.\n",
            "Q...\n",
            "...Q\n",
            ".Q..\n",
            "\n",
            ".Q..\n",
            "...Q\n",
            "Q...\n",
            "..Q.\n",
            "\n"
          ]
        }
      ]
    },
    {
      "cell_type": "code",
      "source": [],
      "metadata": {
        "id": "UJ_ooGJa4pZd"
      },
      "execution_count": null,
      "outputs": []
    }
  ]
}