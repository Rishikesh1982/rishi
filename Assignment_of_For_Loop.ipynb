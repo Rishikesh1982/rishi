{
  "nbformat": 4,
  "nbformat_minor": 0,
  "metadata": {
    "colab": {
      "provenance": []
    },
    "kernelspec": {
      "name": "python3",
      "display_name": "Python 3"
    },
    "language_info": {
      "name": "python"
    }
  },
  "cells": [
    {
      "cell_type": "code",
      "execution_count": null,
      "metadata": {
        "colab": {
          "base_uri": "https://localhost:8080/"
        },
        "id": "6v3R6OUzinze",
        "outputId": "5625c319-240f-4867-f6af-6ff8fc7d8f5e"
      },
      "outputs": [
        {
          "output_type": "stream",
          "name": "stdout",
          "text": [
            "1\n",
            "2\n",
            "3\n",
            "4\n",
            "5\n",
            "6\n",
            "7\n",
            "8\n",
            "9\n",
            "10\n"
          ]
        }
      ],
      "source": [
        "for i in range(0,10):\n",
        "  i+=1\n",
        "  print(i)"
      ]
    },
    {
      "cell_type": "code",
      "source": [
        "l=[1,2,3,4,5,6]\n",
        "a=0\n",
        "for x in range(0,len(l)):\n",
        "  a=a+l[x]\n",
        "print(a)"
      ],
      "metadata": {
        "colab": {
          "base_uri": "https://localhost:8080/"
        },
        "id": "ZM1RQAwgkQFO",
        "outputId": "5a9d13e8-1cb0-41d0-cb6e-0032c0e597d9"
      },
      "execution_count": null,
      "outputs": [
        {
          "output_type": "stream",
          "name": "stdout",
          "text": [
            "21\n"
          ]
        }
      ]
    },
    {
      "cell_type": "code",
      "source": [
        "s=str(input())\n",
        "s1=\"\"\n",
        "for b in s:\n",
        "  s1=b+s1\n",
        "print(s1)"
      ],
      "metadata": {
        "colab": {
          "base_uri": "https://localhost:8080/"
        },
        "id": "l5K6QXKVlDDM",
        "outputId": "e477e2c6-2b4a-4428-9501-c2bc0948c61d"
      },
      "execution_count": null,
      "outputs": [
        {
          "output_type": "stream",
          "name": "stdout",
          "text": [
            "my name is rishikesh reddy\n",
            "ydder hsekihsir si eman ym\n"
          ]
        }
      ]
    },
    {
      "cell_type": "code",
      "source": [
        "j=int(input())\n",
        "l=1\n",
        "for k in range(1,j+1):\n",
        "  l=l*k\n",
        "print(l)"
      ],
      "metadata": {
        "colab": {
          "base_uri": "https://localhost:8080/"
        },
        "id": "7BavDZGWnjfq",
        "outputId": "9f0c51cf-8e99-44cc-ea95-e63302ef7444"
      },
      "execution_count": null,
      "outputs": [
        {
          "output_type": "stream",
          "name": "stdout",
          "text": [
            "6\n",
            "720\n"
          ]
        }
      ]
    },
    {
      "cell_type": "code",
      "source": [
        "number=int(input())\n",
        "range_of_mul_table=int(input())\n",
        "for z in range(0,range_of_mul_table):\n",
        "  z+=1\n",
        "  multiplication_table=number*z\n",
        "  print(number,'x',z,'=',multiplication_table)"
      ],
      "metadata": {
        "colab": {
          "base_uri": "https://localhost:8080/"
        },
        "id": "6Qr7JXPTpbDT",
        "outputId": "eebdecd1-3645-4efa-acf8-58036eb940d7"
      },
      "execution_count": null,
      "outputs": [
        {
          "output_type": "stream",
          "name": "stdout",
          "text": [
            "9\n",
            "15\n",
            "9 x 1 = 9\n",
            "9 x 2 = 18\n",
            "9 x 3 = 27\n",
            "9 x 4 = 36\n",
            "9 x 5 = 45\n",
            "9 x 6 = 54\n",
            "9 x 7 = 63\n",
            "9 x 8 = 72\n",
            "9 x 9 = 81\n",
            "9 x 10 = 90\n",
            "9 x 11 = 99\n",
            "9 x 12 = 108\n",
            "9 x 13 = 117\n",
            "9 x 14 = 126\n",
            "9 x 15 = 135\n"
          ]
        }
      ]
    },
    {
      "cell_type": "code",
      "source": [
        "l1=[12,34,5,788,34,99,3,5]\n",
        "no_of_even_numbers,no_of_odd_numbers=0,0\n",
        "for num in l1:\n",
        "  if num%2==0:\n",
        "    no_of_even_numbers+=1\n",
        "  else:\n",
        "    no_of_odd_numbers+=1\n",
        "print(no_of_even_numbers)\n",
        "print(no_of_odd_numbers)"
      ],
      "metadata": {
        "id": "X7W_Zu2RuCKY",
        "colab": {
          "base_uri": "https://localhost:8080/"
        },
        "outputId": "9fbb6db1-2d58-4f99-a892-ed0bcd78f593"
      },
      "execution_count": null,
      "outputs": [
        {
          "output_type": "stream",
          "name": "stdout",
          "text": [
            "4\n",
            "4\n"
          ]
        }
      ]
    },
    {
      "cell_type": "code",
      "source": [
        " for square in range(0,5):\n",
        "  b=square+1\n",
        "  b=b**2\n",
        "  print(b)"
      ],
      "metadata": {
        "colab": {
          "base_uri": "https://localhost:8080/"
        },
        "id": "GzfhTL9_MBBq",
        "outputId": "fe03aef8-8dc2-4363-ba21-38661bf33e68"
      },
      "execution_count": null,
      "outputs": [
        {
          "output_type": "stream",
          "name": "stdout",
          "text": [
            "1\n",
            "4\n",
            "9\n",
            "16\n",
            "25\n"
          ]
        }
      ]
    },
    {
      "cell_type": "code",
      "source": [
        "s2=str(input())\n",
        "#len(s2)\n",
        "length=sum(s2.count(s2)for s2 in s2)\n",
        "print(length)"
      ],
      "metadata": {
        "id": "ss1rhUCoMzip",
        "colab": {
          "base_uri": "https://localhost:8080/"
        },
        "outputId": "571cbd4c-c96f-4478-9cb1-ae18c51860a3"
      },
      "execution_count": null,
      "outputs": [
        {
          "output_type": "stream",
          "name": "stdout",
          "text": [
            "my name is rishikeshreddy\n",
            "25\n"
          ]
        }
      ]
    },
    {
      "cell_type": "code",
      "source": [
        "l=[1,2,3,4,5,6]\n",
        "a=0\n",
        "for x in range(0,len(l)):\n",
        "  a=a+l[x]/len(l)\n",
        "print(a)"
      ],
      "metadata": {
        "colab": {
          "base_uri": "https://localhost:8080/"
        },
        "id": "bq_pdbFsNysE",
        "outputId": "d58381f3-a164-4706-878a-ffffc15ae05a"
      },
      "execution_count": null,
      "outputs": [
        {
          "output_type": "stream",
          "name": "stdout",
          "text": [
            "3.5\n"
          ]
        }
      ]
    },
    {
      "cell_type": "code",
      "source": [
        "d=int(input())\n",
        "first = 0\n",
        "second = 1\n",
        "print(first)\n",
        "for x in range(1,d):\n",
        "  print(second)\n",
        "  third = first + second\n",
        "  first,second=second,third"
      ],
      "metadata": {
        "colab": {
          "base_uri": "https://localhost:8080/"
        },
        "id": "9-4uhrR-PlE1",
        "outputId": "f748c24f-220b-4a28-e995-a4cdc176bc02"
      },
      "execution_count": null,
      "outputs": [
        {
          "output_type": "stream",
          "name": "stdout",
          "text": [
            "10\n",
            "0\n",
            "1\n",
            "1\n",
            "2\n",
            "3\n",
            "5\n",
            "8\n",
            "13\n",
            "21\n",
            "34\n"
          ]
        }
      ]
    },
    {
      "cell_type": "code",
      "source": [
        "lis = [1,2,2,4,34,5,6,5,7,3,8,11,2,7,0]\n",
        "unique_list = []\n",
        "duplicate_list = []\n",
        "for m in lis:\n",
        "    if m not in unique_list:\n",
        "        unique_list.append(m)\n",
        "    elif m not in duplicate_list:\n",
        "        duplicate_list.append(m)\n",
        "print('duplicates in given list are',duplicate_list)\n",
        "print(unique_list)"
      ],
      "metadata": {
        "colab": {
          "base_uri": "https://localhost:8080/"
        },
        "id": "iUKqcC1_V3Du",
        "outputId": "4214ca84-e49e-4df3-bcb1-52c56e27944b"
      },
      "execution_count": null,
      "outputs": [
        {
          "output_type": "stream",
          "name": "stdout",
          "text": [
            "duplicates in given list are [2, 5, 7]\n",
            "[1, 2, 4, 34, 5, 6, 7, 3, 8, 11, 0]\n"
          ]
        }
      ]
    },
    {
      "cell_type": "code",
      "source": [
        "x=int(input())\n",
        "y=int(input())\n",
        "prime_list = []\n",
        "for i in range(x, y):\n",
        "  if i == 0 or i == 1:\n",
        "    continue\n",
        "  else:\n",
        "    for j in range(2, int(i/2)+1):\n",
        "      if i % j == 0:\n",
        "        break\n",
        "    else:\n",
        "        prime_list.append(i)\n",
        "print(prime_list)"
      ],
      "metadata": {
        "colab": {
          "base_uri": "https://localhost:8080/"
        },
        "id": "xEHM2iqRd5Hv",
        "outputId": "2479e700-d697-45e1-c579-8f3c435b6a87"
      },
      "execution_count": null,
      "outputs": [
        {
          "output_type": "stream",
          "name": "stdout",
          "text": [
            "2\n",
            "9\n",
            "[2, 3, 5, 7]\n"
          ]
        }
      ]
    },
    {
      "cell_type": "code",
      "source": [
        "string=str(input())\n",
        "vowels='AEIOUaeiou'\n",
        "no_of_vowels=sum(string.count(vowels)for vowels in vowels)\n",
        "print(no_of_vowels)"
      ],
      "metadata": {
        "colab": {
          "base_uri": "https://localhost:8080/"
        },
        "id": "bfb6lhWuijp3",
        "outputId": "9781ea4b-c162-4d11-8fa0-e4a7ccfcd0c5"
      },
      "execution_count": null,
      "outputs": [
        {
          "output_type": "stream",
          "name": "stdout",
          "text": [
            "my name is rishikesh reddy\n",
            "7\n"
          ]
        }
      ]
    },
    {
      "cell_type": "code",
      "source": [
        "list1=[[2,3,45],[16,18,56],[23,26,78.0]]\n",
        "max_element=0\n",
        "for rows in list1:\n",
        "  for elements in rows:\n",
        "    if elements>max_element:\n",
        "      max_element=elements\n",
        "print(max_element)"
      ],
      "metadata": {
        "colab": {
          "base_uri": "https://localhost:8080/"
        },
        "id": "LsgIn9w8qJ0k",
        "outputId": "aa3f4bbd-3d9f-40ed-dcc9-314fa74720ab"
      },
      "execution_count": null,
      "outputs": [
        {
          "output_type": "stream",
          "name": "stdout",
          "text": [
            "78.0\n"
          ]
        }
      ]
    },
    {
      "cell_type": "code",
      "source": [
        "list2=[1,2,3,4,12,3,4,21,1,5,34,2,4,6,7,8,9,0,9,8,7,6,1,4,3,5]\n",
        "element_to_remove=int(input())\n",
        "list3=[]\n",
        "for element in list2:\n",
        "  if element!=element_to_remove:\n",
        "    list3.append(element)\n",
        "print(list2)\n",
        "print(list3)"
      ],
      "metadata": {
        "colab": {
          "base_uri": "https://localhost:8080/"
        },
        "id": "1bnP0ARfrPwy",
        "outputId": "37879865-ff10-4d3e-83e0-1e2a9bf1d7f4"
      },
      "execution_count": null,
      "outputs": [
        {
          "output_type": "stream",
          "name": "stdout",
          "text": [
            "3\n",
            "[1, 2, 3, 4, 12, 3, 4, 21, 1, 5, 34, 2, 4, 6, 7, 8, 9, 0, 9, 8, 7, 6, 1, 4, 3, 5]\n",
            "[1, 2, 4, 12, 4, 21, 1, 5, 34, 2, 4, 6, 7, 8, 9, 0, 9, 8, 7, 6, 1, 4, 5]\n"
          ]
        }
      ]
    },
    {
      "cell_type": "code",
      "source": [
        "start_num = 1\n",
        "end_num = 5\n",
        "for t in range(start_num, end_num + 1):\n",
        "    print(f\"{t}\")\n",
        "    for o in range(1, 11):\n",
        "        product = t * o\n",
        "        print(f\"{t} x {o} = {product}\")"
      ],
      "metadata": {
        "colab": {
          "base_uri": "https://localhost:8080/"
        },
        "id": "wulbmLAJrrt2",
        "outputId": "451512f6-6200-400d-e3e1-cea024fe3556"
      },
      "execution_count": null,
      "outputs": [
        {
          "output_type": "stream",
          "name": "stdout",
          "text": [
            "1\n",
            "1 x 1 = 1\n",
            "1 x 2 = 2\n",
            "1 x 3 = 3\n",
            "1 x 4 = 4\n",
            "1 x 5 = 5\n",
            "1 x 6 = 6\n",
            "1 x 7 = 7\n",
            "1 x 8 = 8\n",
            "1 x 9 = 9\n",
            "1 x 10 = 10\n",
            "2\n",
            "2 x 1 = 2\n",
            "2 x 2 = 4\n",
            "2 x 3 = 6\n",
            "2 x 4 = 8\n",
            "2 x 5 = 10\n",
            "2 x 6 = 12\n",
            "2 x 7 = 14\n",
            "2 x 8 = 16\n",
            "2 x 9 = 18\n",
            "2 x 10 = 20\n",
            "3\n",
            "3 x 1 = 3\n",
            "3 x 2 = 6\n",
            "3 x 3 = 9\n",
            "3 x 4 = 12\n",
            "3 x 5 = 15\n",
            "3 x 6 = 18\n",
            "3 x 7 = 21\n",
            "3 x 8 = 24\n",
            "3 x 9 = 27\n",
            "3 x 10 = 30\n",
            "4\n",
            "4 x 1 = 4\n",
            "4 x 2 = 8\n",
            "4 x 3 = 12\n",
            "4 x 4 = 16\n",
            "4 x 5 = 20\n",
            "4 x 6 = 24\n",
            "4 x 7 = 28\n",
            "4 x 8 = 32\n",
            "4 x 9 = 36\n",
            "4 x 10 = 40\n",
            "5\n",
            "5 x 1 = 5\n",
            "5 x 2 = 10\n",
            "5 x 3 = 15\n",
            "5 x 4 = 20\n",
            "5 x 5 = 25\n",
            "5 x 6 = 30\n",
            "5 x 7 = 35\n",
            "5 x 8 = 40\n",
            "5 x 9 = 45\n",
            "5 x 10 = 50\n"
          ]
        }
      ]
    },
    {
      "cell_type": "code",
      "source": [
        "fahrenheit_temperatures = [32, 68, 77, 104, 212]\n",
        "celsius_temperatures = []\n",
        "for temp_fahrenheit in fahrenheit_temperatures:\n",
        "    temp_celsius = (temp_fahrenheit - 32) * 5/9\n",
        "    celsius_temperatures.append(temp_celsius)\n",
        "print(\"Fahrenheit Temperatures:\", fahrenheit_temperatures)\n",
        "print(\"Celsius Temperatures:\", celsius_temperatures)"
      ],
      "metadata": {
        "colab": {
          "base_uri": "https://localhost:8080/"
        },
        "id": "LP57q3Sy0uW1",
        "outputId": "5af646c4-859c-470b-d5bf-ffb3572c7fe9"
      },
      "execution_count": null,
      "outputs": [
        {
          "output_type": "stream",
          "name": "stdout",
          "text": [
            "Fahrenheit Temperatures: [32, 68, 77, 104, 212]\n",
            "Celsius Temperatures: [0.0, 20.0, 25.0, 40.0, 100.0]\n"
          ]
        }
      ]
    },
    {
      "cell_type": "code",
      "source": [
        "list4 = [1, 2, 3, 4, 5]\n",
        "list5 = [3, 4, 5, 6, 7]\n",
        "common_elements = []\n",
        "for element1 in list4:\n",
        "  for element2 in list5:\n",
        "    if element1 == element2:\n",
        "      if element1 not in common_elements:\n",
        "        common_elements.append(element1)\n",
        "print(\"Common elements:\", common_elements)\n"
      ],
      "metadata": {
        "colab": {
          "base_uri": "https://localhost:8080/"
        },
        "id": "0HGWV-siAQea",
        "outputId": "975a8f6b-45cb-4cae-ad42-a6bb4bd65bd4"
      },
      "execution_count": null,
      "outputs": [
        {
          "output_type": "stream",
          "name": "stdout",
          "text": [
            "Common elements: [3, 4, 5]\n"
          ]
        }
      ]
    },
    {
      "cell_type": "code",
      "source": [
        "num_rows=int(input())\n",
        "for u in range(1,num_rows+1):\n",
        "  for w in range(u):\n",
        "    print('*',end=' ')\n",
        "  print()"
      ],
      "metadata": {
        "colab": {
          "base_uri": "https://localhost:8080/"
        },
        "id": "VN9dRDBPA_Tf",
        "outputId": "54a9b819-b5be-4ad0-caea-ad8ab09173de"
      },
      "execution_count": null,
      "outputs": [
        {
          "output_type": "stream",
          "name": "stdout",
          "text": [
            "9\n",
            "* \n",
            "* * \n",
            "* * * \n",
            "* * * * \n",
            "* * * * * \n",
            "* * * * * * \n",
            "* * * * * * * \n",
            "* * * * * * * * \n",
            "* * * * * * * * * \n"
          ]
        }
      ]
    },
    {
      "cell_type": "code",
      "source": [
        "def GCD( a, b):\n",
        "    if a > b:\n",
        "        temp = b\n",
        "    else:\n",
        "        temp = a\n",
        "    for i in range(1, temp + 1):\n",
        "        if (( a % i == 0) and (b % i == 0 )):\n",
        "            gcd = i\n",
        "    return gcd\n",
        "x = int(input (\" Enter the first number: \") )\n",
        "y =int (input (\" Enter the second number: \"))\n",
        "num = GCD(x, y)\n",
        "print(\"GCD of two number is: \")\n",
        "print(num)"
      ],
      "metadata": {
        "id": "595b3ZQMCjPH",
        "colab": {
          "base_uri": "https://localhost:8080/"
        },
        "outputId": "910b09b3-054e-4d70-f808-0a2a9f4ef80d"
      },
      "execution_count": null,
      "outputs": [
        {
          "output_type": "stream",
          "name": "stdout",
          "text": [
            " Enter the first number: 45\n",
            " Enter the second number: 30\n",
            "GCD of two number is: \n",
            "15\n"
          ]
        }
      ]
    },
    {
      "cell_type": "code",
      "source": [
        "test_list = [12, 67, 98, 34]\n",
        "print(\"The original list is : \" , str(test_list))\n",
        "res = []\n",
        "for ele in test_list:\n",
        "    sum = 0\n",
        "    for digit in str(ele):\n",
        "        sum += int(digit)\n",
        "    res.append(sum)\n",
        "print (\"sum of the digits of the numbers =\" , str(res))"
      ],
      "metadata": {
        "colab": {
          "base_uri": "https://localhost:8080/"
        },
        "id": "c1DKjRErqzga",
        "outputId": "7f82f013-ac18-4f94-bfed-178a4a7452f3"
      },
      "execution_count": null,
      "outputs": [
        {
          "output_type": "stream",
          "name": "stdout",
          "text": [
            "The original list is :  [12, 67, 98, 34]\n",
            "sum of the digits of the numbers = [3, 13, 17, 7]\n"
          ]
        }
      ]
    },
    {
      "cell_type": "code",
      "source": [
        "l1=[12,6,78,96]\n",
        "prime_factors=[]\n",
        "for k in l1:\n",
        "    for i in range(2, k + 1):\n",
        "        if(k % i == 0):\n",
        "            isprime = 1\n",
        "            for j in range(2, (i //2 + 1)):\n",
        "                if(i % j == 0):\n",
        "                    isprime = 0\n",
        "                break\n",
        "            if (isprime == 1):\n",
        "                prime_factors.append(i)\n",
        "    print(prime_factors)"
      ],
      "metadata": {
        "colab": {
          "base_uri": "https://localhost:8080/"
        },
        "id": "tdPuJebOA9Nv",
        "outputId": "5d5a9e23-9577-4b60-fccf-13591222c662"
      },
      "execution_count": null,
      "outputs": [
        {
          "output_type": "stream",
          "name": "stdout",
          "text": [
            "[2, 3]\n",
            "[2, 3, 2, 3]\n",
            "[2, 3, 2, 3, 2, 3, 13, 39]\n",
            "[2, 3, 2, 3, 2, 3, 13, 39, 2, 3]\n"
          ]
        }
      ]
    },
    {
      "cell_type": "code",
      "source": [
        "lis = [1,2,2,4,34,5,6,5,7,3,8,11,2,7,0]\n",
        "unique_list = []\n",
        "for m in lis:\n",
        "    if m not in unique_list:\n",
        "        unique_list.append(m)\n",
        "print(unique_list)"
      ],
      "metadata": {
        "colab": {
          "base_uri": "https://localhost:8080/"
        },
        "id": "FVfNSCjVHoip",
        "outputId": "e2ab9aa1-8a5f-4b3d-e6aa-6f2090d4c95d"
      },
      "execution_count": null,
      "outputs": [
        {
          "output_type": "stream",
          "name": "stdout",
          "text": [
            "[1, 2, 4, 34, 5, 6, 7, 3, 8, 11, 0]\n"
          ]
        }
      ]
    },
    {
      "cell_type": "code",
      "source": [
        "limit=int(input(\"enter the limit for palindrome numbers :\"))\n",
        "palindromic_numbers=[]\n",
        "for num1 in range(1,limit+1):\n",
        "    if str(num1)==str(num1)[::-1]:\n",
        "        palindromic_numbers.append(num1)\n",
        "print(\"the palindromic numbers in the specified limit are :\" ,palindromic_numbers)"
      ],
      "metadata": {
        "colab": {
          "base_uri": "https://localhost:8080/"
        },
        "id": "d07jIU6VNBqQ",
        "outputId": "790151ff-6f49-41c0-fe54-081d8aeb2e3c"
      },
      "execution_count": null,
      "outputs": [
        {
          "output_type": "stream",
          "name": "stdout",
          "text": [
            "enter the limit for palindrome numbers :100\n",
            "the palindromic numbers in the specified limit are : [1, 2, 3, 4, 5, 6, 7, 8, 9, 11, 22, 33, 44, 55, 66, 77, 88, 99]\n"
          ]
        }
      ]
    },
    {
      "cell_type": "code",
      "source": [
        "nested_list=[[1, 2, 3], [4, 5], [6, 7, 8]]\n",
        "flattened_list=[]\n",
        "for sublist in nested_list:\n",
        "    for elements2 in sublist:\n",
        "        flattened_list.append(elements2)\n",
        "print(flattened_list)\n"
      ],
      "metadata": {
        "colab": {
          "base_uri": "https://localhost:8080/"
        },
        "id": "YmfeTRWjUZU4",
        "outputId": "6409f322-3703-4086-f2da-2b522df2cc3b"
      },
      "execution_count": null,
      "outputs": [
        {
          "output_type": "stream",
          "name": "stdout",
          "text": [
            "[1, 2, 3, 4, 5, 6, 7, 8]\n"
          ]
        }
      ]
    },
    {
      "cell_type": "code",
      "source": [
        "numbers1 = [1, 2, 3, 4, 5, 6, 7, 8, 9, 10]\n",
        "list0=[]\n",
        "even_sum1=0\n",
        "odd_sum1=0\n",
        "for x1 in numbers1:\n",
        "    if x1%2==0:\n",
        "        even_sum1+=x1\n",
        "    else:\n",
        "        odd_sum1+=x1\n",
        "list0.append(even_sum1)\n",
        "list0.append(odd_sum1)\n",
        "print(\"sum of even numbers and odd numbers shown seperately in the given list : \",list0)"
      ],
      "metadata": {
        "colab": {
          "base_uri": "https://localhost:8080/"
        },
        "id": "RNlbXPMlaKSq",
        "outputId": "9ab26865-aeef-4509-8bd9-b0394b983bf6"
      },
      "execution_count": null,
      "outputs": [
        {
          "output_type": "stream",
          "name": "stdout",
          "text": [
            "sum of even numbers and odd numbers shown seperately in the given list :  [30, 25]\n"
          ]
        }
      ]
    },
    {
      "cell_type": "code",
      "source": [
        "numbers2=[1,2,3,4,5,6,7,8,9,10]\n",
        "oddnum_squares=[]\n",
        "for x2 in numbers2:\n",
        "  if x2%2!= 0:\n",
        "    squares=x2**2\n",
        "    oddnum_squares.append(squares)\n",
        "print(\"squares of odd numbers from 1 to 10 are \",oddnum_squares)"
      ],
      "metadata": {
        "colab": {
          "base_uri": "https://localhost:8080/"
        },
        "id": "nFuf2MPAc50L",
        "outputId": "8ec4e8b1-39d9-4b35-88c3-0b5390fe1ba4"
      },
      "execution_count": null,
      "outputs": [
        {
          "output_type": "stream",
          "name": "stdout",
          "text": [
            "squares of odd numbers from 1 to 10 are  [1, 9, 25, 49, 81]\n"
          ]
        }
      ]
    },
    {
      "cell_type": "code",
      "source": [
        "keys = [\"rishi\", \"madhav\", \"victor\"]\n",
        "values = [1, 2, 3]\n",
        "d = {}\n",
        "for key in keys:\n",
        "  for value in values:\n",
        "    d[key] = value\n",
        "    values.remove(value)\n",
        "    break\n",
        "print(\"Resultant dictionary is : \" ,d)"
      ],
      "metadata": {
        "id": "0NlLceMXedGz",
        "colab": {
          "base_uri": "https://localhost:8080/"
        },
        "outputId": "1d13c6c5-b83b-4feb-9c9f-042339a627ec"
      },
      "execution_count": null,
      "outputs": [
        {
          "output_type": "stream",
          "name": "stdout",
          "text": [
            "Resultant dictionary is :  {'rishi': 1, 'madhav': 2, 'victor': 3}\n"
          ]
        }
      ]
    },
    {
      "cell_type": "code",
      "source": [
        "string1=str(input(\"enter the string :\"))\n",
        "vowels=\"AEIOUaeiou\"\n",
        "vowels_list=[]\n",
        "for vowel in vowels:\n",
        "  for letters in string1:\n",
        "    if vowel==letters:\n",
        "      vowels_list.append(letters)\n",
        "print(vowels_list)"
      ],
      "metadata": {
        "id": "pTrd8Fl_vu6w",
        "colab": {
          "base_uri": "https://localhost:8080/"
        },
        "outputId": "dc72b8c9-f6d6-4840-d4fd-d4826e15e621"
      },
      "execution_count": null,
      "outputs": [
        {
          "output_type": "stream",
          "name": "stdout",
          "text": [
            "enter the string :my name is rishikesh reddy\n",
            "['a', 'e', 'e', 'e', 'i', 'i', 'i']\n"
          ]
        }
      ]
    },
    {
      "cell_type": "code",
      "source": [
        "string_list = [\"abc123\", \"45xyz\", \"789\", \"hello456\"]\n",
        "numeric_strings = [''.join(c for c in s if c.isdigit()) for s in string_list]\n",
        "print(\"Numeric Strings:\", numeric_strings)"
      ],
      "metadata": {
        "colab": {
          "base_uri": "https://localhost:8080/"
        },
        "id": "XNkd74GtyCwt",
        "outputId": "2e86d316-328a-4398-8f5b-6a64cc755491"
      },
      "execution_count": null,
      "outputs": [
        {
          "output_type": "stream",
          "name": "stdout",
          "text": [
            "Numeric Strings: ['123', '45', '789', '456']\n"
          ]
        }
      ]
    },
    {
      "cell_type": "code",
      "source": [
        "def sieve_of_eratosthenes(n):\n",
        "    is_prime = [True] * (n + 1)\n",
        "    is_prime[0] = is_prime[1] = False\n",
        "    for p in range(2, int(n**0.5) + 1):\n",
        "        if is_prime[p]:\n",
        "            for i in range(p * p, n + 1, p):\n",
        "                is_prime[i] = False\n",
        "    primes = [i for i in range(2, n + 1) if is_prime[i]]\n",
        "    return primes\n",
        "limit = int(input(\"Enter the limit to generate prime numbers: \"))\n",
        "prime_numbers = sieve_of_eratosthenes(limit)\n",
        "print(\"Prime numbers up to\", limit, \"are:\", prime_numbers)\n"
      ],
      "metadata": {
        "colab": {
          "base_uri": "https://localhost:8080/"
        },
        "id": "Y7vbAvnW2phk",
        "outputId": "49383741-7789-4708-a0e4-4c62d7468dad"
      },
      "execution_count": null,
      "outputs": [
        {
          "output_type": "stream",
          "name": "stdout",
          "text": [
            "Enter the limit to generate prime numbers: 16\n",
            "Prime numbers up to 16 are: [2, 3, 5, 7, 11, 13]\n"
          ]
        }
      ]
    },
    {
      "cell_type": "code",
      "source": [
        "def generate_pythogorean_triplets1(limit1):\n",
        "    triplets1=[]\n",
        "    for a1 in range(1,limit1+1):\n",
        "      for b1 in range(a1,limit1+1):\n",
        "        for c1 in range(b1,limit1+1):\n",
        "          if a1**2+b1**2==c1**2:\n",
        "            triplets1.append((a1,b1,c1))\n",
        "    return triplets1\n",
        "\n",
        "limit1=int(input())\n",
        "pythagorean_triplets1=generate_pythogorean_triplets1(limit1)\n",
        "print(\"pythagorean triplets upto\",limit1,\"are\",pythagorean_triplets1)"
      ],
      "metadata": {
        "colab": {
          "base_uri": "https://localhost:8080/"
        },
        "id": "nznslfbJ63yr",
        "outputId": "0e935710-8168-45f5-bfa4-e4591653fc22"
      },
      "execution_count": null,
      "outputs": [
        {
          "output_type": "stream",
          "name": "stdout",
          "text": [
            "25\n",
            "pythagorean triplets upto 25 are [(3, 4, 5), (5, 12, 13), (6, 8, 10), (7, 24, 25), (8, 15, 17), (9, 12, 15), (12, 16, 20), (15, 20, 25)]\n"
          ]
        }
      ]
    },
    {
      "cell_type": "code",
      "source": [
        "list_1=[1,11,4,3,6,9,3,2,5,46]\n",
        "list_2=[1,4,6,78,89,6,4,8]\n",
        "combined_list=[]\n",
        "for x_1 in list_1:\n",
        "  for y_1 in list_2:\n",
        "    combined_list.append((x_1,y_1))\n",
        "print(combined_list)"
      ],
      "metadata": {
        "colab": {
          "base_uri": "https://localhost:8080/"
        },
        "id": "I1ErPLGc-N4k",
        "outputId": "04d735de-c18e-41e0-c252-f007ed9e5e4c"
      },
      "execution_count": null,
      "outputs": [
        {
          "output_type": "stream",
          "name": "stdout",
          "text": [
            "[(1, 1), (1, 4), (1, 6), (1, 78), (1, 89), (1, 6), (1, 4), (1, 8), (11, 1), (11, 4), (11, 6), (11, 78), (11, 89), (11, 6), (11, 4), (11, 8), (4, 1), (4, 4), (4, 6), (4, 78), (4, 89), (4, 6), (4, 4), (4, 8), (3, 1), (3, 4), (3, 6), (3, 78), (3, 89), (3, 6), (3, 4), (3, 8), (6, 1), (6, 4), (6, 6), (6, 78), (6, 89), (6, 6), (6, 4), (6, 8), (9, 1), (9, 4), (9, 6), (9, 78), (9, 89), (9, 6), (9, 4), (9, 8), (3, 1), (3, 4), (3, 6), (3, 78), (3, 89), (3, 6), (3, 4), (3, 8), (2, 1), (2, 4), (2, 6), (2, 78), (2, 89), (2, 6), (2, 4), (2, 8), (5, 1), (5, 4), (5, 6), (5, 78), (5, 89), (5, 6), (5, 4), (5, 8), (46, 1), (46, 4), (46, 6), (46, 78), (46, 89), (46, 6), (46, 4), (46, 8)]\n"
          ]
        }
      ]
    },
    {
      "cell_type": "code",
      "source": [
        "number_list1 = [1, 2, 2, 3, 4, 4, 4, 5]\n",
        "mean_median_mode1=[]\n",
        "temp=0\n",
        "frequency1={}\n",
        "for num1 in number_list1:\n",
        "    temp=num1+temp\n",
        "    Mean1=temp/len(number_list1)\n",
        "    if num1 in frequency1:\n",
        "      frequency1[num1]+=1\n",
        "    else:\n",
        "      frequency1[num1]=1\n",
        "max_frequency1=max(frequency1.values())\n",
        "for key1,value1 in frequency1.items():\n",
        "  if value1==max_frequency1:\n",
        "    Mode1=key1\n",
        "sorted_numbers1 = sorted(number_list1)\n",
        "middle1 = len(sorted_numbers1) // 2\n",
        "if len(sorted_numbers1) % 2 == 0:\n",
        "  Median1 = (sorted_numbers1[middle1 - 1] + sorted_numbers1[middle1]) / 2\n",
        "else:\n",
        "  Median1 = sorted_numbers1[middle1]\n",
        "mean_median_mode1.append((Mean1,Median1,Mode1))\n",
        "print(mean_median_mode1)"
      ],
      "metadata": {
        "colab": {
          "base_uri": "https://localhost:8080/"
        },
        "id": "6uaquzAdT3Fl",
        "outputId": "ecaee86b-b1e2-4489-c82a-e8d6eda2a4e4"
      },
      "execution_count": 2,
      "outputs": [
        {
          "output_type": "stream",
          "name": "stdout",
          "text": [
            "[(3.125, 3.5, 4)]\n"
          ]
        }
      ]
    },
    {
      "cell_type": "code",
      "source": [
        "def generate_pascals_triangle(num_rows):\n",
        "    if num_rows <= 0:\n",
        "        return []\n",
        "    triangle = [[1]]\n",
        "    for _ in range(1, num_rows):\n",
        "        previous_row = triangle[-1]\n",
        "        next_row = [1] + [previous_row[i] + previous_row[i + 1] for i in range(len(previous_row) - 1)] + [1]\n",
        "        triangle.append(next_row)\n",
        "    return triangle\n",
        "num_rows = int(input(\"Enter the number of rows for Pascal's triangle: \"))\n",
        "pascals_triangle = generate_pascals_triangle(num_rows)\n",
        "for row in pascals_triangle:\n",
        "    print(\" \".join(map(str, row)).center(num_rows * 3))\n"
      ],
      "metadata": {
        "colab": {
          "base_uri": "https://localhost:8080/"
        },
        "id": "UQiNckEQirVM",
        "outputId": "3686410f-0f43-4c13-bae9-5450da8b7714"
      },
      "execution_count": null,
      "outputs": [
        {
          "output_type": "stream",
          "name": "stdout",
          "text": [
            "Enter the number of rows for Pascal's triangle: 6\n",
            "        1         \n",
            "       1 1        \n",
            "      1 2 1       \n",
            "     1 3 3 1      \n",
            "    1 4 6 4 1     \n",
            "  1 5 10 10 5 1   \n"
          ]
        }
      ]
    },
    {
      "cell_type": "code",
      "source": [
        "list1=[1,2,3,4,5]\n",
        "factorial1=1\n",
        "factorial_num1=[]\n",
        "sum_digits_factorial=[]\n",
        "sum1=0\n",
        "a=1\n",
        "for n1 in list1:\n",
        "  if n1==0 :\n",
        "    print(1)\n",
        "  else:\n",
        "    factorial1=factorial1*n1\n",
        "    factorial_num1.append(factorial1)\n",
        "for num1 in factorial_num1:\n",
        "  for digit1 in str(num1):\n",
        "    sum1=sum1+int(digit1)\n",
        "  sum_digits_factorial.append(sum1)\n",
        "  sum1=0\n",
        "print(\"the factorial of \",list1,\"is\",factorial_num1,\"sum of digits of the factorials is\", sum_digits_factorial)"
      ],
      "metadata": {
        "id": "4OiLu9GRj6CC",
        "colab": {
          "base_uri": "https://localhost:8080/"
        },
        "outputId": "d635a0d4-abd8-4d64-cb0f-5a4a201ac016"
      },
      "execution_count": 3,
      "outputs": [
        {
          "output_type": "stream",
          "name": "stdout",
          "text": [
            "the factorial of  [1, 2, 3, 4, 5] is [1, 2, 6, 24, 120] sum of digits of the factorials is [1, 2, 6, 6, 3]\n"
          ]
        }
      ]
    },
    {
      "cell_type": "code",
      "source": [
        "list1=[\"my anme is rishikesh reddy\"]\n",
        "longest_word=[]\n",
        "s=str(list1)\n",
        "max_length1=0\n",
        "words1=s.split()\n",
        "for word1 in words1:\n",
        "    word2=' '.join(filter(str.isalnum,word1))\n",
        "    word_length1=len(word2)\n",
        "    if word_length1>max_length1:\n",
        "        longest_word1=word1\n",
        "        max_length1=word_length1\n",
        "longest_word.append(longest_word1)\n",
        "print(longest_word)"
      ],
      "metadata": {
        "colab": {
          "base_uri": "https://localhost:8080/"
        },
        "id": "AX8oArY6BPF8",
        "outputId": "a2cac9f3-4268-4623-a90a-688dfc76a955"
      },
      "execution_count": 4,
      "outputs": [
        {
          "output_type": "stream",
          "name": "stdout",
          "text": [
            "['rishikesh']\n"
          ]
        }
      ]
    },
    {
      "cell_type": "code",
      "source": [
        "def count_vowels(string):\n",
        "  vowels = \"aeiouAEIOU\"\n",
        "  return sum(1 for char in string if char in vowels)\n",
        "string_list1 = [\"apple\", \"banana\", \"cherry\", \"grapefruit\", \"strawberry\", \"kiwi\"]\n",
        "filtered_strings1=[]\n",
        "for string1 in string_list1:\n",
        "    if count_vowels(string1)>3:\n",
        "        filtered_strings1.append(string1)\n",
        "print(filtered_strings1)"
      ],
      "metadata": {
        "colab": {
          "base_uri": "https://localhost:8080/"
        },
        "id": "vUrnhp6hGA8y",
        "outputId": "4b8fb604-2d23-42a8-ac96-75d06a7d9a07"
      },
      "execution_count": 5,
      "outputs": [
        {
          "output_type": "stream",
          "name": "stdout",
          "text": [
            "['grapefruit']\n"
          ]
        }
      ]
    },
    {
      "cell_type": "code",
      "source": [
        "def sum_of_digits(num):\n",
        "  return sum(int(digits)for digits in str(num))\n",
        "sums=[sum_of_digits(num) for num in range(1,1001)]\n",
        "total_sum=[sum(sums)]\n",
        "print(total_sum)"
      ],
      "metadata": {
        "colab": {
          "base_uri": "https://localhost:8080/"
        },
        "id": "8wMH71bTIe5H",
        "outputId": "4395f278-435b-48d3-bce6-8fdf41cd0ae8"
      },
      "execution_count": 7,
      "outputs": [
        {
          "output_type": "stream",
          "name": "stdout",
          "text": [
            "[13501]\n"
          ]
        }
      ]
    },
    {
      "cell_type": "code",
      "source": [
        "def is_palindrome(number):\n",
        "  return str(number) == str(number)[::-1]\n",
        "def is_prime(number):\n",
        "  if number <= 1:\n",
        "    return False\n",
        "  if number == 2:\n",
        "    return True\n",
        "  if number % 2 == 0:\n",
        "    return False\n",
        "  for d in range(3, int(number**0.5) + 1, 2):\n",
        "    if number % d == 0:\n",
        "      return False\n",
        "  return True\n",
        "prime_palindromic_numbers = []\n",
        "for num in range(1, 1000):\n",
        "    if is_palindrome(num) and is_prime(num):\n",
        "        prime_palindromic_numbers.append(num)\n",
        "print(prime_palindromic_numbers)\n"
      ],
      "metadata": {
        "colab": {
          "base_uri": "https://localhost:8080/"
        },
        "id": "p8B6VR28KBeD",
        "outputId": "91153041-04c1-4a09-b419-65565431ed8e"
      },
      "execution_count": 9,
      "outputs": [
        {
          "output_type": "stream",
          "name": "stdout",
          "text": [
            "[2, 3, 5, 7, 11, 101, 131, 151, 181, 191, 313, 353, 373, 383, 727, 757, 787, 797, 919, 929]\n"
          ]
        }
      ]
    },
    {
      "cell_type": "code",
      "source": [],
      "metadata": {
        "id": "jT5PFY3DMNjd"
      },
      "execution_count": null,
      "outputs": []
    }
  ]
}