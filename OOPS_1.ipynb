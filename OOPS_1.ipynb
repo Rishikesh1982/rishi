{
  "nbformat": 4,
  "nbformat_minor": 0,
  "metadata": {
    "colab": {
      "provenance": []
    },
    "kernelspec": {
      "name": "python3",
      "display_name": "Python 3"
    },
    "language_info": {
      "name": "python"
    }
  },
  "cells": [
    {
      "cell_type": "code",
      "source": [
        "class Bank_Account :\n",
        "  def __init__(self, Account_number, Account_holder_name, Balance = 0.0):\n",
        "    self.accountnumber = Account_number\n",
        "    self.accountholder = Account_holder_name\n",
        "    self.accountbalance = Balance\n",
        "  def Deposit(self,amount):\n",
        "    if amount > 0 :\n",
        "      self.accountbalance += amount\n",
        "      print(f\"Deposited amount {amount}. Total balnce : {self.accountbalance}\")\n",
        "    else :\n",
        "      print(\"Invalid Amount.\")\n",
        "  def Withdraw(self,amount):\n",
        "    if amount > 0 and amount <= self.accountbalance:\n",
        "      self.accountbalance -= amount\n",
        "      print(f\"Withdrawl amount {amount}. Total balnce : {self.accountbalance}\")\n",
        "    elif amount > self.accountbalance:\n",
        "      print(\"Insufficient Funds\")\n",
        "  def Account_details(self):\n",
        "    print(f\"Account Number : {self.accountnumber}\")\n",
        "    print(f\"Account Holder Name : {self.accountholder}\")\n",
        "    print(f\"Account Balance : {self.accountbalance}\")\n",
        "  def check_balance(self):\n",
        "    return self.accountbalance\n",
        "\n",
        "Account = Bank_Account(8564219753,\"Rishikesh\")\n",
        "Account.Account_details()\n",
        "Account.Deposit(1500)\n",
        "Account.Withdraw(500)\n",
        "Account.Account_details()"
      ],
      "metadata": {
        "colab": {
          "base_uri": "https://localhost:8080/"
        },
        "id": "zqT5Tkx2_7H_",
        "outputId": "38533edc-bf2d-428e-f3ce-d0addf2d3c4f"
      },
      "execution_count": null,
      "outputs": [
        {
          "output_type": "stream",
          "name": "stdout",
          "text": [
            "Account Number : 8564219753\n",
            "Account Holder Name : Rishikesh\n",
            "Account Balance : 0.0\n",
            "Deposited amount 1500. Total balnce : 1500.0\n",
            "Withdrawl amount 500. Total balnce : 1000.0\n",
            "Account Number : 8564219753\n",
            "Account Holder Name : Rishikesh\n",
            "Account Balance : 1000.0\n"
          ]
        }
      ]
    },
    {
      "cell_type": "code",
      "source": [
        "class Employee:\n",
        "  def __init__(self,employee_name,employee_id,salary):\n",
        "    self.name = employee_name\n",
        "    self.id = employee_id\n",
        "    self.salary = salary\n",
        "  def Yearly_Bonus(self,bonus_percentage):\n",
        "    bonus = (bonus_percentage/100)*self.salary\n",
        "    return bonus\n",
        "  def Employee_Details(self):\n",
        "    print(f\"Employee Name: {self.name}\")\n",
        "    print(f\"Employee Id: {self.id}\")\n",
        "    print(f\"Employee Salary: {self.salary}\")\n",
        "\n",
        "employee = Employee(\"Rishikesh reddy\",2561,50000)\n",
        "employee.Employee_Details()\n",
        "bonus_percentage = 10\n",
        "Bonus = employee.Yearly_Bonus(bonus_percentage)\n",
        "print(f\"Yearly Bonus : {Bonus:.2f}\")"
      ],
      "metadata": {
        "colab": {
          "base_uri": "https://localhost:8080/"
        },
        "id": "2r7A2-bAFbU6",
        "outputId": "53df0a6e-d87e-4cc4-8c4e-d946ae307690"
      },
      "execution_count": null,
      "outputs": [
        {
          "output_type": "stream",
          "name": "stdout",
          "text": [
            "Employee Name: Rishikesh reddy\n",
            "Employee Id: 2561\n",
            "Employee Salary: 50000\n",
            "Yearly Bonus : 5000.00\n"
          ]
        }
      ]
    },
    {
      "cell_type": "code",
      "source": [
        "class Vehical_Renting_System:\n",
        "  def __init__(self):\n",
        "    self.available_vehicles = {}\n",
        "    self.rented_vehicles = {}\n",
        "  def add_vehicles(self, vehicle_id, vehicle_name):\n",
        "    if vehicle_id not in self.available_vehicles:\n",
        "      self.available_vehicles[vehicle_id] = vehicle_name\n",
        "      print(f\"added {vehicle_name}, Id = {vehicle_id} is added to the available vehicles\")\n",
        "    else :\n",
        "      print(f\"{vehicle_id} is already exist in the avilable vehicles\")\n",
        "  def rent_vehicles(self,vehicle_id,customer_name):\n",
        "    if vehicle_id in self.available_vehicles:\n",
        "      vehicle_name = self.available_vehicles.pop(vehicle_id)\n",
        "      self.rented_vehicles[vehicle_id] = (vehicle_name,customer_name)\n",
        "      print(f\"the vehicle id {vehicle_id} is rented by our customer {customer_name}\")\n",
        "    else :\n",
        "      print(f\"the vehicle id {vehicle_id} is already rented by another customer\")\n",
        "  def return_vehicle(self,vehicle_id):\n",
        "    if vehicle_id in self.rented_vehicles:\n",
        "      vehicle_name,customer_name = self.rented_vehicles.pop(vehicle_id)\n",
        "      self.available_vehicles[vehicle_id] = vehicle_name\n",
        "      print(f\"the vehicle {vehicle_id} is returned and aded to available vehicles\")\n",
        "    else :\n",
        "      print(f\"the vehicle {vehicle_id} is not currently not rented\")\n",
        "  def display_available_vehicles(self):\n",
        "    print(\"Available vehicle :\")\n",
        "    for vehicle_id,vehicle_name in self.available_vehicles.items():\n",
        "      print(f\"{vehicle_id} : {vehicle_name}\")\n",
        "\n",
        "\n",
        "\n",
        "Rental_system = Vehical_Renting_System()\n",
        "Rental_system.add_vehicles(2340,\"Maruti\")\n",
        "Rental_system.add_vehicles(2341,\"BMW\")\n",
        "Rental_system.add_vehicles(2342,\"NANO\")\n",
        "Rental_system.display_available_vehicles()\n",
        "Rental_system.rent_vehicles(2341,\"Rishikesh\")\n",
        "Rental_system.rented_vehicles\n",
        "Rental_system.display_available_vehicles()\n",
        "Rental_system.return_vehicle(2341)\n",
        "Rental_system.display_available_vehicles()"
      ],
      "metadata": {
        "id": "8anw1QEvKoA3",
        "colab": {
          "base_uri": "https://localhost:8080/"
        },
        "outputId": "08f02f1b-b390-4dfd-fdf2-4c49fc17354b"
      },
      "execution_count": null,
      "outputs": [
        {
          "output_type": "stream",
          "name": "stdout",
          "text": [
            "added Maruti, Id = 2340 is added to the available vehicles\n",
            "added BMW, Id = 2341 is added to the available vehicles\n",
            "added NANO, Id = 2342 is added to the available vehicles\n",
            "Available vehicle :\n",
            "2340 : Maruti\n",
            "2341 : BMW\n",
            "2342 : NANO\n",
            "the vehicle id 2341 is rented by our customer Rishikesh\n",
            "Available vehicle :\n",
            "2340 : Maruti\n",
            "2342 : NANO\n",
            "the vehicle 2341 is returned and aded to available vehicles\n",
            "Available vehicle :\n",
            "2340 : Maruti\n",
            "2342 : NANO\n",
            "2341 : BMW\n"
          ]
        }
      ]
    },
    {
      "cell_type": "code",
      "source": [
        "class Books:\n",
        "  def __init__(self,book_id,book_name,author):\n",
        "    self.bookid = book_id\n",
        "    self.title = book_name\n",
        "    self.author = author\n",
        "    self.is_available = True\n",
        "  def __str__(self):\n",
        "    Availability = \"available\" if self.is_available else \"borrowed\"\n",
        "    return (f\"{self.title} by {self.author}  ({Availability})\")\n",
        "\n",
        "class Library:\n",
        "  def __init__(self):\n",
        "    self.books = {}\n",
        "  def Add_Books(self,book_id,book_name,author):\n",
        "    if book_id not in self.books:\n",
        "      self.books[book_id] = Books(book_id,book_name,author)\n",
        "      print(f\"The {book_id} with title {book_name} written by {author} is Added to the library\")\n",
        "    else :\n",
        "      print(f\"The {book_id} is already registered in library\")\n",
        "  def Borrow_books(self,book_id,borrower_name):\n",
        "    if book_id in self.books :\n",
        "      book = self.books[book_id]\n",
        "      if book.is_available:\n",
        "        book.is_available = False\n",
        "        print(f\"The book id {book.bookid} with title {book.title} is  borrowed by {borrower_name}\")\n",
        "      else:\n",
        "        print(f\"'{book.title}' is already borrowed.\")\n",
        "    else :\n",
        "      print(f\"Book with ID {book_id} is not in the library.\")\n",
        "  def display_available_books(self):\n",
        "    print(\"Available Books:\")\n",
        "    available_books = [str(book1) for book1 in self.books.values() if book1.is_available]\n",
        "    if available_books:\n",
        "      print(\"\\n\".join(available_books))\n",
        "    else:\n",
        "      print(\"No available books in the library.\")\n",
        "\n",
        "\n",
        "library = Library()\n",
        "library.Add_Books(2384,\"Data Science\",\"A.K\")\n",
        "library.Add_Books(2383,\"Python\",\"H.J\")\n",
        "library.display_available_books()\n",
        "library.Borrow_books(2383,\"rishikesh\")\n",
        "library.display_available_books()"
      ],
      "metadata": {
        "colab": {
          "base_uri": "https://localhost:8080/"
        },
        "id": "DRMW3nM5giVr",
        "outputId": "21015140-2afc-4c93-8215-4e8e8002ee75"
      },
      "execution_count": null,
      "outputs": [
        {
          "output_type": "stream",
          "name": "stdout",
          "text": [
            "The 2384 with title Data Science written by A.K is Added to the library\n",
            "The 2383 with title Python written by H.J is Added to the library\n",
            "Available Books:\n",
            "Data Science by A.K  (available)\n",
            "Python by H.J  (available)\n",
            "The book id 2383 with title Python is  borrowed by rishikesh\n",
            "Available Books:\n",
            "Data Science by A.K  (available)\n"
          ]
        }
      ]
    },
    {
      "cell_type": "code",
      "source": [
        "class Product :\n",
        "  def __init__(self,id,name,price,quantity):\n",
        "    self.product_id = id\n",
        "    self.product_name = name\n",
        "    self.product_price = price\n",
        "    self.product_quantity = quantity\n",
        "  def __str__(self):\n",
        "    return f\"{self.product_name}, (ID = {self.product_id}), (price : {self.product_price}), (quantity : {self.product_quantity})\"\n",
        "\n",
        "class Inventorysystem :\n",
        "  def __init__(self):\n",
        "    self.inventory = {}\n",
        "  def Add_products(self,id,name,price,quantity):\n",
        "    if id not in self.inventory:\n",
        "      product = Product(id,name,price,quantity)\n",
        "      self.inventory[id] = product\n",
        "      print(f\"{name} is added into the inventory\")\n",
        "    else :\n",
        "      print(f\"The product ID {id} is already registered in inventory\")\n",
        "  def Update_product_quantity(self,id,quantity_change):\n",
        "    if id in self.inventory :\n",
        "      product = self.inventory[id]\n",
        "      product.product_quantity += quantity_change\n",
        "      print(f\"Updated quantity of {product.product_name} to {product.product_quantity}.\")\n",
        "    else:\n",
        "      print(f\"Product with ID {id} is not in the inventory.\")\n",
        "  def Display_available_products(self):\n",
        "    print(\"Available Products :\")\n",
        "    Available_products = [str(product) for product in self.inventory.values() if product.product_quantity > 0]\n",
        "    if Available_products :\n",
        "      print(\"\\n\".join(Available_products))\n",
        "    else :\n",
        "      print(\"No Available products are in inventory\")\n",
        "\n",
        "\n",
        "inventory = Inventorysystem()\n",
        "inventory.Add_products(1,'Fantasy',20,1000)\n",
        "inventory.Add_products(2,'Biscuits',10,500)\n",
        "inventory.Add_products(3,'Icecreams',50,100)\n",
        "inventory.Display_available_products()\n",
        "inventory.Update_product_quantity(2,700)\n",
        "inventory.Display_available_products()"
      ],
      "metadata": {
        "colab": {
          "base_uri": "https://localhost:8080/"
        },
        "id": "ixmhd-9Jol0V",
        "outputId": "8dc06f19-1a76-474b-e6d7-2280ed8b0714"
      },
      "execution_count": null,
      "outputs": [
        {
          "output_type": "stream",
          "name": "stdout",
          "text": [
            "Fantasy is added into the inventory\n",
            "Biscuits is added into the inventory\n",
            "Icecreams is added into the inventory\n",
            "Available Products :\n",
            "Fantasy, (ID = 1), (price : 20), (quantity : 1000)\n",
            "Biscuits, (ID = 2), (price : 10), (quantity : 500)\n",
            "Icecreams, (ID = 3), (price : 50), (quantity : 100)\n",
            "Updated quantity of Biscuits to 1200.\n",
            "Available Products :\n",
            "Fantasy, (ID = 1), (price : 20), (quantity : 1000)\n",
            "Biscuits, (ID = 2), (price : 10), (quantity : 1200)\n",
            "Icecreams, (ID = 3), (price : 50), (quantity : 100)\n"
          ]
        }
      ]
    },
    {
      "cell_type": "code",
      "source": [
        "class SHAPES:\n",
        "  def __init__(self,length=0,width=0,height=0):\n",
        "    self.length = length\n",
        "    self.width = width\n",
        "    self.height = height\n",
        "\n",
        "class Rectangle(SHAPES):\n",
        "  def area_rectangle(self):\n",
        "    return self.length * self.width\n",
        "  def perimeter_rectangle(self):\n",
        "    return 2*(self.length+self.width)\n",
        "class Cube(SHAPES):\n",
        "  def area_cube (self):\n",
        "    return 6*(self.length**2)\n",
        "  def perimeter_cube(self):\n",
        "    return 12*self.length\n",
        "class Triangle(SHAPES):\n",
        "  def area_triangle(self):\n",
        "    return 0.5 * self.length * self.height\n",
        "  def perimeter_triangle(self):\n",
        "    return self.length + self.height + self.width\n",
        "\n",
        "\n",
        "\n",
        "rectangle = Rectangle(8,6)\n",
        "cube = Cube(6)\n",
        "triangle = Triangle(3,4,8)\n",
        "print(f\"Rectangle :\\n Area = {rectangle.area_rectangle()}\\n Perimeter = {rectangle.perimeter_rectangle()}\")\n",
        "print(f\"Cube :\\n Area = {cube.area_cube()}\\n Perimeter = {cube.perimeter_cube()}\")\n",
        "print(f\"Triangle :\\n Area = {triangle.area_triangle()}\\n Perimeter = {triangle.perimeter_triangle()}\")"
      ],
      "metadata": {
        "colab": {
          "base_uri": "https://localhost:8080/"
        },
        "id": "fz6feBM_wbks",
        "outputId": "77f63ee1-4ad0-4af8-a1b8-8d914d87435c"
      },
      "execution_count": null,
      "outputs": [
        {
          "output_type": "stream",
          "name": "stdout",
          "text": [
            "Rectangle :\n",
            " Area = 48\n",
            " Perimeter = 28\n",
            "Cube :\n",
            " Area = 216\n",
            " Perimeter = 72\n",
            "Triangle :\n",
            " Area = 12.0\n",
            " Perimeter = 15\n"
          ]
        }
      ]
    },
    {
      "cell_type": "code",
      "source": [
        "class Student:\n",
        "  def __init__(self,student_id, student_name):\n",
        "    self.student_id = student_id\n",
        "    self.student_name = student_name\n",
        "    self.grades = []\n",
        "  def Add_grades(self,grade):\n",
        "    self.grades.append(grade)\n",
        "  def Average_calculation(self):\n",
        "    if len(self.grades) == 0 :\n",
        "      return 0\n",
        "    return sum(self.grades)/len(self.grades)\n",
        "  def Dispalt_student_details(self):\n",
        "    print(\"Student Name : \",self.student_name)\n",
        "    print(\"Student ID : \",self.student_id)\n",
        "    print(\"Grades : \",self.grades)\n",
        "    print(f\"Average Grade : {self.Average_calculation():.2f}\")\n",
        "\n",
        "\n",
        "student = Student(20,\"Rishikesh\")\n",
        "student.Add_grades(89)\n",
        "student.Add_grades(95)\n",
        "student.Add_grades(60)\n",
        "student.Add_grades(78)\n",
        "student.Dispalt_student_details()"
      ],
      "metadata": {
        "id": "cxy_XdMz7kIJ",
        "colab": {
          "base_uri": "https://localhost:8080/"
        },
        "outputId": "d830d4ff-b567-4172-9054-a9786cff4074"
      },
      "execution_count": 2,
      "outputs": [
        {
          "output_type": "stream",
          "name": "stdout",
          "text": [
            "Student Name :  Rishikesh\n",
            "Student ID :  20\n",
            "Grades :  [89, 95, 60, 78]\n",
            "Average Grade : 80.50\n"
          ]
        }
      ]
    },
    {
      "cell_type": "code",
      "source": [
        "class Email:\n",
        "  def __init__(self,sender,recipient,subject,message):\n",
        "    self.sender = sender\n",
        "    self.recipient = recipient\n",
        "    self.subject = subject\n",
        "    self.message = message\n",
        "  def Send_Email(self):\n",
        "    print(\"Email sent\")\n",
        "  def Display_emaildetails(self):\n",
        "    print(\"Email sent by : \",self.sender)\n",
        "    print(\"Email sent to : \",self.recipient)\n",
        "    print('Subject of Mail : ',self.subject)\n",
        "    print(\"Message :\\n\", self.message)\n",
        "\n",
        "sender = \"r45876@gmail.com\"\n",
        "recipient = \"v0hgdf246@gmail.com\"\n",
        "subject = \"HI!\"\n",
        "message = \"This is my message\"\n",
        "email = Email(sender,recipient,subject,message)\n",
        "email.Send_Email()\n",
        "email.Display_emaildetails()"
      ],
      "metadata": {
        "colab": {
          "base_uri": "https://localhost:8080/"
        },
        "id": "NuQTeCvQapbC",
        "outputId": "94bfc063-e51e-4cfc-b699-dfad2053ca16"
      },
      "execution_count": 5,
      "outputs": [
        {
          "output_type": "stream",
          "name": "stdout",
          "text": [
            "Email sent\n",
            "Email sent by :  r45876@gmail.com\n",
            "Email sent to :  v0hgdf246@gmail.com\n",
            "Subject of Mail :  HI!\n",
            "Message :\n",
            " This is my message\n"
          ]
        }
      ]
    },
    {
      "cell_type": "code",
      "source": [
        "class Social_Media:\n",
        "  def __init__(self,user_name):\n",
        "    self.user_name = user_name\n",
        "    self.posts = []\n",
        "  def Add_posts(self,posts):\n",
        "    self.posts.append(posts)\n",
        "  def Display_Posts(self):\n",
        "    print(f\"Posts by {self.user_name}\")\n",
        "    for i, post in enumerate(self.posts,start=1):\n",
        "      print(f\"{i} {post}\")\n",
        "  def Search_post_keyword(self,keyword):\n",
        "    keyword_post = [post for post in self.posts if keyword in post]\n",
        "    if keyword_post :\n",
        "      print(f\"The post with the {keyword} is found\")\n",
        "      for i,post in enumerate(keyword_post,start=1):\n",
        "        print(f\"{i} : {post}\")\n",
        "    else :\n",
        "      print(f\"The post with the {keyword} is not found\")\n",
        "\n",
        "\n",
        "socialmedia = Social_Media(\"rishi67432\")\n",
        "socialmedia.Add_posts(\"I Love social media\")\n",
        "socialmedia.Add_posts(\"This is my first post\")\n",
        "socialmedia.Add_posts(\"I am starting a new Youtube channel\")\n",
        "socialmedia.Display_Posts()\n",
        "socialmedia.Search_post_keyword(\"channel\")"
      ],
      "metadata": {
        "colab": {
          "base_uri": "https://localhost:8080/"
        },
        "id": "__LXlMpgduBh",
        "outputId": "0b93f5ea-dd8a-47e1-a6c1-e7dccb538369"
      },
      "execution_count": 7,
      "outputs": [
        {
          "output_type": "stream",
          "name": "stdout",
          "text": [
            "Posts by rishi67432\n",
            "1 I Love social media\n",
            "2 This is my first post\n",
            "3 I am starting a new Youtube channel\n",
            "The post with the channel is found\n",
            "1 : I am starting a new Youtube channel\n"
          ]
        }
      ]
    },
    {
      "cell_type": "code",
      "source": [
        "class ToDoList:\n",
        "  def __init__(self):\n",
        "    self.tasks = []\n",
        "  def add_task(self, task, due_date):\n",
        "    self.tasks.append({\"task\": task, \"due_date\": due_date, \"completed\": False})\n",
        "  def mark_task_completed(self, task):\n",
        "    for t in self.tasks:\n",
        "      if t[\"task\"] == task:\n",
        "        t[\"completed\"] = True\n",
        "        break\n",
        "  def display_pending_tasks(self):\n",
        "    print(\"Pending Tasks:\")\n",
        "    for task in self.tasks:\n",
        "      if not task[\"completed\"]:\n",
        "        print(f\"Task: {task['task']}, Due Date: {task['due_date']}\")\n",
        "\n",
        "\n",
        "todo_list = ToDoList()\n",
        "todo_list.add_task(\"Buy groceries\", \"2023-10-30\")\n",
        "todo_list.add_task(\"Prepare presentation\", \"2023-11-05\")\n",
        "todo_list.add_task(\"Finish project\", \"2023-11-10\")\n",
        "todo_list.mark_task_completed(\"Buy groceries\")\n",
        "todo_list.display_pending_tasks()"
      ],
      "metadata": {
        "colab": {
          "base_uri": "https://localhost:8080/"
        },
        "id": "6HAhGB9khc9I",
        "outputId": "49ed936a-2621-4dfb-b030-e5e229a4c667"
      },
      "execution_count": 8,
      "outputs": [
        {
          "output_type": "stream",
          "name": "stdout",
          "text": [
            "Pending Tasks:\n",
            "Task: Prepare presentation, Due Date: 2023-11-05\n",
            "Task: Finish project, Due Date: 2023-11-10\n"
          ]
        }
      ]
    },
    {
      "cell_type": "code",
      "source": [],
      "metadata": {
        "id": "CysIfFuEq1En"
      },
      "execution_count": null,
      "outputs": []
    }
  ]
}