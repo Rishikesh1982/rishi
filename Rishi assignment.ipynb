{
 "cells": [
  {
   "cell_type": "code",
   "execution_count": 1,
   "id": "256415e3-d927-47c9-b640-72feec5d4846",
   "metadata": {},
   "outputs": [
    {
     "name": "stdout",
     "output_type": "stream",
     "text": [
      "20 10\n"
     ]
    }
   ],
   "source": [
    "#swapping of two numbers without temporary variable\n",
    "x=10\n",
    "y=20\n",
    "x,y=y,x\n",
    "print(x,y)"
   ]
  },
  {
   "cell_type": "code",
   "execution_count": 2,
   "id": "26822792-afeb-46c0-a1f1-dcbc59c9d894",
   "metadata": {},
   "outputs": [
    {
     "name": "stdin",
     "output_type": "stream",
     "text": [
      "length of rectangle 7\n",
      "width of rectangle 8\n"
     ]
    },
    {
     "name": "stdout",
     "output_type": "stream",
     "text": [
      "area of rectangle = 56.0\n"
     ]
    }
   ],
   "source": [
    "#area of rectangle\n",
    "l= float(input(\"length of rectangle\"))\n",
    "w=float(input(\"width of rectangle\"))\n",
    "area=l*w\n",
    "print(\"area of rectangle =\", area)"
   ]
  },
  {
   "cell_type": "code",
   "execution_count": 3,
   "id": "cc26dabd-d820-480a-b591-4d5e1440d847",
   "metadata": {},
   "outputs": [
    {
     "name": "stdin",
     "output_type": "stream",
     "text": [
      " 30.5\n"
     ]
    },
    {
     "name": "stdout",
     "output_type": "stream",
     "text": [
      "86.9\n"
     ]
    }
   ],
   "source": [
    "#celsius to fahrenheit\n",
    "C = float(input())\n",
    "F = C*9/5+32\n",
    "print(F)"
   ]
  },
  {
   "cell_type": "code",
   "execution_count": 1,
   "id": "e222fc78-ea63-4f64-85c3-dfd6a31ebad1",
   "metadata": {},
   "outputs": [
    {
     "name": "stdin",
     "output_type": "stream",
     "text": [
      " Rishi\n"
     ]
    },
    {
     "data": {
      "text/plain": [
       "5"
      ]
     },
     "execution_count": 1,
     "metadata": {},
     "output_type": "execute_result"
    }
   ],
   "source": [
    "#length of the string\n",
    "string=str(input())\n",
    "len(string)"
   ]
  },
  {
   "cell_type": "code",
   "execution_count": 2,
   "id": "07724722-ccf2-4191-ba9d-e305d225dd69",
   "metadata": {},
   "outputs": [
    {
     "name": "stdin",
     "output_type": "stream",
     "text": [
      " currently i am learning coding\n"
     ]
    },
    {
     "name": "stdout",
     "output_type": "stream",
     "text": [
      "The numbers of vowels in the sentence is 9\n"
     ]
    }
   ],
   "source": [
    "#Vowels count in a sentence\n",
    "s1=str(input())\n",
    "count=s1.count(\"a\")+s1.count(\"e\")+s1.count(\"i\")+s1.count(\"o\")+s1.count(\"u\")\n",
    "print(\"The numbers of vowels in the sentence is\", count)"
   ]
  },
  {
   "cell_type": "code",
   "execution_count": 5,
   "id": "a98af690-db3c-4c2c-b129-e5bfabadaafb",
   "metadata": {},
   "outputs": [
    {
     "name": "stdin",
     "output_type": "stream",
     "text": [
      " pwskills\n"
     ]
    },
    {
     "data": {
      "text/plain": [
       "'sllikswp'"
      ]
     },
     "execution_count": 5,
     "metadata": {},
     "output_type": "execute_result"
    }
   ],
   "source": [
    "# reversed string\n",
    "s2=str(input())\n",
    "s2[::-1]"
   ]
  },
  {
   "cell_type": "code",
   "execution_count": 3,
   "id": "81245e3b-9064-4a51-980c-659674ddb153",
   "metadata": {},
   "outputs": [
    {
     "name": "stdin",
     "output_type": "stream",
     "text": [
      " malayalam\n"
     ]
    },
    {
     "name": "stdout",
     "output_type": "stream",
     "text": [
      "The word is palindrome\n"
     ]
    }
   ],
   "source": [
    "#check the given word is palindrome or not\n",
    "s3=input()\n",
    "s4=s3[::-1]\n",
    "if (s4==s3):\n",
    "    print(\"The word is palindrome\")\n",
    "else :\n",
    "    print(\"The word is not palindrome\")"
   ]
  },
  {
   "cell_type": "code",
   "execution_count": 4,
   "id": "4f4ffe9f-8626-4687-bf86-322b06c4e721",
   "metadata": {},
   "outputs": [
    {
     "name": "stdin",
     "output_type": "stream",
     "text": [
      " my name is rishikesh\n"
     ]
    },
    {
     "data": {
      "text/plain": [
       "'mynameisrishikesh'"
      ]
     },
     "execution_count": 4,
     "metadata": {},
     "output_type": "execute_result"
    }
   ],
   "source": [
    "# removing the spaces in the given sentence\n",
    "s5=str(input())\n",
    "s5.replace(\" \",\"\")"
   ]
  },
  {
   "cell_type": "code",
   "execution_count": null,
   "id": "02abc1fa-e296-4120-8b7f-8dfccf2b5518",
   "metadata": {},
   "outputs": [],
   "source": []
  }
 ],
 "metadata": {
  "kernelspec": {
   "display_name": "Python 3 (ipykernel)",
   "language": "python",
   "name": "python3"
  },
  "language_info": {
   "codemirror_mode": {
    "name": "ipython",
    "version": 3
   },
   "file_extension": ".py",
   "mimetype": "text/x-python",
   "name": "python",
   "nbconvert_exporter": "python",
   "pygments_lexer": "ipython3",
   "version": "3.10.8"
  }
 },
 "nbformat": 4,
 "nbformat_minor": 5
}
