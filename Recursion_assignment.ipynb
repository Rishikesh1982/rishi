{
  "nbformat": 4,
  "nbformat_minor": 0,
  "metadata": {
    "colab": {
      "provenance": []
    },
    "kernelspec": {
      "name": "python3",
      "display_name": "Python 3"
    },
    "language_info": {
      "name": "python"
    }
  },
  "cells": [
    {
      "cell_type": "code",
      "execution_count": 1,
      "metadata": {
        "colab": {
          "base_uri": "https://localhost:8080/"
        },
        "id": "hBMtqibop_sB",
        "outputId": "fee1434d-88fd-410e-d1a6-93046cac865f"
      },
      "outputs": [
        {
          "output_type": "stream",
          "name": "stdout",
          "text": [
            "Move disk 1 from A to C\n",
            "Move disk 2 from A to B\n",
            "Move disk 1 from C to B\n",
            "Move disk 3 from A to C\n",
            "Move disk 1 from B to A\n",
            "Move disk 2 from B to C\n",
            "Move disk 1 from A to C\n"
          ]
        }
      ],
      "source": [
        "def tower_of_hanoi(n, source_rod, target_rod, auxiliary_rod):\n",
        "    if n == 1:\n",
        "        print(f\"Move disk 1 from {source_rod} to {target_rod}\")\n",
        "        return\n",
        "    tower_of_hanoi(n-1, source_rod, auxiliary_rod, target_rod)\n",
        "    print(f\"Move disk {n} from {source_rod} to {target_rod}\")\n",
        "    tower_of_hanoi(n-1, auxiliary_rod, target_rod, source_rod)\n",
        "\n",
        "tower_of_hanoi(3, 'A', 'C', 'B')\n"
      ]
    },
    {
      "cell_type": "markdown",
      "source": [
        "Now, let's understand how the movements of disks between rods are accomplished:\n",
        "\n",
        "**Move the top n-1 disks from the source rod to the auxiliary rod:**\n",
        "\n",
        "This step is achieved by a recursive call to the tower_of_hanoi function with a reduced value of n and a reordering of the rods. The target rod in the recursive call becomes the auxiliary rod in the original call.\n",
        "\n",
        "**Move the nth disk from the source rod to the target rod:**\n",
        "\n",
        "This step is a direct movement of the nth disk from the source rod to the target rod. The print statement in the code reflects this move.\n",
        "\n",
        "**Move the n-1 disks from the auxiliary rod to the target rod:**\n",
        "\n",
        "This step is again accomplished by a recursive call, but with the auxiliary rod now playing the role of the source rod in the original call."
      ],
      "metadata": {
        "id": "0LFpK592vgxa"
      }
    },
    {
      "cell_type": "code",
      "source": [
        "def min_distance(word1, word2):\n",
        "    m, n = len(word1), len(word2)\n",
        "\n",
        "    # Initialize a 2D array to store the minimum number of operations\n",
        "    dp = [[0] * (n + 1) for _ in range(m + 1)]\n",
        "    print(dp)\n",
        "    # Initialize the first row and column\n",
        "    for i in range(m + 1):\n",
        "        dp[i][0] = i\n",
        "    for j in range(n + 1):\n",
        "        dp[0][j] = j\n",
        "\n",
        "    # Fill in the rest of the array\n",
        "    for i in range(1, m + 1):\n",
        "        for j in range(1, n + 1):\n",
        "            if word1[i - 1] == word2[j - 1]:\n",
        "                dp[i][j] = dp[i - 1][j - 1]\n",
        "            else:\n",
        "                dp[i][j] = 1 + min(dp[i - 1][j],\n",
        "                                  dp[i][j - 1],\n",
        "                                  dp[i - 1][j - 1])\n",
        "\n",
        "    return dp[m][n]\n",
        "word1 = \"horse\"\n",
        "word2 = \"ros\"\n",
        "result = min_distance(word1, word2)\n",
        "print(result)\n"
      ],
      "metadata": {
        "colab": {
          "base_uri": "https://localhost:8080/"
        },
        "id": "2yp-c_N0v6rq",
        "outputId": "9e6ba33e-3051-477f-dd3f-30f2d18fea20"
      },
      "execution_count": 2,
      "outputs": [
        {
          "output_type": "stream",
          "name": "stdout",
          "text": [
            "[[0, 0, 0, 0], [0, 0, 0, 0], [0, 0, 0, 0], [0, 0, 0, 0], [0, 0, 0, 0], [0, 0, 0, 0]]\n",
            "3\n"
          ]
        }
      ]
    },
    {
      "cell_type": "code",
      "source": [
        "def max_of_array(arr):\n",
        "  return max(arr)\n",
        "\n",
        "\n",
        "arr = [13,1,-3,22,5]\n",
        "result = max_of_array(arr)\n",
        "print(result)"
      ],
      "metadata": {
        "colab": {
          "base_uri": "https://localhost:8080/"
        },
        "id": "QDqp_QiSwq7R",
        "outputId": "688b985c-343d-4c92-b47a-ca68922078c1"
      },
      "execution_count": 4,
      "outputs": [
        {
          "output_type": "stream",
          "name": "stdout",
          "text": [
            "22\n"
          ]
        }
      ]
    },
    {
      "cell_type": "code",
      "source": [
        "def sum_of_array(arr1):\n",
        "  return sum(arr1)\n",
        "arr1 = [92, 23, 15, -20, 10]\n",
        "r = sum_of_array(arr1)\n",
        "print(r)"
      ],
      "metadata": {
        "colab": {
          "base_uri": "https://localhost:8080/"
        },
        "id": "a4_YF5pryu8B",
        "outputId": "575666e2-a533-4235-de11-490f76fa58e7"
      },
      "execution_count": 5,
      "outputs": [
        {
          "output_type": "stream",
          "name": "stdout",
          "text": [
            "120\n"
          ]
        }
      ]
    },
    {
      "cell_type": "code",
      "source": [
        "def is_amstrong_number(num):\n",
        "  num_str = str(num)\n",
        "  num_of_digits = len(num_str)\n",
        "  amstrong_sum = sum(int(digits)**num_of_digits for digits in num_str)\n",
        "  if amstrong_sum == num:\n",
        "    return 'yes'\n",
        "  else :\n",
        "    return 'No'\n",
        "\n",
        "number = int(input())\n",
        "Result = is_amstrong_number(number)\n",
        "print(Result)"
      ],
      "metadata": {
        "colab": {
          "base_uri": "https://localhost:8080/"
        },
        "id": "QsBLGD2lznB-",
        "outputId": "88cd69e6-dec6-46ae-ce33-508116f5454e"
      },
      "execution_count": 7,
      "outputs": [
        {
          "output_type": "stream",
          "name": "stdout",
          "text": [
            "153\n",
            "yes\n"
          ]
        }
      ]
    },
    {
      "cell_type": "code",
      "source": [],
      "metadata": {
        "id": "niy0nAhj1qgW"
      },
      "execution_count": null,
      "outputs": []
    }
  ]
}