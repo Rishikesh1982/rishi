{
  "nbformat": 4,
  "nbformat_minor": 0,
  "metadata": {
    "colab": {
      "provenance": []
    },
    "kernelspec": {
      "name": "python3",
      "display_name": "Python 3"
    },
    "language_info": {
      "name": "python"
    }
  },
  "cells": [
    {
      "cell_type": "markdown",
      "source": [
        "**CONSTRUCTOR**"
      ],
      "metadata": {
        "id": "6CICdoCGJaJY"
      }
    },
    {
      "cell_type": "markdown",
      "source": [
        "\n",
        "1) In Python, a constructor is a special method used to initialize an object's attributes when an object is created. The constructor method is named __init__() and is automatically called when you create an instance of a class. Its primary purpose is to set up the initial state of the object by assigning values to its attributes.\n",
        "\n",
        "2) Parameterless constructor:\n",
        "\n",
        "A parameterless constructor, often referred to as a default constructor, does not take any parameters.\n",
        "\n",
        "It is defined without any parameters in the __init__ method.\n",
        "\n",
        "Its purpose is to set up default values for the object's attributes.\n",
        "\n",
        "Parameterized constructor:\n",
        "\n",
        "A parameterized constructor takes one or more parameters.\n",
        "\n",
        "It is defined with parameters in the __init__ method, in addition to the self parameter.\n",
        "\n",
        "Its purpose is to initialize the object's attributes with values provided during object creation\n",
        "\n",
        "3)The __init__ method is a special method used for initializing objects. It is commonly referred to as the constructor method because it is automatically called when an instance of a class is created. The purpose of the __init__ method is to set up the initial state of the object by assigning values to its attributes.\n",
        "\n",
        "4) In Python, the __init__ method is a special method that is automatically called when an object is created from a class. It stands for \"initialize\" and is commonly used to set up the initial state of an object. The __init__ method is often referred to as the constructor of a class."
      ],
      "metadata": {
        "id": "WB2o8_HS28Wa"
      }
    },
    {
      "cell_type": "code",
      "source": [
        "class Person:\n",
        "  def __init__(self,name,age):\n",
        "    self.name = name\n",
        "    self.age = age\n",
        "\n",
        "person1 = Person(\"Rishikesh\",25)\n",
        "\n",
        "print(f'{person1.name}\\n {person1.age}')"
      ],
      "metadata": {
        "colab": {
          "base_uri": "https://localhost:8080/"
        },
        "id": "tVn9cHz14PWr",
        "outputId": "e1f9d810-3f35-49e6-dfbd-30d55c173931"
      },
      "execution_count": null,
      "outputs": [
        {
          "output_type": "stream",
          "name": "stdout",
          "text": [
            "Rishikesh\n",
            " 25\n"
          ]
        }
      ]
    },
    {
      "cell_type": "code",
      "source": [
        "***  In Python, the __init__ method (constructor) is called automatically\n",
        "when you create an instance of a class.\n",
        "However, if you need to perform explicit initialization or\n",
        "setup after the object has been created, you might want to create\n",
        "a separate method for that purpose.***\n",
        "\n",
        "\n",
        "\n",
        "class Person:\n",
        "    def __init__(self, name, age):\n",
        "        self.name = name\n",
        "        self.age = age\n",
        "\n",
        "    def calling_explicitly(self, new_name, new_age):\n",
        "        print(\"calling explicitly.\")\n",
        "        self.name = new_name\n",
        "        self.age = new_age\n",
        "person1 = Person(name=\"Rishikesh\", age=25)\n",
        "print(f' {person1.name}\\n {person1.age}')\n",
        "person1.calling_explicitly(new_name=\"Rishikesh\", new_age=30)\n",
        "print(f'{person1.name}\\n {person1.age}')"
      ],
      "metadata": {
        "colab": {
          "base_uri": "https://localhost:8080/"
        },
        "id": "AgvXfN1r40h5",
        "outputId": "3fc583c8-3dd6-43f8-c88b-914d59970f91"
      },
      "execution_count": null,
      "outputs": [
        {
          "output_type": "stream",
          "name": "stdout",
          "text": [
            " Rishikesh\n",
            " 25\n",
            "calling explicitly.\n",
            "Rishikesh\n",
            " 30\n"
          ]
        }
      ]
    },
    {
      "cell_type": "markdown",
      "source": [
        "7) In Python, the self parameter in constructors (and in other instance methods) is a convention that represents the instance of the class. It allows you to refer to the object itself within the class, and it is automatically passed to instance methods when they are called. By convention, self is the first parameter in instance methods, including the __init__ constructor."
      ],
      "metadata": {
        "id": "Do9D0JYyMBMK"
      }
    },
    {
      "cell_type": "code",
      "source": [
        "class MyClass:\n",
        "    def __init__(self, parameter1, parameter2):\n",
        "        self.attribute1 = parameter1\n",
        "        self.attribute2 = parameter2\n",
        "\n",
        "    def display_attributes(self):\n",
        "        print(f\"attribute1: {self.attribute1}, attribute2: {self.attribute2}\")\n",
        "my_instance = MyClass(1, 2)\n",
        "my_instance.display_attributes()"
      ],
      "metadata": {
        "id": "d1mc3PcS50VE",
        "colab": {
          "base_uri": "https://localhost:8080/"
        },
        "outputId": "3cc8dbfb-4c74-4674-b0f0-aeac833cf2e5"
      },
      "execution_count": 2,
      "outputs": [
        {
          "output_type": "stream",
          "name": "stdout",
          "text": [
            "attribute1: 1, attribute2: 2\n"
          ]
        }
      ]
    },
    {
      "cell_type": "markdown",
      "source": [
        "8) In Python, a default constructor refers to the automatically generated constructor that is provided by the language when a class is defined without an explicit __init__ method.\n",
        "\n",
        "Default constructors are used when you create an instance of the class, and they serve to initialize the object's attributes with their default values. If no attributes are defined in the class, the default constructor still exists, but it doesn't perform any explicit initialization."
      ],
      "metadata": {
        "id": "BSirBD9VMoEy"
      }
    },
    {
      "cell_type": "code",
      "source": [
        "class Rectangle:\n",
        "  def __init__(self,height,width):\n",
        "    self.height = height\n",
        "    self.width = width\n",
        "\n",
        "  def areaofrectangle(self):\n",
        "    return self.height * self.width\n",
        "\n",
        "\n",
        "area = Rectangle(5,8)\n",
        "print(area.areaofrectangle())"
      ],
      "metadata": {
        "colab": {
          "base_uri": "https://localhost:8080/"
        },
        "id": "uK0CeF3tMKcM",
        "outputId": "a6630a4b-8cf6-44ee-9fda-b25b2f2ce7d9"
      },
      "execution_count": 5,
      "outputs": [
        {
          "output_type": "stream",
          "name": "stdout",
          "text": [
            "40\n"
          ]
        }
      ]
    },
    {
      "cell_type": "markdown",
      "source": [
        "\n",
        "10) In Python, a class can have only one __init__ method, which serves as the constructor. However, you can achieve the effect of having multiple constructors by using default values for parameters and providing alternative initialization methods."
      ],
      "metadata": {
        "id": "BaUf-9qHOIQN"
      }
    },
    {
      "cell_type": "code",
      "source": [
        "class Rectangle:\n",
        "    def __init__(self, width=None, height=None):\n",
        "        if width is not None and height is not None:\n",
        "            self.width = width\n",
        "            self.height = height\n",
        "        else:\n",
        "            self.width = 1\n",
        "            self.height = 1\n",
        "    @classmethod\n",
        "    def create_square(cls, side_length):\n",
        "        return cls(width=side_length, height=side_length)\n",
        "    def calculate_area(self):\n",
        "        return self.width * self.height\n",
        "rectangle1 = Rectangle(5, 8)\n",
        "area1 = rectangle1.calculate_area()\n",
        "print(f\"Rectangle 1 area: {area1}\")\n",
        "rectangle2 = Rectangle()\n",
        "area2 = rectangle2.calculate_area()\n",
        "print(f\"Rectangle 2 area: {area2}\")\n",
        "square = Rectangle.create_square(4)\n",
        "area_square = square.calculate_area()\n",
        "print(f\"Square area: {area_square}\")"
      ],
      "metadata": {
        "colab": {
          "base_uri": "https://localhost:8080/"
        },
        "id": "n08UG0puNpsy",
        "outputId": "95f919c2-c37e-4c78-cdfc-34cb1ca7230d"
      },
      "execution_count": 6,
      "outputs": [
        {
          "output_type": "stream",
          "name": "stdout",
          "text": [
            "Rectangle 1 area: 40\n",
            "Rectangle 2 area: 1\n",
            "Square area: 16\n"
          ]
        }
      ]
    },
    {
      "cell_type": "markdown",
      "source": [
        "\n",
        "11) Method overloading is a concept in object-oriented programming where a class can have multiple methods with the same name but different parameter lists. The behavior of the method is determined by the number or types of its parameters\n",
        "\n",
        "When it comes to constructors in Python, method overloading is often related to providing different ways to initialize objects. This is achieved by defining multiple __init__ methods with different parameter lists or using default values for parameters."
      ],
      "metadata": {
        "id": "xZ8QAb5dOvXJ"
      }
    },
    {
      "cell_type": "markdown",
      "source": [
        "12)\n",
        "In Python, the super() function is used to call a method from a parent class, allowing you to invoke the constructor or other methods defined in the parent class.  \n",
        "\n",
        "It is particularly useful in the context of inheritance when you want to extend the functionality of a parent class in a subclass. When used in a constructor, super() is typically used to call the constructor of the parent class, ensuring that both the parent and child class initializations are executed."
      ],
      "metadata": {
        "id": "h-Wd3_ipPkpo"
      }
    },
    {
      "cell_type": "code",
      "source": [
        "class ParentClass:\n",
        "    def __init__(self, param1):\n",
        "        self.param1 = param1\n",
        "        print(f\"ParentClass constructor called with param1: {param1}\")\n",
        "class ChildClass(ParentClass):\n",
        "    def __init__(self, param1, param2):\n",
        "        super().__init__(param1)\n",
        "        self.param2 = param2\n",
        "        print(f\"ChildClass constructor called with param2: {param2}\")\n",
        "child_obj = ChildClass(\"value1\", \"value2\")"
      ],
      "metadata": {
        "colab": {
          "base_uri": "https://localhost:8080/"
        },
        "id": "av0nGywtOYug",
        "outputId": "89746f41-9161-486b-dcf0-d73681db6d67"
      },
      "execution_count": 7,
      "outputs": [
        {
          "output_type": "stream",
          "name": "stdout",
          "text": [
            "ParentClass constructor called with param1: value1\n",
            "ChildClass constructor called with param2: value2\n"
          ]
        }
      ]
    },
    {
      "cell_type": "code",
      "source": [
        "class Book:\n",
        "    def __init__(self, title, author, published_year):\n",
        "        self.title = title\n",
        "        self.author = author\n",
        "        self.published_year = published_year\n",
        "\n",
        "    def display_details(self):\n",
        "        print(f\"Title: {self.title}\")\n",
        "        print(f\"Author: {self.author}\")\n",
        "        print(f\"Published Year: {self.published_year}\")\n",
        "book1 = Book(\"The Great Gatsby\", \"F. Scott Fitzgerald\", 1925)\n",
        "book1.display_details()"
      ],
      "metadata": {
        "colab": {
          "base_uri": "https://localhost:8080/"
        },
        "id": "VEFat8YHPv2L",
        "outputId": "f1752702-2d78-4b25-ed43-1c0b9314fcf1"
      },
      "execution_count": 8,
      "outputs": [
        {
          "output_type": "stream",
          "name": "stdout",
          "text": [
            "Title: The Great Gatsby\n",
            "Author: F. Scott Fitzgerald\n",
            "Published Year: 1925\n"
          ]
        }
      ]
    },
    {
      "cell_type": "markdown",
      "source": [
        "1)**Purpose**:\n",
        "\n",
        "Constructor (__init__): It is a special method called when an object is created. Its primary purpose is to initialize the object's attributes and set up the initial state.\n",
        "\n",
        "Regular methods: These are ordinary methods defined within a class to perform specific actions or operations on the object. They are called on instances of the class and may or may not modify the object's state.\n",
        "\n",
        "2) **Invocation**:\n",
        "\n",
        "Constructor (__init__): Automatically called when an object is created. It initializes the object's state during instantiation.\n",
        "\n",
        "Regular methods: Explicitly called on an instance of the class using the instance's name followed by the method name.\n",
        "\n",
        "3) **Syntax**:\n",
        "\n",
        "Constructor (__init__): Identified by the __init__ name. It takes self as its first parameter, followed by other parameters for attribute initialization.\n",
        "\n",
        "Regular methods: Defined with any valid method name. They also take self as their first parameter to reference the instance.\n",
        "\n",
        "4) **Return Value**:\n",
        "\n",
        "Constructor (__init__): It doesn't explicitly return a value. Its purpose is to initialize attributes, not produce a return value.\n",
        "\n",
        "Regular methods: Can return values based on their implementation. The return statement is used to specify the method's output.\n",
        "\n",
        "5) **Number of Constructors**:\n",
        "\n",
        "Constructor (__init__): A class can have at most one __init__ method, which is considered the constructor. If not explicitly defined, a default constructor is provided.\n",
        "\n",
        "Regular methods: A class can have multiple regular methods with different names"
      ],
      "metadata": {
        "id": "QbXPXJhjQLnR"
      }
    },
    {
      "cell_type": "code",
      "source": [
        "class Student:\n",
        "    def __init__(self, subjects):\n",
        "        self.subjects = subjects\n",
        "student1 = Student(['Math', 'Physics', 'History', 'English'])\n",
        "print(\"Subjects for student1:\", student1.subjects)"
      ],
      "metadata": {
        "colab": {
          "base_uri": "https://localhost:8080/"
        },
        "id": "nq1dMMPsP-Sj",
        "outputId": "9c0e6451-da96-4d00-abf5-e949442be429"
      },
      "execution_count": 9,
      "outputs": [
        {
          "output_type": "stream",
          "name": "stdout",
          "text": [
            "Subjects for student1: ['Math', 'Physics', 'History', 'English']\n"
          ]
        }
      ]
    },
    {
      "cell_type": "code",
      "source": [
        "class Car:\n",
        "    def __init__(self, make=\"TESLA\", model=\"Cyber\"):\n",
        "        self.make = make\n",
        "        self.model = model\n",
        "\n",
        "    def display_info(self):\n",
        "        print(f\"Car Make: {self.make}\")\n",
        "        print(f\"Car Model: {self.model}\")\n",
        "car1 = Car()\n",
        "car1.display_info()"
      ],
      "metadata": {
        "colab": {
          "base_uri": "https://localhost:8080/"
        },
        "id": "FDSuDneDRivn",
        "outputId": "84af6901-edb7-428b-e4dd-8c4f99d3ffc5"
      },
      "execution_count": 11,
      "outputs": [
        {
          "output_type": "stream",
          "name": "stdout",
          "text": [
            "Car Make: TESLA\n",
            "Car Model: Cyber\n"
          ]
        }
      ]
    },
    {
      "cell_type": "markdown",
      "source": [
        "**INHERITANCE**"
      ],
      "metadata": {
        "id": "fxRWKKozVMD4"
      }
    },
    {
      "cell_type": "markdown",
      "source": [
        "1) Inheritance is a fundamental concept in object-oriented programming (OOP) that allows a new class (called a subclass or derived class) to inherit attributes and methods from an existing class (called a superclass or base class). The subclass can then extend or override the inherited features and may also introduce new attributes and methods. Inheritance is a way to promote code reuse, structure code in a hierarchical manner, and model relationships between classes.\n",
        "\n",
        "SIGNIFICANCE :\n",
        "1. Code Reusability\n",
        "2. Heirachy and Organization\n",
        "3. Overriding and Extending\n",
        "4. Polymorphism\n",
        "5. Easy Maintenance"
      ],
      "metadata": {
        "id": "pUzaPzkrVRg4"
      }
    },
    {
      "cell_type": "markdown",
      "source": [
        "2) SINGLE INHERITANCE 🇰\n",
        "\n",
        "Single inheritance refers to a scenario where a class inherits from only one base class.\n",
        "\n",
        "MULTIPE INHERITANCE :\n",
        "\n",
        "Multiple inheritance occurs when a class inherits from more than one base class."
      ],
      "metadata": {
        "id": "jrbBM4sgWBQR"
      }
    },
    {
      "cell_type": "code",
      "source": [
        "# SINGLR INHERITANCE EXAMPLE\n",
        "\n",
        "class Animal:\n",
        "    def speak(self):\n",
        "        print(\"Generic animal sound\")\n",
        "class Dog(Animal):\n",
        "    def bark(self):\n",
        "        print(\"Woof!\")\n",
        "my_dog = Dog()\n",
        "my_dog.speak()\n",
        "my_dog.bark()\n",
        "\n",
        "# MULTIPLE INHERITANCE EXAMPLE\n",
        "\n",
        "class Animal:\n",
        "    def speak(self):\n",
        "        print(\"Generic animal sound\")\n",
        "class Machine:\n",
        "    def start(self):\n",
        "        print(\"Machine starting\")\n",
        "class Robot(Animal, Machine):\n",
        "    def beep(self):\n",
        "        print(\"Beep!\")\n",
        "my_robot = Robot()\n",
        "my_robot.speak()\n",
        "my_robot.start()\n",
        "my_robot.beep()"
      ],
      "metadata": {
        "colab": {
          "base_uri": "https://localhost:8080/"
        },
        "id": "7o1FqOzdRsjn",
        "outputId": "0f21fd51-f50b-47be-b884-2007eecdb979"
      },
      "execution_count": 12,
      "outputs": [
        {
          "output_type": "stream",
          "name": "stdout",
          "text": [
            "Generic animal sound\n",
            "Woof!\n",
            "Generic animal sound\n",
            "Machine starting\n",
            "Beep!\n"
          ]
        }
      ]
    },
    {
      "cell_type": "code",
      "source": [
        "class Vehicle:\n",
        "    def __init__(self, color, speed):\n",
        "        self.color = color\n",
        "        self.speed = speed\n",
        "\n",
        "class Car(Vehicle):\n",
        "    def __init__(self, color, speed, brand):\n",
        "        super().__init__(color, speed)\n",
        "        self.brand = brand\n",
        "my_car = Car(color=\"Blue\", speed=60, brand=\"Toyota\")\n",
        "print(\"Color:\", my_car.color)\n",
        "print(\"Speed:\", my_car.speed)\n",
        "print(\"Brand:\", my_car.brand)"
      ],
      "metadata": {
        "colab": {
          "base_uri": "https://localhost:8080/"
        },
        "id": "oY2MeVfzWorE",
        "outputId": "d42ccc1e-f816-43b0-fa67-04c5b5d25a53"
      },
      "execution_count": 13,
      "outputs": [
        {
          "output_type": "stream",
          "name": "stdout",
          "text": [
            "Color: Blue\n",
            "Speed: 60\n",
            "Brand: Toyota\n"
          ]
        }
      ]
    },
    {
      "cell_type": "markdown",
      "source": [
        "\n",
        "Method overriding is a concept in object-oriented programming where a subclass provides a specific implementation for a method that is already defined in its superclass. This allows the subclass to provide its own behavior for the same method name, effectively replacing or extending the behavior inherited from the superclass. Method overriding is a way to achieve polymorphism, where the same method name can exhibit different behaviors in different classes."
      ],
      "metadata": {
        "id": "9PFYTnPHXVx8"
      }
    },
    {
      "cell_type": "code",
      "source": [
        "class Animal:\n",
        "    def make_sound(self):\n",
        "        print(\"Generic animal sound\")\n",
        "class Dog(Animal):\n",
        "    def make_sound(self):\n",
        "        print(\"Bark\")\n",
        "class Cat(Animal):\n",
        "    def make_sound(self):\n",
        "        print(\"Meow\")\n",
        "my_dog = Dog()\n",
        "my_cat = Cat()\n",
        "\n",
        "my_dog.make_sound()\n",
        "my_cat.make_sound()"
      ],
      "metadata": {
        "colab": {
          "base_uri": "https://localhost:8080/"
        },
        "id": "tskcVz9vW5Jd",
        "outputId": "83c7a3f9-d688-4f00-b2a4-801401c8fc95"
      },
      "execution_count": 14,
      "outputs": [
        {
          "output_type": "stream",
          "name": "stdout",
          "text": [
            "Bark\n",
            "Meow\n"
          ]
        }
      ]
    },
    {
      "cell_type": "markdown",
      "source": [
        "In Python, you can access the methods and attributes of a parent class from a child class using the super() function. The super() function returns a temporary object of the superclass, allowing you to call its methods and access its attributes."
      ],
      "metadata": {
        "id": "SI9EcGDkYOhA"
      }
    },
    {
      "cell_type": "code",
      "source": [
        "class Animal:\n",
        "    def __init__(self, species):\n",
        "        self.species = species\n",
        "    def make_sound(self):\n",
        "        print(\"Generic animal sound\")\n",
        "class Dog(Animal):\n",
        "    def __init__(self, species, breed):\n",
        "        super().__init__(species)\n",
        "        self.breed = breed\n",
        "    def make_sound(self):\n",
        "        super().make_sound()\n",
        "        print(\"Bark\")\n",
        "my_dog = Dog(species=\"Canine\", breed=\"Labrador\")\n",
        "print(\"Species:\", my_dog.species)\n",
        "print(\"Breed:\", my_dog.breed)\n",
        "my_dog.make_sound()\n"
      ],
      "metadata": {
        "colab": {
          "base_uri": "https://localhost:8080/"
        },
        "id": "Jy66DGuoXekT",
        "outputId": "1e2a1d23-dc6f-4d73-a342-2af22c1ec2fc"
      },
      "execution_count": 15,
      "outputs": [
        {
          "output_type": "stream",
          "name": "stdout",
          "text": [
            "Species: Canine\n",
            "Breed: Labrador\n",
            "Generic animal sound\n",
            "Bark\n"
          ]
        }
      ]
    },
    {
      "cell_type": "code",
      "source": [
        "class Animal:\n",
        "    def speak(self):\n",
        "        print(\"Generic animal sound\")\n",
        "class Dog(Animal):\n",
        "    def speak(self):\n",
        "        print(\"Bark\")\n",
        "class Cat(Animal):\n",
        "    def speak(self):\n",
        "        print(\"Meow\")\n",
        "my_dog = Dog()\n",
        "my_cat = Cat()\n",
        "\n",
        "my_dog.speak()\n",
        "my_cat.speak()"
      ],
      "metadata": {
        "colab": {
          "base_uri": "https://localhost:8080/"
        },
        "id": "7tU0ux-eYXWg",
        "outputId": "3fd721df-7894-4996-ee82-6a0095fc3be7"
      },
      "execution_count": 16,
      "outputs": [
        {
          "output_type": "stream",
          "name": "stdout",
          "text": [
            "Bark\n",
            "Meow\n"
          ]
        }
      ]
    },
    {
      "cell_type": "markdown",
      "source": [
        "The isinstance() function in Python is used to check if an object is an instance of a particular class or a tuple of classes. It returns True if the object is an instance of any of the specified classes, and False otherwise. The function takes two arguments: the object to be checked and the class or tuple of classes\n",
        "\n",
        "isinstance() is particularly useful in the context of inheritance. Since subclasses inherit from their parent classes, an object of a subclass is also considered an instance of the parent class. This function allows you to check the type of an object taking into account its class hierarchy."
      ],
      "metadata": {
        "id": "cQvp5FFUZSs7"
      }
    },
    {
      "cell_type": "markdown",
      "source": [
        "The issubclass() function in Python is used to check if a class is a subclass of another class. It returns True if the first class is a subclass of the second class, and False otherwise. The function takes two arguments: the class to be checked and the potential superclass."
      ],
      "metadata": {
        "id": "whpauLdqZToC"
      }
    },
    {
      "cell_type": "code",
      "source": [
        "class Animal:\n",
        "    pass\n",
        "\n",
        "class Dog(Animal):\n",
        "    pass\n",
        "\n",
        "print(issubclass(Dog, Animal))\n",
        "print(issubclass(Animal, Dog))"
      ],
      "metadata": {
        "colab": {
          "base_uri": "https://localhost:8080/"
        },
        "id": "M2qDPW2BYs2o",
        "outputId": "c27f5201-3b71-43b6-8776-1452bfc858bf"
      },
      "execution_count": 17,
      "outputs": [
        {
          "output_type": "stream",
          "name": "stdout",
          "text": [
            "True\n",
            "False\n"
          ]
        }
      ]
    },
    {
      "cell_type": "code",
      "source": [
        "import math\n",
        "\n",
        "class Shape:\n",
        "    def area(self):\n",
        "        raise NotImplementedError(\"Subclasses must implement the area() method\")\n",
        "class Circle(Shape):\n",
        "    def __init__(self, radius):\n",
        "        self.radius = radius\n",
        "    def area(self):\n",
        "        return math.pi * self.radius**2\n",
        "class Rectangle(Shape):\n",
        "    def __init__(self, width, height):\n",
        "        self.width = width\n",
        "        self.height = height\n",
        "    def area(self):\n",
        "        return self.width * self.height\n",
        "circle = Circle(radius=5)\n",
        "rectangle = Rectangle(width=4, height=6)\n",
        "print(f\"Area of the circle: {circle.area():.2f}\")\n",
        "print(f\"Area of the rectangle: {rectangle.area()}\")"
      ],
      "metadata": {
        "colab": {
          "base_uri": "https://localhost:8080/"
        },
        "id": "3a1bxgGLZhZh",
        "outputId": "9698d224-6f6a-4cc2-e46d-724efcf6b7ff"
      },
      "execution_count": 18,
      "outputs": [
        {
          "output_type": "stream",
          "name": "stdout",
          "text": [
            "Area of the circle: 78.54\n",
            "Area of the rectangle: 24\n"
          ]
        }
      ]
    },
    {
      "cell_type": "markdown",
      "source": [
        "Abstract Base Classes (ABCs) in Python are a way to define abstract classes and abstract methods. An abstract class is a class that cannot be instantiated and is meant to be subclassed. Abstract methods are methods that must be implemented by any concrete (non-abstract) subclasses. The abc module in Python provides the tools to create and use abstract base classes."
      ],
      "metadata": {
        "id": "Qe-77es_aeUC"
      }
    },
    {
      "cell_type": "code",
      "source": [
        "from abc import ABC, abstractmethod\n",
        "class Shape(ABC):\n",
        "    @abstractmethod\n",
        "    def area(self):\n",
        "        pass\n",
        "class Circle(Shape):\n",
        "    def __init__(self, radius):\n",
        "        self.radius = radius\n",
        "    def area(self):\n",
        "        return 3.14 * self.radius**2\n",
        "circle = Circle(radius=5)\n",
        "print(f\"Area of the circle: {circle.area():.2f}\")"
      ],
      "metadata": {
        "colab": {
          "base_uri": "https://localhost:8080/"
        },
        "id": "hTAp11CHZ1N6",
        "outputId": "01bb8928-d598-4d38-a746-64060c4583a3"
      },
      "execution_count": 19,
      "outputs": [
        {
          "output_type": "stream",
          "name": "stdout",
          "text": [
            "Area of the circle: 78.50\n"
          ]
        }
      ]
    },
    {
      "cell_type": "markdown",
      "source": [
        "In Python, you cannot explicitly prevent a child class from modifying attributes or methods inherited from a parent class. However, you can use various techniques to discourage or signal against such modifications:\n",
        "\n",
        "Naming Conventions:\n",
        "\n",
        "Prefix attributes or methods that should not be modified with an underscore (_). This convention indicates that the attribute or method is considered private, and modifying it may have unintended consequences.\n",
        "\n",
        "Documentation:\n",
        "\n",
        "Clearly document in the parent class which attributes or methods should not be modified by child classes. Proper documentation can serve as a guideline for developers working with the code.\n",
        "\n",
        "Attribute Encapsulation:\n",
        "\n",
        "Use getter and setter methods to control access to attributes. This allows you to add logic or restrictions when accessing or modifying certain attributes.\n",
        "\n",
        "Composition over Inheritance:\n",
        "\n",
        "Favor composition over inheritance. Instead of relying heavily on inheritance, consider using composition to encapsulate behavior. This way, the child class doesn't inherit attributes directly but rather has them as part of another object."
      ],
      "metadata": {
        "id": "O9Q5d_olaqAU"
      }
    },
    {
      "cell_type": "code",
      "source": [
        "class Employee:\n",
        "    def __init__(self, name, salary):\n",
        "        self.name = name\n",
        "        self.salary = salary\n",
        "class Manager(Employee):\n",
        "    def __init__(self, name, salary, department):\n",
        "        super().__init__(name, salary)\n",
        "        self.department = department\n",
        "manager = Manager(name=\"John Doe\", salary=75000, department=\"Engineering\")\n",
        "print(\"Name:\", manager.name)\n",
        "print(\"Salary:\", manager.salary)\n",
        "print(\"Department:\", manager.department)"
      ],
      "metadata": {
        "colab": {
          "base_uri": "https://localhost:8080/"
        },
        "id": "dDhUPA2galF1",
        "outputId": "bb9968ff-46b8-4a3e-d802-47851b44ec79"
      },
      "execution_count": 20,
      "outputs": [
        {
          "output_type": "stream",
          "name": "stdout",
          "text": [
            "Name: John Doe\n",
            "Salary: 75000\n",
            "Department: Engineering\n"
          ]
        }
      ]
    },
    {
      "cell_type": "code",
      "source": [
        "class Bird:\n",
        "    def fly(self):\n",
        "        print(\"Generic bird flying\")\n",
        "class Eagle(Bird):\n",
        "    def fly(self):\n",
        "        print(\"Eagle soaring high in the sky\")\n",
        "class Sparrow(Bird):\n",
        "    def fly(self):\n",
        "        print(\"Sparrow fluttering around\")\n",
        "eagle = Eagle()\n",
        "sparrow = Sparrow()\n",
        "eagle.fly()\n",
        "sparrow.fly()"
      ],
      "metadata": {
        "colab": {
          "base_uri": "https://localhost:8080/"
        },
        "id": "tv5kS6KabFwn",
        "outputId": "eff9d6b9-6402-4416-c505-cadd702f5540"
      },
      "execution_count": 21,
      "outputs": [
        {
          "output_type": "stream",
          "name": "stdout",
          "text": [
            "Eagle soaring high in the sky\n",
            "Sparrow fluttering around\n"
          ]
        }
      ]
    },
    {
      "cell_type": "markdown",
      "source": [
        "The \"diamond problem\" is a challenge that arises in programming languages that support multiple inheritance, where a class inherits from two or more classes that have a common ancestor. This common ancestor can be referred to multiple times through the inheritance hierarchy, creating ambiguity in method resolution. The problem is named \"diamond\" because the inheritance diagram can resemble a diamond shape."
      ],
      "metadata": {
        "id": "C6sq10W5bixf"
      }
    },
    {
      "cell_type": "code",
      "source": [
        "class A:\n",
        "    def method(self):\n",
        "        print(\"A method\")\n",
        "\n",
        "class B(A):\n",
        "    def method(self):\n",
        "        print(\"B method\")\n",
        "        super().method()\n",
        "\n",
        "class C(A):\n",
        "    def method(self):\n",
        "        print(\"C method\")\n",
        "        super().method()\n",
        "\n",
        "class D(B, C):\n",
        "    pass\n",
        "d = D()\n",
        "d.method()\n"
      ],
      "metadata": {
        "colab": {
          "base_uri": "https://localhost:8080/"
        },
        "id": "Fvgx7kuCbYnO",
        "outputId": "08d6df87-54a3-43cb-acb1-64fa1ee2da32"
      },
      "execution_count": 22,
      "outputs": [
        {
          "output_type": "stream",
          "name": "stdout",
          "text": [
            "B method\n",
            "C method\n",
            "A method\n"
          ]
        }
      ]
    },
    {
      "cell_type": "code",
      "source": [
        "class Person:\n",
        "    def __init__(self, name, age):\n",
        "        self.name = name\n",
        "        self.age = age\n",
        "    def introduce(self):\n",
        "        print(f\"Hello, my name is {self.name} and I am {self.age} years old.\")\n",
        "class Student(Person):\n",
        "    def __init__(self, name, age, student_id):\n",
        "        super().__init__(name, age)\n",
        "        self.student_id = student_id\n",
        "    def study(self):\n",
        "        print(f\"{self.name} is studying hard for exams.\")\n",
        "class Professor(Person):\n",
        "    def __init__(self, name, age, employee_id):\n",
        "        super().__init__(name, age)\n",
        "        self.employee_id = employee_id\n",
        "    def teach(self):\n",
        "        print(f\"Professor {self.name} is conducting a lecture.\")\n",
        "student1 = Student(name=\"Alice\", age=20, student_id=\"S12345\")\n",
        "professor1 = Professor(name=\"Dr. Smith\", age=45, employee_id=\"P9876\")\n",
        "student1.introduce()\n",
        "student1.study()\n",
        "professor1.introduce()\n",
        "professor1.teach()"
      ],
      "metadata": {
        "colab": {
          "base_uri": "https://localhost:8080/"
        },
        "id": "AKmRvOYMbq8n",
        "outputId": "3787d2da-c7bd-4cb4-9c08-a9c29d05bd14"
      },
      "execution_count": 23,
      "outputs": [
        {
          "output_type": "stream",
          "name": "stdout",
          "text": [
            "Hello, my name is Alice and I am 20 years old.\n",
            "Alice is studying hard for exams.\n",
            "Hello, my name is Dr. Smith and I am 45 years old.\n",
            "Professor Dr. Smith is conducting a lecture.\n"
          ]
        }
      ]
    },
    {
      "cell_type": "markdown",
      "source": [
        "**ENCAPSULATION**"
      ],
      "metadata": {
        "id": "5G7iPMWTcooS"
      }
    },
    {
      "cell_type": "markdown",
      "source": [
        "1) Encapsulation is one of the fundamental concepts in object-oriented programming (OOP) that involves bundling data (attributes) and methods (functions) that operate on that data into a single unit, known as a class. The primary goal of encapsulation is to hide the implementation details of an object and provide a clear and well-defined interface to interact with that object. This helps in organizing and structuring code in a modular and maintainable way."
      ],
      "metadata": {
        "id": "2GUppXqkcsjQ"
      }
    },
    {
      "cell_type": "markdown",
      "source": [
        "2) Key Principles of Encapsulation:\n",
        "Access Control:\n",
        "\n",
        "Encapsulation allows for controlling access to the internal components of a class. This is achieved through access modifiers.\n",
        "Data Hiding:\n",
        "\n",
        "Encapsulation enables the concept of data hiding, where the internal details of the implementation are hidden from the outside world. This prevents direct manipulation of the internal state of an object."
      ],
      "metadata": {
        "id": "FPj4M9JQdEBB"
      }
    },
    {
      "cell_type": "markdown",
      "source": [
        "3) In Python, encapsulation is achieved through the use of access modifiers and naming conventions. The key access modifiers in Python are:\n",
        "\n",
        "Public (public): No access restrictions. All attributes and methods are accessible from outside the class.\n",
        "\n",
        "Private (private): Accessible only within the class. Denoted by a double underscore (__) prefix.\n",
        "\n",
        "Protected (protected): Accessible within the class and its subclasses. Denoted by a single underscore (_) prefix."
      ],
      "metadata": {
        "id": "88cDY-4QdHnu"
      }
    },
    {
      "cell_type": "code",
      "source": [
        "class Car:\n",
        "    def __init__(self, make, model):\n",
        "        self.__make = make  # Private attribute\n",
        "        self.__model = model  # Private attribute\n",
        "        self._mileage = 0  # Protected attribute\n",
        "\n",
        "    def start_engine(self):\n",
        "        print(\"Engine started\")\n",
        "    def drive(self, distance):\n",
        "        print(f\"Driving {distance} miles\")\n",
        "        self._mileage += distance\n",
        "    def get_mileage(self):\n",
        "        return self._mileage\n",
        "my_car = Car(make=\"Toyota\", model=\"Camry\")\n",
        "my_car.start_engine()\n",
        "my_car.drive(distance=50)\n",
        "print(\"Mileage:\", my_car.get_mileage())"
      ],
      "metadata": {
        "colab": {
          "base_uri": "https://localhost:8080/"
        },
        "id": "X9a4RwLVcDZn",
        "outputId": "6cbc1a05-03c2-4537-e5c5-85a3117c6dd9"
      },
      "execution_count": 24,
      "outputs": [
        {
          "output_type": "stream",
          "name": "stdout",
          "text": [
            "Engine started\n",
            "Driving 50 miles\n",
            "Mileage: 50\n"
          ]
        }
      ]
    },
    {
      "cell_type": "markdown",
      "source": [
        "Public (public):\n",
        "\n",
        "Attributes and methods are accessible from outside the class.\n",
        "No special syntax is required for public members.\n",
        "\n",
        "Private (private):\n",
        "\n",
        "Attributes and methods are accessible only within the class.\n",
        "Denoted by a double underscore (__) prefix.\n",
        "\n",
        "Protected (protected):\n",
        "\n",
        "Attributes and methods are accessible within the class and its subclasses.\n",
        "Denoted by a single underscore (_) prefix."
      ],
      "metadata": {
        "id": "2V0FTLJedYGy"
      }
    },
    {
      "cell_type": "code",
      "source": [
        "class Person:\n",
        "    def __init__(self, name):\n",
        "        self.__name = name  # Private attribute\n",
        "\n",
        "    def get_name(self):\n",
        "        return self.__name\n",
        "\n",
        "    def set_name(self, new_name):\n",
        "        self.__name = new_name\n",
        "person = Person(name=\"John Doe\")\n",
        "current_name = person.get_name()\n",
        "print(\"Current Name:\", current_name)\n",
        "person.set_name(new_name=\"Jane Doe\")\n",
        "updated_name = person.get_name()\n",
        "print(\"Updated Name:\", updated_name)"
      ],
      "metadata": {
        "colab": {
          "base_uri": "https://localhost:8080/"
        },
        "id": "KTj3wxYtdUOR",
        "outputId": "280e7aa1-cb5b-4335-9589-89376f222bbe"
      },
      "execution_count": 25,
      "outputs": [
        {
          "output_type": "stream",
          "name": "stdout",
          "text": [
            "Current Name: John Doe\n",
            "Updated Name: Jane Doe\n"
          ]
        }
      ]
    },
    {
      "cell_type": "markdown",
      "source": [
        "Purpose of Getter and Setter Methods in Encapsulation:\n",
        "Getter and setter methods play a crucial role in encapsulation by providing controlled access to private attributes of a class. They allow for the retrieval (getting) and modification (setting) of the values of private attributes, ensuring that the internal state of an object is accessed and modified in a controlled manner. This helps in maintaining the integrity of the object's data and allows for additional logic to be applied when getting or setting values"
      ],
      "metadata": {
        "id": "hENyybNafBZW"
      }
    },
    {
      "cell_type": "code",
      "source": [
        "class Person:\n",
        "    def __init__(self, name):\n",
        "        self.__name = name  # Private attribute\n",
        "\n",
        "    def get_name(self):\n",
        "        return self.__name\n",
        "\n",
        "    def set_name(self, new_name):\n",
        "        if isinstance(new_name, str):\n",
        "            self.__name = new_name\n",
        "        else:\n",
        "            print(\"Invalid name format. Please provide a string.\")\n",
        "\n",
        "# Example usage:\n",
        "person = Person(name=\"John Doe\")\n",
        "\n",
        "# Using the getter method to retrieve the name\n",
        "current_name = person.get_name()\n",
        "print(\"Current Name:\", current_name)\n",
        "\n",
        "# Using the setter method to update the name\n",
        "person.set_name(new_name=\"Jane Doe\")\n",
        "\n",
        "# Using the getter method again to retrieve the updated name\n",
        "updated_name = person.get_name()\n",
        "print(\"Updated Name:\", updated_name)"
      ],
      "metadata": {
        "colab": {
          "base_uri": "https://localhost:8080/"
        },
        "id": "o58gjzyZdyVt",
        "outputId": "772cc6d5-3aa9-43c7-a0c4-962831462cc0"
      },
      "execution_count": 26,
      "outputs": [
        {
          "output_type": "stream",
          "name": "stdout",
          "text": [
            "Current Name: John Doe\n",
            "Updated Name: Jane Doe\n"
          ]
        }
      ]
    },
    {
      "cell_type": "markdown",
      "source": [
        "Name mangling is a technique in Python that involves adding a prefix to the names of attributes in a class to make them less accessible from the outside. In Python, the mangling is achieved by adding a double underscore (__) as a prefix to attribute names.\n",
        "\n",
        "How Name Mangling Affects Encapsulation:\n",
        "\n",
        "Increased Privacy: Name mangling makes it more difficult for external code to accidentally access or modify private attributes, promoting encapsulation.\n",
        "\n",
        "Not a Security Mechanism:\n",
        "\n",
        "Name mangling is not a security mechanism. It is a convention and can be overridden by determined external code. It's meant to prevent accidental name clashes rather than providing strong security.\n",
        "\n",
        "Encourages Proper Usage:\n",
        "\n",
        " By using getter and setter methods, developers are encouraged to interact with private attributes through a well-defined interface, enhancing code maintainability and readability.\n",
        "\n",
        "\n",
        "\n",
        "\n",
        "\n"
      ],
      "metadata": {
        "id": "5n7KNuSxfFFP"
      }
    },
    {
      "cell_type": "code",
      "source": [
        "class BankAccount:\n",
        "    def __init__(self, account_number, initial_balance=0):\n",
        "        self.__account_number = account_number  # Private attribute\n",
        "        self.__balance = initial_balance  # Private attribute\n",
        "\n",
        "    def deposit(self, amount):\n",
        "        if amount > 0:\n",
        "            self.__balance += amount\n",
        "            print(f\"Deposited ${amount}. New balance: ${self.__balance}\")\n",
        "        else:\n",
        "            print(\"Invalid deposit amount. Please deposit a positive amount.\")\n",
        "\n",
        "    def withdraw(self, amount):\n",
        "        if amount > 0 and amount <= self.__balance:\n",
        "            self.__balance -= amount\n",
        "            print(f\"Withdrew ${amount}. New balance: ${self.__balance}\")\n",
        "        elif amount <= 0:\n",
        "            print(\"Invalid withdrawal amount. Please withdraw a positive amount.\")\n",
        "        else:\n",
        "            print(\"Insufficient funds for withdrawal.\")\n",
        "\n",
        "    def get_balance(self):\n",
        "        return self.__balance\n",
        "\n",
        "    def get_account_number(self):\n",
        "        return self.__account_number\n",
        "\n",
        "account = BankAccount(account_number=\"123456\")\n",
        "\n",
        "print(\"Account Number:\", account.get_account_number())\n",
        "print(\"Initial Balance:\", account.get_balance())\n",
        "\n",
        "account.deposit(amount=1000)\n",
        "account.withdraw(amount=500)"
      ],
      "metadata": {
        "colab": {
          "base_uri": "https://localhost:8080/"
        },
        "id": "AZQ9k1vQfEi-",
        "outputId": "235ed841-9854-4673-8ebd-9f60582129fa"
      },
      "execution_count": 27,
      "outputs": [
        {
          "output_type": "stream",
          "name": "stdout",
          "text": [
            "Account Number: 123456\n",
            "Initial Balance: 0\n",
            "Deposited $1000. New balance: $1000\n",
            "Withdrew $500. New balance: $500\n"
          ]
        }
      ]
    },
    {
      "cell_type": "markdown",
      "source": [
        "Advantages of Encapsulation:\n",
        "1. Code Maintainability:\n",
        "\n",
        "Modularity:\n",
        "\n",
        "Encapsulation allows you to organize code into modular units (classes) with well-defined interfaces. This modular structure makes it easier to understand, modify, and extend code.\n",
        "\n",
        "   Ease of Modification:\n",
        "   \n",
        "   Internal implementation details are hidden, making it easier to modify the implementation without affecting the code that uses the class. Changes can be made to the internals of a class without impacting the external code that relies on it.\n",
        "\n",
        "  Reduced Code Coupling:\n",
        "  \n",
        "  Encapsulation reduces the coupling between different parts of the code. External code interacts with a class through its public interface, reducing dependencies and making it easier to make changes without causing unintended consequences.\n",
        "\n",
        "2. Security:\n",
        "\n",
        "Access Control:\n",
        "\n",
        "Encapsulation provides access control through access modifiers. Private attributes and methods are not directly accessible from outside the class, reducing the risk of unintended interference.\n",
        "\n",
        "Data Hiding:\n",
        "\n",
        "Encapsulation allows for data hiding, preventing direct access to internal data. This helps prevent unintentional modifications and ensures that the internal state of an object is only modified through controlled methods.\n",
        "\n",
        "Enhanced Security:\n",
        "\n",
        "By controlling access to certain parts of the code, encapsulation contributes to enhanced security. It minimizes the surface area exposed to external code, reducing the likelihood of unintended or malicious interference."
      ],
      "metadata": {
        "id": "E9Ss6Fm-f3Yf"
      }
    },
    {
      "cell_type": "markdown",
      "source": [
        "In Python, private attributes can be accessed using name mangling. Name mangling involves adding a prefix to the attribute name, making it less accessible from the outside. The convention is to prefix the attribute name with a double underscore (__)."
      ],
      "metadata": {
        "id": "hBZr0WXIgJd3"
      }
    },
    {
      "cell_type": "code",
      "source": [
        "class MyClass:\n",
        "    def __init__(self):\n",
        "        self.__my_private_attribute = 42\n",
        "\n",
        "obj = MyClass()\n",
        "\n",
        "# Accessing the private attribute using name mangling\n",
        "print(obj._MyClass__my_private_attribute)"
      ],
      "metadata": {
        "colab": {
          "base_uri": "https://localhost:8080/"
        },
        "id": "oDjOunPzfkaX",
        "outputId": "bc7a951f-0eab-46eb-f2f6-7736a6c9940c"
      },
      "execution_count": 28,
      "outputs": [
        {
          "output_type": "stream",
          "name": "stdout",
          "text": [
            "42\n"
          ]
        }
      ]
    },
    {
      "cell_type": "code",
      "source": [
        "class Person:\n",
        "    def __init__(self, name, age):\n",
        "        self.__name = name  # Private attribute\n",
        "        self.__age = age  # Private attribute\n",
        "    def get_name(self):\n",
        "        return self.__name\n",
        "    def get_age(self):\n",
        "        return self.__age\n",
        "    def set_name(self, new_name):\n",
        "        self.__name = new_name\n",
        "    def set_age(self, new_age):\n",
        "        self.__age = new_age\n",
        "class Student(Person):\n",
        "    def __init__(self, name, age, student_id):\n",
        "        super().__init__(name, age)\n",
        "        self.__student_id = student_id  # Private attribute\n",
        "        self.__courses = []  # Private attribute for courses\n",
        "    def get_student_id(self):\n",
        "        return self.__student_id\n",
        "    def enroll_course(self, course):\n",
        "        self.__courses.append(course)\n",
        "        print(f\"{self.get_name()} enrolled in the course: {course.get_course_name()}\")\n",
        "    def display_courses(self):\n",
        "        courses_list = [course.get_course_name() for course in self.__courses]\n",
        "        print(f\"{self.get_name()}'s enrolled courses: {', '.join(courses_list)}\")\n",
        "class Teacher(Person):\n",
        "    def __init__(self, name, age, employee_id):\n",
        "        super().__init__(name, age)\n",
        "        self.__employee_id = employee_id  # Private attribute\n",
        "        self.__courses_taught = []  # Private attribute for courses taught\n",
        "    def get_employee_id(self):\n",
        "        return self.__employee_id\n",
        "    def assign_course(self, course):\n",
        "        self.__courses_taught.append(course)\n",
        "        print(f\"{self.get_name()} assigned to teach the course: {course.get_course_name()}\")\n",
        "    def display_courses_taught(self):\n",
        "        courses_list = [course.get_course_name() for course in self.__courses_taught]\n",
        "        print(f\"{self.get_name()}'s assigned courses: {', '.join(courses_list)}\")\n",
        "class Course:\n",
        "    def __init__(self, course_name, course_code):\n",
        "        self.__course_name = course_name  # Private attribute\n",
        "        self.__course_code = course_code  # Private attribute\n",
        "    def get_course_name(self):\n",
        "        return self.__course_name\n",
        "    def get_course_code(self):\n",
        "        return self.__course_code\n",
        "student = Student(name=\"Alice\", age=18, student_id=\"S12345\")\n",
        "teacher = Teacher(name=\"Dr. Smith\", age=35, employee_id=\"T9876\")\n",
        "course_math = Course(course_name=\"Mathematics\", course_code=\"MATH101\")\n",
        "student.enroll_course(course_math)\n",
        "teacher.assign_course(course_math)\n",
        "student.display_courses()\n",
        "teacher.display_courses_taught()"
      ],
      "metadata": {
        "colab": {
          "base_uri": "https://localhost:8080/"
        },
        "id": "L_V_bM_9gL9w",
        "outputId": "74287a88-9a0b-4a4d-99f8-c06e0bc1c84f"
      },
      "execution_count": 29,
      "outputs": [
        {
          "output_type": "stream",
          "name": "stdout",
          "text": [
            "Alice enrolled in the course: Mathematics\n",
            "Dr. Smith assigned to teach the course: Mathematics\n",
            "Alice's enrolled courses: Mathematics\n",
            "Dr. Smith's assigned courses: Mathematics\n"
          ]
        }
      ]
    },
    {
      "cell_type": "markdown",
      "source": [
        "Property decorators in Python provide a way to define properties in a class. Properties allow controlled access to class attributes, enabling the use of getter and setter methods without explicitly calling them. This is beneficial for encapsulation, as it allows developers to control how attributes are accessed and modified while maintaining a more natural syntax."
      ],
      "metadata": {
        "id": "pK9MmcvvhOX1"
      }
    },
    {
      "cell_type": "markdown",
      "source": [
        "Data hiding is a fundamental concept in encapsulation that involves restricting access to certain attributes or methods of a class. In Python, this is typically achieved through access modifiers (e.g., private attributes denoted by a double underscore __ prefix) and encapsulation techniques.\n",
        "\n",
        "Importance of Data Hiding:\n",
        "\n",
        "Access Control: Data hiding allows developers to control how internal attributes or methods are accessed from external code. This prevents unintended modifications and ensures that access is granted only through well-defined interfaces.\n",
        "\n",
        "Security:\n",
        "\n",
        " By hiding the implementation details, sensitive information is shielded from external interference. This reduces the risk of unintended modifications or access, contributing to the security of the code.\n",
        "\n",
        "Modifiability:\n",
        "\n",
        " Encapsulating attributes and methods allows for easier modification of the internal implementation without affecting external code. Changes can be made within the class without breaking dependencies."
      ],
      "metadata": {
        "id": "hOysb0S6he7x"
      }
    },
    {
      "cell_type": "code",
      "source": [
        "class BankAccount:\n",
        "    def __init__(self, account_number, initial_balance=0):\n",
        "        self.__account_number = account_number  # Private attribute\n",
        "        self.__balance = initial_balance  # Private attribute\n",
        "\n",
        "    @property\n",
        "    def balance(self):\n",
        "        return self.__balance\n",
        "\n",
        "    @balance.setter\n",
        "    def balance(self, new_balance):\n",
        "        if new_balance >= 0:\n",
        "            self.__balance = new_balance\n",
        "        else:\n",
        "            print(\"Invalid balance. Please provide a non-negative value.\")\n",
        "\n",
        "# Example usage:\n",
        "account = BankAccount(account_number=\"123456\")\n",
        "print(\"Initial Balance:\", account.balance)\n",
        "account.balance = 500\n",
        "print(\"Updated Balance:\", account.balance)"
      ],
      "metadata": {
        "colab": {
          "base_uri": "https://localhost:8080/"
        },
        "id": "-CtlfNcKg4cC",
        "outputId": "5c1e303e-6a88-4863-ddf2-cbbce20aec8c"
      },
      "execution_count": 30,
      "outputs": [
        {
          "output_type": "stream",
          "name": "stdout",
          "text": [
            "Initial Balance: 0\n",
            "Updated Balance: 500\n"
          ]
        }
      ]
    },
    {
      "cell_type": "code",
      "source": [
        "class Employee:\n",
        "    def __init__(self, employee_id, salary):\n",
        "        self.__employee_id = employee_id  # Private attribute\n",
        "        self.__salary = salary  # Private attribute\n",
        "\n",
        "    @property\n",
        "    def employee_id(self):\n",
        "        return self.__employee_id\n",
        "\n",
        "    @property\n",
        "    def salary(self):\n",
        "        return self.__salary\n",
        "\n",
        "    @salary.setter\n",
        "    def salary(self, new_salary):\n",
        "        if new_salary >= 0:\n",
        "            self.__salary = new_salary\n",
        "        else:\n",
        "            print(\"Invalid salary. Please provide a non-negative value.\")\n",
        "\n",
        "    def calculate_yearly_bonus(self, bonus_percentage):\n",
        "        if bonus_percentage >= 0:\n",
        "            bonus_amount = (bonus_percentage / 100) * self.__salary\n",
        "            print(f\"Yearly Bonus for Employee ID {self.__employee_id}: ${bonus_amount}\")\n",
        "            return bonus_amount\n",
        "        else:\n",
        "            print(\"Invalid bonus percentage. Please provide a non-negative value.\")\n",
        "            return 0\n",
        "\n",
        "# Example usage:\n",
        "employee = Employee(employee_id=\"E12345\", salary=50000)\n",
        "\n",
        "print(\"Employee ID:\", employee.employee_id)\n",
        "print(\"Current Salary:\", employee.salary)\n",
        "\n",
        "employee.salary = 55000\n",
        "print(\"Updated Salary:\", employee.salary)\n",
        "\n",
        "bonus_percentage = 10  # 10% bonus\n",
        "yearly_bonus = employee.calculate_yearly_bonus(bonus_percentage)\n"
      ],
      "metadata": {
        "colab": {
          "base_uri": "https://localhost:8080/"
        },
        "id": "GG3vlZ1LhptU",
        "outputId": "dbcedf71-d1a8-4d9d-de85-3d34a7117d4f"
      },
      "execution_count": 32,
      "outputs": [
        {
          "output_type": "stream",
          "name": "stdout",
          "text": [
            "Employee ID: E12345\n",
            "Current Salary: 50000\n",
            "Updated Salary: 55000\n",
            "Yearly Bonus for Employee ID E12345: $5500.0\n"
          ]
        }
      ]
    },
    {
      "cell_type": "code",
      "source": [
        "class Book:\n",
        "    def __init__(self, title, author, availability=True):\n",
        "        self.__title = title  # Private attribute\n",
        "        self.__author = author  # Private attribute\n",
        "        self.__availability = availability  # Private attribute\n",
        "\n",
        "    @property\n",
        "    def title(self):\n",
        "        return self.__title\n",
        "\n",
        "    @property\n",
        "    def author(self):\n",
        "        return self.__author\n",
        "\n",
        "    @property\n",
        "    def availability(self):\n",
        "        return self.__availability\n",
        "\n",
        "    @availability.setter\n",
        "    def availability(self, new_availability):\n",
        "        self.__availability = new_availability\n",
        "\n",
        "    def display_info(self):\n",
        "        availability_status = \"Available\" if self.__availability else \"Not Available\"\n",
        "        print(f\"Title: {self.__title}\\nAuthor: {self.__author}\\nAvailability: {availability_status}\\n\")\n",
        "\n",
        "# Example usage:\n",
        "book1 = Book(title=\"The Great Gatsby\", author=\"F. Scott Fitzgerald\", availability=True)\n",
        "book2 = Book(title=\"To Kill a Mockingbird\", author=\"Harper Lee\", availability=False)\n",
        "print(\"Book 1 Information:\")\n",
        "print(\"Title:\", book1.title)\n",
        "print(\"Author:\", book1.author)\n",
        "print(\"Availability:\", book1.availability)\n",
        "book1.availability = False\n",
        "book1.display_info()\n",
        "print(\"Book 2 Information:\")\n",
        "book2.display_info()"
      ],
      "metadata": {
        "colab": {
          "base_uri": "https://localhost:8080/"
        },
        "id": "DV9KHWPZhzu0",
        "outputId": "18357fea-0666-4b69-dadb-01253d10cf63"
      },
      "execution_count": 33,
      "outputs": [
        {
          "output_type": "stream",
          "name": "stdout",
          "text": [
            "Book 1 Information:\n",
            "Title: The Great Gatsby\n",
            "Author: F. Scott Fitzgerald\n",
            "Availability: True\n",
            "Title: The Great Gatsby\n",
            "Author: F. Scott Fitzgerald\n",
            "Availability: Not Available\n",
            "\n",
            "Book 2 Information:\n",
            "Title: To Kill a Mockingbird\n",
            "Author: Harper Lee\n",
            "Availability: Not Available\n",
            "\n"
          ]
        }
      ]
    },
    {
      "cell_type": "code",
      "source": [
        "class Customer:\n",
        "    def __init__(self, name, address, contact_info):\n",
        "        self.__name = name  # Private attribute\n",
        "        self.__address = address  # Private attribute\n",
        "        self.__contact_info = contact_info  # Private attribute\n",
        "\n",
        "    @property\n",
        "    def name(self):\n",
        "        return self.__name\n",
        "\n",
        "    @property\n",
        "    def address(self):\n",
        "        return self.__address\n",
        "\n",
        "    @property\n",
        "    def contact_info(self):\n",
        "        return self.__contact_info\n",
        "\n",
        "    @address.setter\n",
        "    def address(self, new_address):\n",
        "        self.__address = new_address\n",
        "\n",
        "    @contact_info.setter\n",
        "    def contact_info(self, new_contact_info):\n",
        "        self.__contact_info = new_contact_info\n",
        "\n",
        "    def display_info(self):\n",
        "        print(f\"Customer Information:\\nName: {self.__name}\\nAddress: {self.__address}\\nContact Info: {self.__contact_info}\\n\")\n",
        "\n",
        "# Example usage:\n",
        "customer1 = Customer(name=\"Alice Johnson\", address=\"123 Main St\", contact_info=\"alice@email.com, 555-1234\")\n",
        "customer2 = Customer(name=\"Bob Smith\", address=\"456 Oak Ave\", contact_info=\"bob@email.com, 555-5678\")\n",
        "\n",
        "print(\"Customer 1 Information:\")\n",
        "print(\"Name:\", customer1.name)\n",
        "print(\"Address:\", customer1.address)\n",
        "print(\"Contact Info:\", customer1.contact_info)\n",
        "\n",
        "customer1.address = \"789 Elm Blvd\"\n",
        "customer1.contact_info = \"alice@gmail.com, 555-9876\"\n",
        "\n",
        "customer1.display_info()\n",
        "\n",
        "print(\"Customer 2 Information:\")\n",
        "customer2.display_info()\n"
      ],
      "metadata": {
        "colab": {
          "base_uri": "https://localhost:8080/"
        },
        "id": "Cl-NP4IMh_I3",
        "outputId": "a3d8a24e-6ad5-432a-c664-0b67a73baa20"
      },
      "execution_count": 34,
      "outputs": [
        {
          "output_type": "stream",
          "name": "stdout",
          "text": [
            "Customer 1 Information:\n",
            "Name: Alice Johnson\n",
            "Address: 123 Main St\n",
            "Contact Info: alice@email.com, 555-1234\n",
            "Customer Information:\n",
            "Name: Alice Johnson\n",
            "Address: 789 Elm Blvd\n",
            "Contact Info: alice@gmail.com, 555-9876\n",
            "\n",
            "Customer 2 Information:\n",
            "Customer Information:\n",
            "Name: Bob Smith\n",
            "Address: 456 Oak Ave\n",
            "Contact Info: bob@email.com, 555-5678\n",
            "\n"
          ]
        }
      ]
    },
    {
      "cell_type": "markdown",
      "source": [
        "**POLYMORPHISM**"
      ],
      "metadata": {
        "id": "yNUsJW2YiLUt"
      }
    },
    {
      "cell_type": "markdown",
      "source": [
        "1) Polymorphism is a key concept in object-oriented programming (OOP) that refers to the ability of different objects to respond to the same message (method call) in different ways. In other words, polymorphism allows objects of different classes to be treated as objects of a common base class, providing a unified interface."
      ],
      "metadata": {
        "id": "PchNy1Tmmjq4"
      }
    },
    {
      "cell_type": "markdown",
      "source": [
        "1.\n",
        "\n",
        "Compile-Time Polymorphism:\n",
        "\n",
        "Also Known As: Static Polymorphism or Method Overloading.\n",
        "\n",
        "Definition: Compile-time polymorphism occurs when the method that needs to be executed is determined at compile-time.\n",
        "\n",
        "Python itself does not support traditional method overloading based on the number or types of parameters. However, you can achieve a form of overloading using default parameter values and variable-length arguments.\n",
        "\n",
        "2.\n",
        "Runtime Polymorphism:\n",
        "\n",
        "\n",
        "Also Known As: Dynamic Polymorphism or Method Overriding.\n",
        "\n",
        "Definition: Runtime polymorphism occurs when the method that needs to be executed is determined at runtime."
      ],
      "metadata": {
        "id": "bEBUzVHtmjjC"
      }
    },
    {
      "cell_type": "code",
      "source": [
        "import math\n",
        "\n",
        "class Shape:\n",
        "    def calculate_area(self):\n",
        "        pass  # Placeholder for the common method\n",
        "\n",
        "class Circle(Shape):\n",
        "    def __init__(self, radius):\n",
        "        self.radius = radius\n",
        "\n",
        "    def calculate_area(self):\n",
        "        return math.pi * self.radius**2\n",
        "\n",
        "class Square(Shape):\n",
        "    def __init__(self, side_length):\n",
        "        self.side_length = side_length\n",
        "\n",
        "    def calculate_area(self):\n",
        "        return self.side_length**2\n",
        "\n",
        "class Triangle(Shape):\n",
        "    def __init__(self, base, height):\n",
        "        self.base = base\n",
        "        self.height = height\n",
        "\n",
        "    def calculate_area(self):\n",
        "        return 0.5 * self.base * self.height\n",
        "\n",
        "# Example usage:\n",
        "shapes = [Circle(radius=5), Square(side_length=4), Triangle(base=3, height=6)]\n",
        "\n",
        "for shape in shapes:\n",
        "    print(f\"Area of {shape.__class__.__name__}: {shape.calculate_area()}\")\n"
      ],
      "metadata": {
        "colab": {
          "base_uri": "https://localhost:8080/"
        },
        "id": "owyh43GRmqO_",
        "outputId": "8b316bc9-2272-42b6-c7ff-91627310a33f"
      },
      "execution_count": 35,
      "outputs": [
        {
          "output_type": "stream",
          "name": "stdout",
          "text": [
            "Area of Circle: 78.53981633974483\n",
            "Area of Square: 16\n",
            "Area of Triangle: 9.0\n"
          ]
        }
      ]
    },
    {
      "cell_type": "markdown",
      "source": [
        "Method overriding is a concept in polymorphism where a subclass provides a specific implementation for a method that is already defined in its superclass. The overridden method in the subclass has the same signature (name and parameters) as the method in the superclass."
      ],
      "metadata": {
        "id": "xwZ3Ab22mjRZ"
      }
    },
    {
      "cell_type": "code",
      "source": [
        "class Animal:\n",
        "    def make_sound(self):\n",
        "        return \"Generic animal sound\"\n",
        "\n",
        "class Dog(Animal):\n",
        "    def make_sound(self):\n",
        "        return \"Woof!\"\n",
        "\n",
        "class Cat(Animal):\n",
        "    def make_sound(self):\n",
        "        return \"Meow!\"\n",
        "\n",
        "# Example usage:\n",
        "dog = Dog()\n",
        "cat = Cat()\n",
        "\n",
        "print(dog.make_sound())  # Outputs: Woof!\n",
        "print(cat.make_sound())  # Outputs: Meow!\n"
      ],
      "metadata": {
        "colab": {
          "base_uri": "https://localhost:8080/"
        },
        "id": "uvSOD9tGnY9x",
        "outputId": "fc3fbf5e-2c24-4599-d118-840d9a437809"
      },
      "execution_count": 36,
      "outputs": [
        {
          "output_type": "stream",
          "name": "stdout",
          "text": [
            "Woof!\n",
            "Meow!\n"
          ]
        }
      ]
    },
    {
      "cell_type": "markdown",
      "source": [
        "Polymorphism:\n",
        "\n",
        "In Python, polymorphism is achieved through method overriding. Different classes provide specific implementations for a method defined in a common base class or interface.\n",
        "\n",
        "Method Overloading:\n",
        "\n",
        "Python itself does not support traditional method overloading based on the number or types of parameters. However, you can achieve a form of overloading using default parameter values and variable-length arguments. The example above demonstrates a common approach to simulate method overloading.\n",
        "\n",
        "In summary, polymorphism is a broader concept that encompasses method overriding, while method overloading, in the traditional sense, is not directly supported in Python. Instead, Python focuses on providing flexibility through polymorphism and dynamic typing."
      ],
      "metadata": {
        "id": "2PdUzxa0misu"
      }
    },
    {
      "cell_type": "code",
      "source": [
        "class Animal:\n",
        "    def speak(self):\n",
        "        return \"Generic animal sound\"\n",
        "\n",
        "class Dog(Animal):\n",
        "    def speak(self):\n",
        "        return \"Woof!\"\n",
        "\n",
        "class Cat(Animal):\n",
        "    def speak(self):\n",
        "        return \"Meow!\"\n",
        "\n",
        "class Bird(Animal):\n",
        "    def speak(self):\n",
        "        return \"Chirp!\"\n",
        "\n",
        "# Example usage:\n",
        "dog = Dog()\n",
        "cat = Cat()\n",
        "bird = Bird()\n",
        "\n",
        "# Polymorphism in action\n",
        "print(\"Dog says:\", dog.speak())   # Outputs: Woof!\n",
        "print(\"Cat says:\", cat.speak())   # Outputs: Meow!\n",
        "print(\"Bird says:\", bird.speak()) # Outputs: Chirp!\n"
      ],
      "metadata": {
        "colab": {
          "base_uri": "https://localhost:8080/"
        },
        "id": "10HOKr-diKAr",
        "outputId": "707a132c-dd80-4663-ce5b-1cab21ec04ab"
      },
      "execution_count": 37,
      "outputs": [
        {
          "output_type": "stream",
          "name": "stdout",
          "text": [
            "Dog says: Woof!\n",
            "Cat says: Meow!\n",
            "Bird says: Chirp!\n"
          ]
        }
      ]
    },
    {
      "cell_type": "markdown",
      "source": [
        "Abstract classes and abstract methods play a crucial role in achieving polymorphism by providing a common interface for derived classes while allowing each class to implement the interface in its specific way. In Python, the abc (Abstract Base Classes) module is used to define abstract classes and abstract methods."
      ],
      "metadata": {
        "id": "7u7tKXrkn39p"
      }
    },
    {
      "cell_type": "code",
      "source": [
        "from abc import ABC, abstractmethod\n",
        "\n",
        "class Shape(ABC):\n",
        "    @abstractmethod\n",
        "    def draw(self):\n",
        "        pass\n",
        "\n",
        "class Circle(Shape):\n",
        "    def draw(self):\n",
        "        return \"Drawing a circle\"\n",
        "\n",
        "class Square(Shape):\n",
        "    def draw(self):\n",
        "        return \"Drawing a square\"\n",
        "\n",
        "# Example usage:\n",
        "shapes = [Circle(), Square()]\n",
        "\n",
        "for shape in shapes:\n",
        "    print(shape.draw())\n"
      ],
      "metadata": {
        "colab": {
          "base_uri": "https://localhost:8080/"
        },
        "id": "kItEcvVOnqoa",
        "outputId": "da15a78f-9865-43dd-cf32-6042eaf37b05"
      },
      "execution_count": 38,
      "outputs": [
        {
          "output_type": "stream",
          "name": "stdout",
          "text": [
            "Drawing a circle\n",
            "Drawing a square\n"
          ]
        }
      ]
    },
    {
      "cell_type": "code",
      "source": [
        "from abc import ABC, abstractmethod\n",
        "\n",
        "class Vehicle(ABC):\n",
        "    def __init__(self, brand):\n",
        "        self.brand = brand\n",
        "\n",
        "    @abstractmethod\n",
        "    def start(self):\n",
        "        pass\n",
        "\n",
        "class Car(Vehicle):\n",
        "    def start(self):\n",
        "        return f\"{self.brand} car is starting.\"\n",
        "\n",
        "class Bicycle(Vehicle):\n",
        "    def start(self):\n",
        "        return f\"{self.brand} bicycle is pedaling.\"\n",
        "\n",
        "class Boat(Vehicle):\n",
        "    def start(self):\n",
        "        return f\"{self.brand} boat is sailing.\"\n",
        "\n",
        "# Example usage:\n",
        "vehicles = [Car(brand=\"Toyota\"), Bicycle(brand=\"Schwinn\"), Boat(brand=\"Yamaha\")]\n",
        "\n",
        "for vehicle in vehicles:\n",
        "    print(vehicle.start())\n"
      ],
      "metadata": {
        "colab": {
          "base_uri": "https://localhost:8080/"
        },
        "id": "dU003m1KoATs",
        "outputId": "78ca5ced-5b37-4413-e23e-6f697ff033a8"
      },
      "execution_count": 39,
      "outputs": [
        {
          "output_type": "stream",
          "name": "stdout",
          "text": [
            "Toyota car is starting.\n",
            "Schwinn bicycle is pedaling.\n",
            "Yamaha boat is sailing.\n"
          ]
        }
      ]
    },
    {
      "cell_type": "markdown",
      "source": [
        "isinstance() Function:\n",
        "\n",
        "Significance: The isinstance() function is used to check if an object belongs to a particular class or a tuple of classes. It is significant in polymorphism because it allows you to dynamically determine the type of an object and make decisions based on its type during runtime.\n",
        "\n",
        "issubclass() Function:\n",
        "\n",
        "Significance: The issubclass() function checks if a class is a subclass of another class. This is useful in scenarios where you want to verify the inheritance relationship between classes, ensuring that the expected class hierarchy is maintained."
      ],
      "metadata": {
        "id": "Ir9Qi19WoWLG"
      }
    },
    {
      "cell_type": "markdown",
      "source": [
        "The @abstractmethod decorator is part of the abc (Abstract Base Classes) module in Python. Its role in achieving polymorphism is to define abstract methods in abstract classes. Abstract methods are methods without an implementation in the abstract class, and they must be implemented by concrete subclasses. This ensures that all subclasses provide a common interface, facilitating polymorphic behavior."
      ],
      "metadata": {
        "id": "I6g_yda8oZyz"
      }
    },
    {
      "cell_type": "code",
      "source": [
        "from abc import ABC, abstractmethod\n",
        "\n",
        "class Shape(ABC):\n",
        "    @abstractmethod\n",
        "    def draw(self):\n",
        "        pass\n",
        "\n",
        "class Circle(Shape):\n",
        "    def draw(self):\n",
        "        return \"Drawing a circle\"\n",
        "\n",
        "class Square(Shape):\n",
        "    def draw(self):\n",
        "        return \"Drawing a square\"\n",
        "\n",
        "# Example usage:\n",
        "shapes = [Circle(), Square()]\n",
        "\n",
        "for shape in shapes:\n",
        "    print(shape.draw())\n"
      ],
      "metadata": {
        "colab": {
          "base_uri": "https://localhost:8080/"
        },
        "id": "oEzrqKIMoBjT",
        "outputId": "08d2738d-3bb8-4ef1-db2c-f1fcdf7940fc"
      },
      "execution_count": 40,
      "outputs": [
        {
          "output_type": "stream",
          "name": "stdout",
          "text": [
            "Drawing a circle\n",
            "Drawing a square\n"
          ]
        }
      ]
    },
    {
      "cell_type": "code",
      "source": [
        "import math\n",
        "\n",
        "class Shape:\n",
        "    def area(self):\n",
        "        pass  # Placeholder for the polymorphic method\n",
        "\n",
        "class Circle(Shape):\n",
        "    def __init__(self, radius):\n",
        "        self.radius = radius\n",
        "\n",
        "    def area(self):\n",
        "        return math.pi * self.radius**2\n",
        "\n",
        "class Rectangle(Shape):\n",
        "    def __init__(self, length, width):\n",
        "        self.length = length\n",
        "        self.width = width\n",
        "\n",
        "    def area(self):\n",
        "        return self.length * self.width\n",
        "\n",
        "class Triangle(Shape):\n",
        "    def __init__(self, base, height):\n",
        "        self.base = base\n",
        "        self.height = height\n",
        "\n",
        "    def area(self):\n",
        "        return 0.5 * self.base * self.height\n",
        "\n",
        "# Example usage:\n",
        "shapes = [Circle(radius=5), Rectangle(length=4, width=3), Triangle(base=5, height=8)]\n",
        "\n",
        "for shape in shapes:\n",
        "    print(f\"Area of {shape.__class__.__name__}: {shape.area()}\")\n"
      ],
      "metadata": {
        "colab": {
          "base_uri": "https://localhost:8080/"
        },
        "id": "v3aJdxXTofa0",
        "outputId": "0ce537e0-bec5-4811-cb74-6511aaa00f37"
      },
      "execution_count": 41,
      "outputs": [
        {
          "output_type": "stream",
          "name": "stdout",
          "text": [
            "Area of Circle: 78.53981633974483\n",
            "Area of Rectangle: 12\n",
            "Area of Triangle: 20.0\n"
          ]
        }
      ]
    },
    {
      "cell_type": "markdown",
      "source": [
        "Benefits of Polymorphism in Python Programs:\n",
        "\n",
        "Code Reusability:\n",
        "\n",
        "Explanation: Polymorphism allows the same method or function to be used with different types of objects. This promotes code reuse because a single piece of code can work with various types, reducing redundancy and making the code more modular.\n",
        "\n",
        "\n",
        "Example: In the context of a generic draw() method in a graphics application, you can reuse the same method for different shapes like circles, rectangles, and triangles.\n",
        "\n",
        "\n",
        "Flexibility:\n",
        "\n",
        "Explanation:\n",
        "\n",
        "Polymorphism enhances program flexibility by allowing the same interface (method or function name) to be implemented in different ways by different classes. This enables developers to extend or modify the behavior of a system without altering existing code.\n",
        "Example: In a vehicle system, the start() method can have different implementations for cars, bicycles, and boats, providing flexibility in how each type of vehicle starts."
      ],
      "metadata": {
        "id": "FUSrcEgUo3aT"
      }
    },
    {
      "cell_type": "markdown",
      "source": [
        "Use of super() Function in Python Polymorphism:\n",
        "\n",
        "The super() function is used to call methods of a parent class in Python. In polymorphism, it helps in achieving method overriding while preserving the functionality of the overridden method in the parent class. When a method is overridden in a subclass, the super() function allows calling the overridden method from the parent class.\n",
        "\n",
        "Using super() ensures that the overridden methods in subclasses can leverage the functionality of the corresponding methods in the parent class, promoting code reuse and maintaining the integrity of the class hierarchy."
      ],
      "metadata": {
        "id": "J1vXCuR_o3Lz"
      }
    },
    {
      "cell_type": "code",
      "source": [
        "class BankAccount:\n",
        "    def __init__(self, account_number, balance):\n",
        "        self.account_number = account_number\n",
        "        self.balance = balance\n",
        "\n",
        "    def display_balance(self):\n",
        "        return f\"Account Number: {self.account_number}, Balance: ${self.balance:.2f}\"\n",
        "\n",
        "    def withdraw(self, amount):\n",
        "        if amount > 0 and amount <= self.balance:\n",
        "            self.balance -= amount\n",
        "            return f\"Withdrawal of ${amount:.2f} successful. {self.display_balance()}\"\n",
        "        else:\n",
        "            return \"Withdrawal failed. Insufficient funds.\"\n",
        "\n",
        "class SavingsAccount(BankAccount):\n",
        "    def __init__(self, account_number, balance, interest_rate):\n",
        "        super().__init__(account_number, balance)\n",
        "        self.interest_rate = interest_rate\n",
        "\n",
        "    def apply_interest(self):\n",
        "        interest_amount = self.balance * (self.interest_rate / 100)\n",
        "        self.balance += interest_amount\n",
        "        return f\"Interest applied. {self.display_balance()}\"\n",
        "\n",
        "class CheckingAccount(BankAccount):\n",
        "    def __init__(self, account_number, balance, overdraft_limit):\n",
        "        super().__init__(account_number, balance)\n",
        "        self.overdraft_limit = overdraft_limit\n",
        "\n",
        "    def withdraw(self, amount):\n",
        "        if amount > 0 and amount <= (self.balance + self.overdraft_limit):\n",
        "            self.balance -= amount\n",
        "            return f\"Withdrawal of ${amount:.2f} successful. {self.display_balance()}\"\n",
        "        else:\n",
        "            return \"Withdrawal failed. Insufficient funds and overdraft limit reached.\"\n",
        "\n",
        "class CreditCardAccount(BankAccount):\n",
        "    def __init__(self, account_number, balance, credit_limit):\n",
        "        super().__init__(account_number, balance)\n",
        "        self.credit_limit = credit_limit\n",
        "\n",
        "    def withdraw(self, amount):\n",
        "        if amount > 0 and amount <= (self.balance + self.credit_limit):\n",
        "            self.balance -= amount\n",
        "            return f\"Withdrawal of ${amount:.2f} successful. {self.display_balance()}\"\n",
        "        else:\n",
        "            return \"Withdrawal failed. Exceeded credit limit.\"\n",
        "\n",
        "# Example usage:\n",
        "savings_account = SavingsAccount(account_number=\"SA123\", balance=1000, interest_rate=2.5)\n",
        "checking_account = CheckingAccount(account_number=\"CA456\", balance=1500, overdraft_limit=500)\n",
        "credit_card_account = CreditCardAccount(account_number=\"CC789\", balance=200, credit_limit=1000)\n",
        "\n",
        "accounts = [savings_account, checking_account, credit_card_account]\n",
        "\n",
        "for account in accounts:\n",
        "    print(f\"\\nAccount Type: {account.__class__.__name__}\")\n",
        "    print(account.withdraw(200))\n",
        "    if isinstance(account, SavingsAccount):\n",
        "        print(account.apply_interest())\n"
      ],
      "metadata": {
        "colab": {
          "base_uri": "https://localhost:8080/"
        },
        "id": "vSvxQpZvooyk",
        "outputId": "32adad81-0717-460a-910b-21bd8cae1c45"
      },
      "execution_count": 42,
      "outputs": [
        {
          "output_type": "stream",
          "name": "stdout",
          "text": [
            "\n",
            "Account Type: SavingsAccount\n",
            "Withdrawal of $200.00 successful. Account Number: SA123, Balance: $800.00\n",
            "Interest applied. Account Number: SA123, Balance: $820.00\n",
            "\n",
            "Account Type: CheckingAccount\n",
            "Withdrawal of $200.00 successful. Account Number: CA456, Balance: $1300.00\n",
            "\n",
            "Account Type: CreditCardAccount\n",
            "Withdrawal of $200.00 successful. Account Number: CC789, Balance: $0.00\n"
          ]
        }
      ]
    },
    {
      "cell_type": "code",
      "source": [
        "class Employee:\n",
        "    def __init__(self, emp_id, name, role):\n",
        "        self.emp_id = emp_id\n",
        "        self.name = name\n",
        "        self.role = role\n",
        "\n",
        "    def display_info(self):\n",
        "        return f\"Employee ID: {self.emp_id}, Name: {self.name}, Role: {self.role}\"\n",
        "\n",
        "    def calculate_salary(self):\n",
        "        return \"Base salary calculation. Please override in subclasses.\"\n",
        "\n",
        "class Manager(Employee):\n",
        "    def __init__(self, emp_id, name, bonus_percentage):\n",
        "        super().__init__(emp_id, name, role=\"Manager\")\n",
        "        self.bonus_percentage = bonus_percentage\n",
        "\n",
        "    def calculate_salary(self):\n",
        "        base_salary = 50000  # Example base salary for a manager\n",
        "        bonus_amount = base_salary * (self.bonus_percentage / 100)\n",
        "        total_salary = base_salary + bonus_amount\n",
        "        return f\"Salary calculation for Manager. Base Salary: ${base_salary:.2f}, Bonus: ${bonus_amount:.2f}, Total Salary: ${total_salary:.2f}\"\n",
        "\n",
        "class Developer(Employee):\n",
        "    def __init__(self, emp_id, name, programming_language):\n",
        "        super().__init__(emp_id, name, role=\"Developer\")\n",
        "        self.programming_language = programming_language\n",
        "\n",
        "    def calculate_salary(self):\n",
        "        base_salary = 60000  # Example base salary for a developer\n",
        "        return f\"Salary calculation for Developer. Base Salary: ${base_salary:.2f}\"\n",
        "\n",
        "class Designer(Employee):\n",
        "    def __init__(self, emp_id, name, experience_years):\n",
        "        super().__init__(emp_id, name, role=\"Designer\")\n",
        "        self.experience_years = experience_years\n",
        "\n",
        "    def calculate_salary(self):\n",
        "        base_salary = 55000  # Example base salary for a designer\n",
        "        experience_bonus = self.experience_years * 1000\n",
        "        total_salary = base_salary + experience_bonus\n",
        "        return f\"Salary calculation for Designer. Base Salary: ${base_salary:.2f}, Experience Bonus: ${experience_bonus:.2f}, Total Salary: ${total_salary:.2f}\"\n",
        "\n",
        "# Example usage:\n",
        "manager = Manager(emp_id=\"M001\", name=\"John Smith\", bonus_percentage=10)\n",
        "developer = Developer(emp_id=\"D001\", name=\"Alice Johnson\", programming_language=\"Python\")\n",
        "designer = Designer(emp_id=\"DS001\", name=\"Bob Miller\", experience_years=5)\n",
        "\n",
        "employees = [manager, developer, designer]\n",
        "\n",
        "for employee in employees:\n",
        "    print(\"\\n\" + employee.display_info())\n",
        "    print(employee.calculate_salary())\n"
      ],
      "metadata": {
        "colab": {
          "base_uri": "https://localhost:8080/"
        },
        "id": "knDS3mO2pNcs",
        "outputId": "40d00c99-7046-4025-cd5a-38eacf273d78"
      },
      "execution_count": 43,
      "outputs": [
        {
          "output_type": "stream",
          "name": "stdout",
          "text": [
            "\n",
            "Employee ID: M001, Name: John Smith, Role: Manager\n",
            "Salary calculation for Manager. Base Salary: $50000.00, Bonus: $5000.00, Total Salary: $55000.00\n",
            "\n",
            "Employee ID: D001, Name: Alice Johnson, Role: Developer\n",
            "Salary calculation for Developer. Base Salary: $60000.00\n",
            "\n",
            "Employee ID: DS001, Name: Bob Miller, Role: Designer\n",
            "Salary calculation for Designer. Base Salary: $55000.00, Experience Bonus: $5000.00, Total Salary: $60000.00\n"
          ]
        }
      ]
    },
    {
      "cell_type": "code",
      "source": [
        "class Animal:\n",
        "    def __init__(self, name):\n",
        "        self.name = name\n",
        "\n",
        "    def display_info(self):\n",
        "        return f\"Animal: {self.name}\"\n",
        "\n",
        "    def make_sound(self):\n",
        "        return \"Generic animal sound\"\n",
        "\n",
        "    def eat(self):\n",
        "        return f\"{self.name} is eating.\"\n",
        "\n",
        "    def sleep(self):\n",
        "        return f\"{self.name} is sleeping.\"\n",
        "\n",
        "class Mammal(Animal):\n",
        "    def make_sound(self):\n",
        "        return \"Mammal sound\"\n",
        "\n",
        "    def give_birth(self):\n",
        "        return f\"{self.name} is giving birth.\"\n",
        "\n",
        "class Bird(Animal):\n",
        "    def make_sound(self):\n",
        "        return \"Bird sound\"\n",
        "\n",
        "    def fly(self):\n",
        "        return f\"{self.name} is flying.\"\n",
        "\n",
        "class Reptile(Animal):\n",
        "    def make_sound(self):\n",
        "        return \"Reptile sound\"\n",
        "\n",
        "    def bask_in_sun(self):\n",
        "        return f\"{self.name} is basking in the sun.\"\n",
        "\n",
        "# Example usage:\n",
        "lion = Mammal(name=\"Lion\")\n",
        "parrot = Bird(name=\"Parrot\")\n",
        "snake = Reptile(name=\"Snake\")\n",
        "\n",
        "zoo_animals = [lion, parrot, snake]\n",
        "\n",
        "for animal in zoo_animals:\n",
        "    print(\"\\n\" + animal.display_info())\n",
        "    print(animal.make_sound())\n",
        "    print(animal.eat())\n",
        "    print(animal.sleep())\n",
        "\n",
        "# Specific behaviors for Mammal, Bird, and Reptile\n",
        "print(\"\\n\" + lion.give_birth())\n",
        "print(parrot.fly())\n",
        "print(snake.bask_in_sun())\n"
      ],
      "metadata": {
        "colab": {
          "base_uri": "https://localhost:8080/"
        },
        "id": "6kT1xvQhpWIV",
        "outputId": "50f4fd0f-7377-48de-9aae-4cd19e15c942"
      },
      "execution_count": 44,
      "outputs": [
        {
          "output_type": "stream",
          "name": "stdout",
          "text": [
            "\n",
            "Animal: Lion\n",
            "Mammal sound\n",
            "Lion is eating.\n",
            "Lion is sleeping.\n",
            "\n",
            "Animal: Parrot\n",
            "Bird sound\n",
            "Parrot is eating.\n",
            "Parrot is sleeping.\n",
            "\n",
            "Animal: Snake\n",
            "Reptile sound\n",
            "Snake is eating.\n",
            "Snake is sleeping.\n",
            "\n",
            "Lion is giving birth.\n",
            "Parrot is flying.\n",
            "Snake is basking in the sun.\n"
          ]
        }
      ]
    },
    {
      "cell_type": "markdown",
      "source": [
        "**ABSTRACTION**"
      ],
      "metadata": {
        "id": "WikyClowqCwH"
      }
    },
    {
      "cell_type": "markdown",
      "source": [
        "Abstraction in Python is a fundamental concept in object-oriented programming (OOP) that involves simplifying complex systems by modeling classes based on the essential properties and behaviors they share. Abstraction allows you to focus on the high-level design of a system while hiding the unnecessary implementation details.\n",
        "\n",
        "In OOP, abstraction is implemented using classes and objects. A class represents a blueprint for creating objects, and objects are instances of classes. Abstraction involves:"
      ],
      "metadata": {
        "id": "btjKHKLDqGT7"
      }
    },
    {
      "cell_type": "markdown",
      "source": [
        "Benefits of Abstraction in Code Organization and Complexity Reduction:\n",
        "\n",
        "Simplifies Complex Systems:\n",
        "\n",
        "Explanation: Abstraction allows you to model complex systems at a high level without worrying about intricate implementation details. This makes it easier to understand and manage large systems.\n",
        "\n",
        "Modular Design:\n",
        "\n",
        "Explanation: Abstraction promotes modular design by breaking down a system into smaller, manageable units (classes). Each class focuses on a specific aspect of the system, making the code modular and easier to maintain.\n",
        "\n",
        "Code Reusability:\n",
        "\n",
        "Explanation: Abstraction encourages the creation of reusable classes and components. Once a well-defined class is created, it can be reused in different parts of the program or even in different programs, reducing redundancy.\n",
        "\n",
        "Enhances Maintainability:\n",
        "\n",
        "Explanation: Abstraction makes code more maintainable. Changes or updates can be made to a specific class without affecting the rest of the system, as long as the external interface (methods) remains consistent.\n",
        "\n",
        "Reduced Complexity:\n",
        "\n",
        "Explanation: Abstraction helps in managing and reducing the complexity of a system. By providing a clear separation between what a class does (interface) and how it achieves it (implementation), the overall complexity is easier to handle.\n",
        "\n",
        "Improved Collaboration:\n",
        "\n",
        "Explanation: Abstraction provides a clear and standardized interface for interacting with objects. This allows multiple developers to work on different parts of a system without needing to understand the entire implementation, enhancing collaboration."
      ],
      "metadata": {
        "id": "PmBsqnPYqGP-"
      }
    },
    {
      "cell_type": "code",
      "source": [
        "from abc import ABC, abstractmethod\n",
        "import math\n",
        "\n",
        "class Shape(ABC):\n",
        "    @abstractmethod\n",
        "    def calculate_area(self):\n",
        "        pass  # Abstract method to be implemented by subclasses\n",
        "\n",
        "class Circle(Shape):\n",
        "    def __init__(self, radius):\n",
        "        self.radius = radius\n",
        "\n",
        "    def calculate_area(self):\n",
        "        return math.pi * self.radius**2\n",
        "\n",
        "class Rectangle(Shape):\n",
        "    def __init__(self, length, width):\n",
        "        self.length = length\n",
        "        self.width = width\n",
        "\n",
        "    def calculate_area(self):\n",
        "        return self.length * self.width\n",
        "\n",
        "# Example usage:\n",
        "circle = Circle(radius=5)\n",
        "rectangle = Rectangle(length=4, width=3)\n",
        "\n",
        "shapes = [circle, rectangle]\n",
        "\n",
        "for shape in shapes:\n",
        "    print(f\"\\nArea of {shape.__class__.__name__}: {shape.calculate_area()}\")\n"
      ],
      "metadata": {
        "colab": {
          "base_uri": "https://localhost:8080/"
        },
        "id": "G7PrDmKKpfJf",
        "outputId": "ad7a32ad-dbb9-48fa-ef49-d10808b3ba15"
      },
      "execution_count": 45,
      "outputs": [
        {
          "output_type": "stream",
          "name": "stdout",
          "text": [
            "\n",
            "Area of Circle: 78.53981633974483\n",
            "\n",
            "Area of Rectangle: 12\n"
          ]
        }
      ]
    },
    {
      "cell_type": "markdown",
      "source": [
        "Concept of Abstract Classes:\n",
        "In Python, an abstract class is a class that cannot be instantiated on its own and is meant to be subclassed by other classes. Abstract classes often define abstract methods, which are methods without an implementation in the abstract class itself. Subclasses are required to provide concrete implementations for these abstract methods.\n",
        "\n",
        "Using the abc Module:\n",
        "The abc module (Abstract Base Classes) in Python provides the ABC class and the abstractmethod decorator, allowing you to define abstract classes and methods."
      ],
      "metadata": {
        "id": "FRmkKJetrASO"
      }
    },
    {
      "cell_type": "code",
      "source": [
        "from abc import ABC, abstractmethod\n",
        "import math\n",
        "\n",
        "class Shape(ABC):  # Subclass of ABC (Abstract Base Class)\n",
        "    @abstractmethod\n",
        "    def calculate_area(self):\n",
        "        pass  # Abstract method without implementation\n",
        "\n",
        "class Circle(Shape):\n",
        "    def __init__(self, radius):\n",
        "        self.radius = radius\n",
        "\n",
        "    def calculate_area(self):\n",
        "        return math.pi * self.radius**2\n",
        "\n",
        "class Rectangle(Shape):\n",
        "    def __init__(self, length, width):\n",
        "        self.length = length\n",
        "        self.width = width\n",
        "\n",
        "    def calculate_area(self):\n",
        "        return self.length * self.width\n",
        "\n",
        "# Example usage:\n",
        "circle = Circle(radius=5)\n",
        "rectangle = Rectangle(length=4, width=3)\n",
        "\n",
        "shapes = [circle, rectangle]\n",
        "\n",
        "for shape in shapes:\n",
        "    print(f\"\\nArea of {shape.__class__.__name__}: {shape.calculate_area()}\")\n"
      ],
      "metadata": {
        "colab": {
          "base_uri": "https://localhost:8080/"
        },
        "id": "0v2GgWJYqw2A",
        "outputId": "58dcf798-5957-400f-9f46-75f8d879cb2e"
      },
      "execution_count": 46,
      "outputs": [
        {
          "output_type": "stream",
          "name": "stdout",
          "text": [
            "\n",
            "Area of Circle: 78.53981633974483\n",
            "\n",
            "Area of Rectangle: 12\n"
          ]
        }
      ]
    },
    {
      "cell_type": "markdown",
      "source": [
        "Differences Between Abstract Classes and Regular Classes:\n",
        "\n",
        "Instantiation:\n",
        "\n",
        "Abstract Classes: Cannot be instantiated directly. They are meant to be subclassed.\n",
        "\n",
        "Regular Classes: Can be instantiated directly.\n",
        "\n",
        "Abstract Methods:\n",
        "\n",
        "Abstract Classes: Can have abstract methods (methods without an implementation) that must be implemented by concrete subclasses.\n",
        "\n",
        "Regular Classes: Do not necessarily have abstract methods.\n",
        "\n",
        "Purpose:\n",
        "\n",
        "Abstract Classes: Designed to be base classes providing a common interface. Encourage code structure and enforce method implementation in subclasses.\n",
        "\n",
        "Regular Classes: Can be used for various purposes, including encapsulation, data modeling, and method implementation.\n",
        "\n",
        "Use Cases:\n",
        "\n",
        "Abstract Classes: Useful when you want to define a common interface for a group of related classes. Encourages a consistent structure across subclasses.\n",
        "\n",
        "Regular Classes: Used for general-purpose programming, data modeling, and encapsulation.\n",
        "\n",
        "Inheritance:\n",
        "\n",
        "Abstract Classes: Intended to be subclassed. Provides a template for subclasses to follow.\n",
        "\n",
        "Regular Classes: Can be standalone or serve as base classes for inheritance."
      ],
      "metadata": {
        "id": "7PFyTOsUrDtM"
      }
    },
    {
      "cell_type": "code",
      "source": [
        "from abc import ABC, abstractmethod\n",
        "\n",
        "class BankAccount(ABC):\n",
        "    def __init__(self, account_number, initial_balance=0):\n",
        "        self.account_number = account_number\n",
        "        self._balance = initial_balance  # Protected attribute for balance\n",
        "\n",
        "    @abstractmethod\n",
        "    def display_info(self):\n",
        "        pass  # Abstract method for displaying account information\n",
        "\n",
        "    def deposit(self, amount):\n",
        "        if amount > 0:\n",
        "            self._balance += amount\n",
        "            return f\"Deposit of ${amount:.2f} successful. New balance: ${self._balance:.2f}\"\n",
        "        else:\n",
        "            return \"Deposit failed. Please deposit a valid amount.\"\n",
        "\n",
        "    def withdraw(self, amount):\n",
        "        if amount > 0 and amount <= self._balance:\n",
        "            self._balance -= amount\n",
        "            return f\"Withdrawal of ${amount:.2f} successful. New balance: ${self._balance:.2f}\"\n",
        "        else:\n",
        "            return \"Withdrawal failed. Insufficient funds or invalid amount.\"\n",
        "\n",
        "# Concrete implementation of BankAccount\n",
        "class SavingsAccount(BankAccount):\n",
        "    def display_info(self):\n",
        "        return f\"Savings Account - Account Number: {self.account_number}, Balance: ${self._balance:.2f}\"\n",
        "\n",
        "# Example usage:\n",
        "savings_account = SavingsAccount(account_number=\"SA123\", initial_balance=1000)\n",
        "\n",
        "print(savings_account.display_info())\n",
        "\n",
        "print(savings_account.deposit(500))\n",
        "print(savings_account.withdraw(200))\n",
        "print(savings_account.withdraw(1500))  # Attempting to withdraw more than the balance\n",
        "\n",
        "print(savings_account.display_info())\n"
      ],
      "metadata": {
        "colab": {
          "base_uri": "https://localhost:8080/"
        },
        "id": "WA_yev9IrDTp",
        "outputId": "536ea13b-3d13-413f-9879-a7eca5ceef9c"
      },
      "execution_count": 47,
      "outputs": [
        {
          "output_type": "stream",
          "name": "stdout",
          "text": [
            "Savings Account - Account Number: SA123, Balance: $1000.00\n",
            "Deposit of $500.00 successful. New balance: $1500.00\n",
            "Withdrawal of $200.00 successful. New balance: $1300.00\n",
            "Withdrawal failed. Insufficient funds or invalid amount.\n",
            "Savings Account - Account Number: SA123, Balance: $1300.00\n"
          ]
        }
      ]
    },
    {
      "cell_type": "markdown",
      "source": [
        "\n",
        "In Python, the term \"interface classes\" is not used in the same explicit manner as in some other object-oriented programming languages like Java or C#. However, the concept of interfaces can be achieved using abstract classes with abstract methods or through the use of informal conventions.\n",
        "\n",
        "Interface Classes and Abstraction:\n",
        "\n",
        "Abstract Classes and Abstract Methods:\n",
        "\n",
        "In Python, abstract classes can be used to define interfaces. Abstract classes are created using the ABC (Abstract Base Class) module and the @abstractmethod decorator.\n",
        "\n",
        "An abstract method is a method declared in an abstract class without providing an implementation. Subclasses are required to provide concrete implementations for these abstract methods.\n",
        "\n",
        "By defining abstract methods, you create an interface that outlines a set of methods that must be implemented by any concrete class that inherits from the abstract class."
      ],
      "metadata": {
        "id": "XKQdYY9SrekM"
      }
    },
    {
      "cell_type": "code",
      "source": [
        "from abc import ABC, abstractmethod\n",
        "\n",
        "class Animal(ABC):\n",
        "    def __init__(self, name):\n",
        "        self.name = name\n",
        "\n",
        "    @abstractmethod\n",
        "    def move(self):\n",
        "        pass  # Abstract method for movement\n",
        "\n",
        "    def eat(self):\n",
        "        return f\"{self.name} is eating.\"\n",
        "\n",
        "    def sleep(self):\n",
        "        return f\"{self.name} is sleeping.\"\n",
        "\n",
        "class Mammal(Animal):\n",
        "    def move(self):\n",
        "        return f\"{self.name} is walking.\"\n",
        "\n",
        "class Bird(Animal):\n",
        "    def move(self):\n",
        "        return f\"{self.name} is flying.\"\n",
        "\n",
        "class Fish(Animal):\n",
        "    def move(self):\n",
        "        return f\"{self.name} is swimming.\"\n",
        "\n",
        "# Example usage:\n",
        "lion = Mammal(name=\"Lion\")\n",
        "parrot = Bird(name=\"Parrot\")\n",
        "goldfish = Fish(name=\"Goldfish\")\n",
        "\n",
        "animals = [lion, parrot, goldfish]\n",
        "\n",
        "for animal in animals:\n",
        "    print(animal.move())\n",
        "    print(animal.eat())\n",
        "    print(animal.sleep())\n"
      ],
      "metadata": {
        "colab": {
          "base_uri": "https://localhost:8080/"
        },
        "id": "ggV8sb-0r6Xx",
        "outputId": "0d881fb8-49dd-4f48-e305-fbe42a7f3aaa"
      },
      "execution_count": 53,
      "outputs": [
        {
          "output_type": "stream",
          "name": "stdout",
          "text": [
            "Lion is walking.\n",
            "Lion is eating.\n",
            "Lion is sleeping.\n",
            "Parrot is flying.\n",
            "Parrot is eating.\n",
            "Parrot is sleeping.\n",
            "Goldfish is swimming.\n",
            "Goldfish is eating.\n",
            "Goldfish is sleeping.\n"
          ]
        }
      ]
    },
    {
      "cell_type": "markdown",
      "source": [
        "Significance of Encapsulation in Achieving Abstraction:\n",
        "\n",
        "1.\n",
        "\n",
        "Data Hiding:\n",
        "\n",
        "Encapsulation involves bundling data (attributes) and methods that operate on the data into a single unit, i.e., a class. This hides the internal details of how an object works.\n",
        "\n",
        "\n",
        "Significance of Encapsulation in Achieving Abstraction:\n",
        "1. Data Hiding:\n",
        "\n",
        "Encapsulation involves bundling data (attributes) and methods that operate on the data into a single unit, i.e., a class. This hides the internal details of how an object works.\n",
        "\n",
        "2. Access Control:\n",
        "\n",
        "Encapsulation allows you to control access to certain attributes or methods by using access modifiers like public, private, and protected.\n",
        "\n",
        "3. Implementation Details:\n",
        "\n",
        "Encapsulation allows you to hide the implementation details of a class, exposing only the necessary interface to the outside world. This improves maintainability and reduces the impact of changes."
      ],
      "metadata": {
        "id": "z2JG2pf2tNiA"
      }
    },
    {
      "cell_type": "markdown",
      "source": [
        "Purpose of Abstract Methods and Enforcement of Abstraction:\n",
        "1. Abstract Methods:\n",
        "\n",
        "Abstract methods are methods declared in an abstract class without providing an implementation. They act as a contract, defining a set of methods that concrete subclasses must implement.\n",
        "\n",
        "2. Enforcement of Abstraction:\n",
        "\n",
        "Abstract methods enforce abstraction by ensuring that concrete subclasses provide specific implementations for the methods declared in the abstract class.\n",
        "This allows you to define a common interface and ensure that each subclass adheres to that interface\n",
        "\n"
      ],
      "metadata": {
        "id": "4ZS7uj75tgea"
      }
    },
    {
      "cell_type": "code",
      "source": [
        "from abc import ABC, abstractmethod\n",
        "\n",
        "class Vehicle(ABC):\n",
        "    def __init__(self, brand, model):\n",
        "        self.brand = brand\n",
        "        self.model = model\n",
        "        self.engine_status = False\n",
        "\n",
        "    @abstractmethod\n",
        "    def start(self):\n",
        "        pass  # Abstract method for starting the vehicle's engine\n",
        "\n",
        "    @abstractmethod\n",
        "    def stop(self):\n",
        "        pass  # Abstract method for stopping the vehicle's engine\n",
        "\n",
        "    def display_info(self):\n",
        "        return f\"{self.brand} {self.model}\"\n",
        "\n",
        "class Car(Vehicle):\n",
        "    def start(self):\n",
        "        self.engine_status = True\n",
        "        return f\"{self.display_info()} engine started. Ready to drive.\"\n",
        "\n",
        "    def stop(self):\n",
        "        self.engine_status = False\n",
        "        return f\"{self.display_info()} engine stopped. Parked.\"\n",
        "\n",
        "class Motorcycle(Vehicle):\n",
        "    def start(self):\n",
        "        self.engine_status = True\n",
        "        return f\"{self.display_info()} engine started. Ready to ride.\"\n",
        "\n",
        "    def stop(self):\n",
        "        self.engine_status = False\n",
        "        return f\"{self.display_info()} engine stopped. Parked.\"\n",
        "\n",
        "# Example usage:\n",
        "car = Car(brand=\"Toyota\", model=\"Camry\")\n",
        "motorcycle = Motorcycle(brand=\"Harley-Davidson\", model=\"Sportster\")\n",
        "\n",
        "vehicles = [car, motorcycle]\n",
        "\n",
        "for vehicle in vehicles:\n",
        "    print(vehicle.start())\n",
        "    print(vehicle.stop())\n",
        "    print()\n"
      ],
      "metadata": {
        "colab": {
          "base_uri": "https://localhost:8080/"
        },
        "id": "scXD6ayVst57",
        "outputId": "c38be20e-63e1-4eb8-95e7-3e09f0228cf3"
      },
      "execution_count": 54,
      "outputs": [
        {
          "output_type": "stream",
          "name": "stdout",
          "text": [
            "Toyota Camry engine started. Ready to drive.\n",
            "Toyota Camry engine stopped. Parked.\n",
            "\n",
            "Harley-Davidson Sportster engine started. Ready to ride.\n",
            "Harley-Davidson Sportster engine stopped. Parked.\n",
            "\n"
          ]
        }
      ]
    },
    {
      "cell_type": "code",
      "source": [
        "from abc import ABC, abstractmethod\n",
        "\n",
        "class Employee(ABC):\n",
        "    def __init__(self, name, role):\n",
        "        self.name = name\n",
        "        self.role = role\n",
        "\n",
        "    @abstractmethod\n",
        "    def get_salary(self):\n",
        "        pass  # Abstract method for getting the employee's salary\n",
        "\n",
        "    def display_info(self):\n",
        "        return f\"{self.role}: {self.name}\"\n",
        "\n",
        "class Manager(Employee):\n",
        "    def __init__(self, name, team_size):\n",
        "        super().__init__(name, role=\"Manager\")\n",
        "        self.team_size = team_size\n",
        "\n",
        "    def get_salary(self):\n",
        "        return 70000 + self.team_size * 5000\n",
        "\n",
        "class Developer(Employee):\n",
        "    def __init__(self, name, programming_language):\n",
        "        super().__init__(name, role=\"Developer\")\n",
        "        self.programming_language = programming_language\n",
        "\n",
        "    def get_salary(self):\n",
        "        return 60000 + len(self.programming_language) * 2000\n",
        "\n",
        "class Designer(Employee):\n",
        "    def __init__(self, name, design_tool):\n",
        "        super().__init__(name, role=\"Designer\")\n",
        "        self.design_tool = design_tool\n",
        "\n",
        "    def get_salary(self):\n",
        "        return 55000 + len(self.design_tool) * 3000\n",
        "\n",
        "# Example usage:\n",
        "manager = Manager(name=\"Alice\", team_size=8)\n",
        "developer = Developer(name=\"Bob\", programming_language=\"Python\")\n",
        "designer = Designer(name=\"Charlie\", design_tool=\"Sketch\")\n",
        "\n",
        "employees = [manager, developer, designer]\n",
        "\n",
        "for employee in employees:\n",
        "    print(employee.display_info())\n",
        "    print(f\"Salary: ${employee.get_salary():,.2f}\\n\")\n"
      ],
      "metadata": {
        "colab": {
          "base_uri": "https://localhost:8080/"
        },
        "id": "NgBvo3-KtsId",
        "outputId": "48414e76-2884-4cb8-ab32-79ccbe007e81"
      },
      "execution_count": 55,
      "outputs": [
        {
          "output_type": "stream",
          "name": "stdout",
          "text": [
            "Manager: Alice\n",
            "Salary: $110,000.00\n",
            "\n",
            "Developer: Bob\n",
            "Salary: $72,000.00\n",
            "\n",
            "Designer: Charlie\n",
            "Salary: $73,000.00\n",
            "\n"
          ]
        }
      ]
    },
    {
      "cell_type": "markdown",
      "source": [
        "\n",
        "Differences Between Abstract Classes and Concrete Classes in Python:\n",
        "Abstract Classes:\n",
        "\n",
        "Definition:\n",
        "\n",
        "Abstract Classes: An abstract class in Python is a class that cannot be instantiated on its own and is meant to be subclassed by other classes. It may contain abstract methods, which are methods without an implementation in the abstract class itself.\n",
        "Instantiation: Abstract classes cannot be instantiated directly; they provide a template for concrete subclasses.\n",
        "Instantiation:\n",
        "\n",
        "Abstract Classes: Cannot be instantiated directly. You need to create concrete subclasses that provide implementations for abstract methods.\n",
        "\n",
        "Abstract Methods:\n",
        "\n",
        "Abstract Classes: May contain abstract methods (methods without an implementation) that must be implemented by concrete subclasses.\n",
        "\n",
        "Use Cases:\n",
        "\n",
        "Abstract Classes: Used when you want to provide a common interface for a group of related classes. Encourages code structure and enforces method implementation in subclasses.\n",
        "\n",
        "Concrete Classes:\n",
        "\n",
        "Definition:\n",
        "\n",
        "Concrete Classes: A concrete class is a regular class in Python that can be instantiated directly. It may or may not have abstract methods.\n",
        "\n",
        "Instantiation:\n",
        "\n",
        "Concrete Classes: Can be instantiated directly using the Class() syntax.\n",
        "\n",
        "Abstract Methods:\n",
        "\n",
        "Concrete Classes: May or may not contain abstract methods. If they do, the abstract methods must be implemented in the concrete class itself.\n",
        "\n",
        "Use Cases:\n",
        "\n",
        "Concrete Classes: Used for general-purpose programming, data modeling, and encapsulation. Can be instantiated directly and may or may not have abstract methods."
      ],
      "metadata": {
        "id": "r2-MjXMQuEkK"
      }
    },
    {
      "cell_type": "markdown",
      "source": [
        "Abstract Data Types (ADTs):\n",
        "\n",
        "Definition:\n",
        "\n",
        "ADTs: Abstract Data Types are high-level descriptions of how data structures are to be implemented and the operations that can be performed on them. They define the interface and behavior without specifying the internal details of the implementation.\n",
        "\n",
        "Role in Achieving Abstraction:\n",
        "\n",
        "ADTs: ADTs play a crucial role in achieving abstraction by providing a clear and abstract view of data structures and their associated operations.\n",
        "Encapsulation: ADTs encapsulate the implementation details, exposing only a well-defined interface to the user. This promotes separation of concerns and hides complexity.\n",
        "\n",
        "Flexibility and Modularity: ADTs allow developers to focus on how data structures should behave rather than how they are implemented. This promotes flexibility and modularity in code design.\n",
        "\n",
        "Code Reusability: By providing a clear interface, ADTs enable code reuse. Different implementations of the same ADT can be used interchangeably as long as they adhere to the specified interface."
      ],
      "metadata": {
        "id": "gSuWmzzKuKdn"
      }
    },
    {
      "cell_type": "code",
      "source": [
        "from abc import ABC, abstractmethod\n",
        "\n",
        "class ComputerSystem(ABC):\n",
        "    def __init__(self, brand, model):\n",
        "        self.brand = brand\n",
        "        self.model = model\n",
        "        self.power_status = False\n",
        "\n",
        "    @abstractmethod\n",
        "    def power_on(self):\n",
        "        pass  # Abstract method for turning on the computer system\n",
        "\n",
        "    @abstractmethod\n",
        "    def shutdown(self):\n",
        "        pass  # Abstract method for shutting down the computer system\n",
        "\n",
        "    def display_info(self):\n",
        "        return f\"{self.brand} {self.model}\"\n",
        "\n",
        "class Desktop(ComputerSystem):\n",
        "    def power_on(self):\n",
        "        self.power_status = True\n",
        "        return f\"{self.display_info()} powered on. Ready to use.\"\n",
        "\n",
        "    def shutdown(self):\n",
        "        self.power_status = False\n",
        "        return f\"{self.display_info()} shutting down. Goodbye.\"\n",
        "\n",
        "class Laptop(ComputerSystem):\n",
        "    def power_on(self):\n",
        "        self.power_status = True\n",
        "        return f\"{self.display_info()} booted up. Ready for mobile computing.\"\n",
        "\n",
        "    def shutdown(self):\n",
        "        self.power_status = False\n",
        "        return f\"{self.display_info()} shutting down. Safe to close the lid.\"\n",
        "\n",
        "# Example usage:\n",
        "desktop = Desktop(brand=\"Dell\", model=\"Inspiron\")\n",
        "laptop = Laptop(brand=\"HP\", model=\"Envy\")\n",
        "\n",
        "systems = [desktop, laptop]\n",
        "\n",
        "for system in systems:\n",
        "    print(system.power_on())\n",
        "    print(system.shutdown())\n",
        "    print()\n"
      ],
      "metadata": {
        "colab": {
          "base_uri": "https://localhost:8080/"
        },
        "id": "fIuo0mZLt2Vj",
        "outputId": "b4804a7e-adb0-4b41-84b6-5c1045bcfcf5"
      },
      "execution_count": 56,
      "outputs": [
        {
          "output_type": "stream",
          "name": "stdout",
          "text": [
            "Dell Inspiron powered on. Ready to use.\n",
            "Dell Inspiron shutting down. Goodbye.\n",
            "\n",
            "HP Envy booted up. Ready for mobile computing.\n",
            "HP Envy shutting down. Safe to close the lid.\n",
            "\n"
          ]
        }
      ]
    },
    {
      "cell_type": "code",
      "source": [
        "from abc import ABC, abstractmethod\n",
        "\n",
        "class LibrarySystem(ABC):\n",
        "    def __init__(self, name):\n",
        "        self.name = name\n",
        "        self.books = {}\n",
        "\n",
        "    @abstractmethod\n",
        "    def add_book(self, title, author):\n",
        "        pass  # Abstract method for adding a book to the library system\n",
        "\n",
        "    @abstractmethod\n",
        "    def borrow_book(self, title):\n",
        "        pass  # Abstract method for borrowing a book from the library system\n",
        "\n",
        "    def display_books(self):\n",
        "        return f\"Books in {self.name} Library: {', '.join(self.books.keys())}\"\n",
        "\n",
        "class SimpleLibrary(LibrarySystem):\n",
        "    def add_book(self, title, author):\n",
        "        self.books[title] = author\n",
        "        return f\"Book '{title}' by {author} added to the library.\"\n",
        "\n",
        "    def borrow_book(self, title):\n",
        "        if title in self.books:\n",
        "            author = self.books.pop(title)\n",
        "            return f\"Book '{title}' by {author} borrowed successfully.\"\n",
        "        else:\n",
        "            return f\"Book '{title}' not available in the library.\"\n",
        "\n",
        "# Example usage:\n",
        "simple_library = SimpleLibrary(name=\"Simple Library\")\n",
        "\n",
        "print(simple_library.add_book(\"Python Basics\", \"John Doe\"))\n",
        "print(simple_library.add_book(\"Data Structures\", \"Jane Smith\"))\n",
        "print(simple_library.display_books())\n",
        "\n",
        "print(simple_library.borrow_book(\"Python Basics\"))\n",
        "print(simple_library.borrow_book(\"Algorithms\"))\n",
        "print(simple_library.display_books())\n"
      ],
      "metadata": {
        "colab": {
          "base_uri": "https://localhost:8080/"
        },
        "id": "rWNAij2juXTn",
        "outputId": "83849fa7-c94c-445d-e493-e221ee0c5850"
      },
      "execution_count": 57,
      "outputs": [
        {
          "output_type": "stream",
          "name": "stdout",
          "text": [
            "Book 'Python Basics' by John Doe added to the library.\n",
            "Book 'Data Structures' by Jane Smith added to the library.\n",
            "Books in Simple Library Library: Python Basics, Data Structures\n",
            "Book 'Python Basics' by John Doe borrowed successfully.\n",
            "Book 'Algorithms' not available in the library.\n",
            "Books in Simple Library Library: Data Structures\n"
          ]
        }
      ]
    },
    {
      "cell_type": "markdown",
      "source": [
        "**COMPOSITION**"
      ],
      "metadata": {
        "id": "93u_5Qqnugve"
      }
    },
    {
      "cell_type": "markdown",
      "source": [
        "Composition in Python:\n",
        "\n",
        "Concept of Composition:\n",
        "\n",
        "Composition in Python is a design principle in object-oriented programming where a class can contain objects of other classes, allowing for the creation of complex objects from simpler ones. Instead of relying on inheritance, where a class inherits the behavior of another class, composition involves building objects by combining instances of existing classes."
      ],
      "metadata": {
        "id": "SVP6jICcusb-"
      }
    },
    {
      "cell_type": "markdown",
      "source": [
        "Composition vs. Inheritance:\n",
        "\n",
        "1. Relationship Type:\n",
        "\n",
        "Composition: Has-a relationship. An object is composed of other objects.\n",
        "\n",
        "Inheritance: Is-a relationship. A subclass inherits from a superclass.\n",
        "\n",
        "2. Code Reusability:\n",
        "\n",
        "Composition: Promotes code reusability by allowing the use of existing classes as components.\n",
        "\n",
        "Inheritance: Promotes code reusability by inheriting attributes and methods from a superclass.\n",
        "\n",
        "3. Flexibility:\n",
        "\n",
        "Composition: Provides greater flexibility as it allows for dynamic combinations of components.\n",
        "\n",
        "Inheritance: Provides less flexibility, as the structure is more static, and changes can propagate through the entire inheritance hierarchy.\n",
        "\n",
        "4. Encapsulation:\n",
        "\n",
        "Composition: Enhances encapsulation by composing objects with well-defined interfaces.\n",
        "\n",
        "Inheritance: Can lead to reduced encapsulation if subclasses have access to the internals of the superclass.\n",
        "\n",
        "5. Complexity:\n",
        "\n",
        "Composition: Often simplifies complex systems by breaking them into smaller, manageable components.\n",
        "\n",
        "Inheritance: Can lead to complex class hierarchies, especially in deep and wide inheritance trees.\n",
        "\n",
        "6. Change Impact:\n",
        "\n",
        "Composition: Changes to one class may not affect others, resulting in loose coupling.\n",
        "\n",
        "Inheritance: Changes to a superclass can affect all subclasses, leading to tight coupling."
      ],
      "metadata": {
        "id": "TEmCk25UvMoA"
      }
    },
    {
      "cell_type": "code",
      "source": [
        "class Author:\n",
        "    def __init__(self, name, birthdate):\n",
        "        self.name = name\n",
        "        self.birthdate = birthdate\n",
        "\n",
        "    def __str__(self):\n",
        "        return f\"{self.name} (Born: {self.birthdate})\"\n",
        "\n",
        "class Book:\n",
        "    def __init__(self, title, genre, author):\n",
        "        self.title = title\n",
        "        self.genre = genre\n",
        "        self.author = author  # Composition: Book has an Author\n",
        "\n",
        "    def display_info(self):\n",
        "        return f\"Title: {self.title}\\nGenre: {self.genre}\\nAuthor: {self.author}\"\n",
        "\n",
        "# Example usage:\n",
        "author_jane_doe = Author(name=\"Jane Doe\", birthdate=\"January 1, 1980\")\n",
        "book_example = Book(title=\"Example Book\", genre=\"Fiction\", author=author_jane_doe)\n",
        "\n",
        "# Display book information\n",
        "print(book_example.display_info())\n"
      ],
      "metadata": {
        "colab": {
          "base_uri": "https://localhost:8080/"
        },
        "id": "4Asz_rxXufCO",
        "outputId": "c96b30b2-6d0a-4f63-fc92-59e25cfbfed0"
      },
      "execution_count": 58,
      "outputs": [
        {
          "output_type": "stream",
          "name": "stdout",
          "text": [
            "Title: Example Book\n",
            "Genre: Fiction\n",
            "Author: Jane Doe (Born: January 1, 1980)\n"
          ]
        }
      ]
    },
    {
      "cell_type": "markdown",
      "source": [
        "\n",
        "Benefits of Using Composition Over Inheritance in Python:\n",
        "\n",
        "Flexibility:\n",
        "\n",
        "Composition: Allows for dynamic combinations of components, providing greater flexibility in building complex objects. Objects can be composed of different components at runtime.\n",
        "\n",
        "Inheritance: Can lead to a more rigid structure, and changes may require modifications to the entire inheritance hierarchy.\n",
        "\n",
        "Code Reusability:\n",
        "\n",
        "Composition: Promotes code reusability by allowing the reuse of existing classes as components in different contexts. Components can be mixed and matched to create diverse objects.\n",
        "\n",
        "Inheritance: Code reuse is achieved through inheriting attributes and methods from a superclass, but this can be limiting when a class needs functionality from multiple sources."
      ],
      "metadata": {
        "id": "ywWyTqQpvpw4"
      }
    },
    {
      "cell_type": "code",
      "source": [
        "class Engine:\n",
        "    def start(self):\n",
        "        return \"Engine started.\"\n",
        "\n",
        "    def stop(self):\n",
        "        return \"Engine stopped.\"\n",
        "\n",
        "class Car:\n",
        "    def __init__(self):\n",
        "        self.engine = Engine()  # Composition: Car has an Engine\n",
        "\n",
        "    def drive(self):\n",
        "        return f\"Car is moving. {self.engine.start()}\"\n",
        "\n",
        "    def park(self):\n",
        "        return f\"Car is parked. {self.engine.stop()}\"\n",
        "\n",
        "# Example usage:\n",
        "my_car = Car()\n",
        "print(my_car.drive())\n",
        "print(my_car.park())\n"
      ],
      "metadata": {
        "colab": {
          "base_uri": "https://localhost:8080/"
        },
        "id": "AxEkj7U5vg-J",
        "outputId": "216ba0c0-c55e-4621-ecd8-1245fe746b93"
      },
      "execution_count": 59,
      "outputs": [
        {
          "output_type": "stream",
          "name": "stdout",
          "text": [
            "Car is moving. Engine started.\n",
            "Car is parked. Engine stopped.\n"
          ]
        }
      ]
    },
    {
      "cell_type": "code",
      "source": [
        "class Song:\n",
        "    def __init__(self, title, artist, duration):\n",
        "        self.title = title\n",
        "        self.artist = artist\n",
        "        self.duration = duration\n",
        "\n",
        "    def play(self):\n",
        "        return f\"Now playing: {self.title} by {self.artist}\"\n",
        "\n",
        "class Playlist:\n",
        "    def __init__(self, name):\n",
        "        self.name = name\n",
        "        self.songs = []\n",
        "\n",
        "    def add_song(self, song):\n",
        "        self.songs.append(song)\n",
        "        return f\"Added '{song.title}' to the playlist '{self.name}'\"\n",
        "\n",
        "    def play_all(self):\n",
        "        playlist_info = f\"Playlist: {self.name}\\n\"\n",
        "        songs_info = [song.play() for song in self.songs]\n",
        "        return playlist_info + \"\\n\".join(songs_info)\n",
        "\n",
        "# Example usage:\n",
        "song1 = Song(title=\"Song 1\", artist=\"Artist 1\", duration=\"3:30\")\n",
        "song2 = Song(title=\"Song 2\", artist=\"Artist 2\", duration=\"4:15\")\n",
        "song3 = Song(title=\"Song 3\", artist=\"Artist 3\", duration=\"2:45\")\n",
        "\n",
        "playlist1 = Playlist(name=\"My Playlist\")\n",
        "playlist2 = Playlist(name=\"Favorites\")\n",
        "\n",
        "playlist1.add_song(song1)\n",
        "playlist1.add_song(song2)\n",
        "\n",
        "playlist2.add_song(song2)\n",
        "playlist2.add_song(song3)\n",
        "\n",
        "# Play all songs in the playlists\n",
        "print(playlist1.play_all())\n",
        "print(\"\\n-----------------------------\\n\")\n",
        "print(playlist2.play_all())"
      ],
      "metadata": {
        "colab": {
          "base_uri": "https://localhost:8080/"
        },
        "id": "9g8o44MIvy_A",
        "outputId": "e9a64425-c300-497d-ec69-c0b8a4b22b72"
      },
      "execution_count": 60,
      "outputs": [
        {
          "output_type": "stream",
          "name": "stdout",
          "text": [
            "Playlist: My Playlist\n",
            "Now playing: Song 1 by Artist 1\n",
            "Now playing: Song 2 by Artist 2\n",
            "\n",
            "-----------------------------\n",
            "\n",
            "Playlist: Favorites\n",
            "Now playing: Song 2 by Artist 2\n",
            "Now playing: Song 3 by Artist 3\n"
          ]
        }
      ]
    },
    {
      "cell_type": "markdown",
      "source": [
        "\"Has-a\" Relationships in Composition:\n",
        "\n",
        "In object-oriented programming, a \"has-a\" relationship is a type of association between classes where one class contains an instance of another class. This relationship is often expressed through composition, where an object of one class \"has\" or \"contains\" an object of another class as a part. The idea is to build more complex objects by combining simpler ones."
      ],
      "metadata": {
        "id": "rwW2lWyxwNHq"
      }
    },
    {
      "cell_type": "code",
      "source": [
        "class CPU:\n",
        "    def __init__(self, model, speed):\n",
        "        self.model = model\n",
        "        self.speed = speed\n",
        "\n",
        "    def info(self):\n",
        "        return f\"CPU: {self.model}, Speed: {self.speed} GHz\"\n",
        "\n",
        "class RAM:\n",
        "    def __init__(self, capacity):\n",
        "        self.capacity = capacity\n",
        "\n",
        "    def info(self):\n",
        "        return f\"RAM: {self.capacity} GB\"\n",
        "\n",
        "class Storage:\n",
        "    def __init__(self, type, capacity):\n",
        "        self.type = type\n",
        "        self.capacity = capacity\n",
        "\n",
        "    def info(self):\n",
        "        return f\"Storage: {self.type}, Capacity: {self.capacity} GB\"\n",
        "\n",
        "class ComputerSystem:\n",
        "    def __init__(self, cpu, ram, storage):\n",
        "        self.cpu = cpu\n",
        "        self.ram = ram\n",
        "        self.storage = storage\n",
        "\n",
        "    def system_info(self):\n",
        "        return f\"{self.cpu.info()}\\n{self.ram.info()}\\n{self.storage.info()}\"\n",
        "\n",
        "# Example usage:\n",
        "cpu = CPU(model=\"Intel i7\", speed=3.5)\n",
        "ram = RAM(capacity=16)\n",
        "storage = Storage(type=\"SSD\", capacity=512)\n",
        "\n",
        "computer = ComputerSystem(cpu=cpu, ram=ram, storage=storage)\n",
        "\n",
        "# Display computer system information\n",
        "print(computer.system_info())\n"
      ],
      "metadata": {
        "colab": {
          "base_uri": "https://localhost:8080/"
        },
        "id": "NnJaUR1cv8p6",
        "outputId": "1f14afea-be71-4a95-f67b-e1f0f5b593e8"
      },
      "execution_count": 61,
      "outputs": [
        {
          "output_type": "stream",
          "name": "stdout",
          "text": [
            "CPU: Intel i7, Speed: 3.5 GHz\n",
            "RAM: 16 GB\n",
            "Storage: SSD, Capacity: 512 GB\n"
          ]
        }
      ]
    },
    {
      "cell_type": "markdown",
      "source": [
        "Delegation in Composition:\n",
        "\n",
        "Concept of Delegation:\n",
        "\n",
        "Delegation in composition refers to the practice of one class (the composite or delegator) containing an instance of another class (the delegate) and forwarding specific operations or responsibilities to the delegate. The composite class delegates certain tasks to its components, allowing for a modular and flexible design."
      ],
      "metadata": {
        "id": "40qWzZ1ewS0f"
      }
    },
    {
      "cell_type": "code",
      "source": [
        "class Engine:\n",
        "    def start(self):\n",
        "        return \"Engine started.\"\n",
        "\n",
        "    def stop(self):\n",
        "        return \"Engine stopped.\"\n",
        "\n",
        "class Wheels:\n",
        "    def rotate(self):\n",
        "        return \"Wheels rotating.\"\n",
        "\n",
        "    def stop_rotation(self):\n",
        "        return \"Wheels stopped.\"\n",
        "\n",
        "class Transmission:\n",
        "    def shift_gear(self):\n",
        "        return \"Gear shifted.\"\n",
        "\n",
        "class Car:\n",
        "    def __init__(self, engine, wheels, transmission):\n",
        "        self.engine = engine\n",
        "        self.wheels = wheels\n",
        "        self.transmission = transmission\n",
        "\n",
        "    def start(self):\n",
        "        return f\"{self.engine.start()}\\n{self.wheels.rotate()}\"\n",
        "\n",
        "    def drive(self):\n",
        "        return f\"{self.transmission.shift_gear()}\\n{self.wheels.rotate()}\"\n",
        "\n",
        "    def stop(self):\n",
        "        return f\"{self.transmission.shift_gear()}\\n{self.wheels.stop_rotation()}\\n{self.engine.stop()}\"\n",
        "\n",
        "# Example usage:\n",
        "car_engine = Engine()\n",
        "car_wheels = Wheels()\n",
        "car_transmission = Transmission()\n",
        "\n",
        "my_car = Car(engine=car_engine, wheels=car_wheels, transmission=car_transmission)\n",
        "\n",
        "# Perform car operations\n",
        "print(my_car.start())\n",
        "\n",
        "print(my_car.drive())\n",
        "\n",
        "print(my_car.stop())\n"
      ],
      "metadata": {
        "colab": {
          "base_uri": "https://localhost:8080/"
        },
        "id": "S8p76fFowRpb",
        "outputId": "4788af4f-bafb-4b52-d7f2-78fea4fc3b28"
      },
      "execution_count": 63,
      "outputs": [
        {
          "output_type": "stream",
          "name": "stdout",
          "text": [
            "Engine started.\n",
            "Wheels rotating.\n",
            "Gear shifted.\n",
            "Wheels rotating.\n",
            "Gear shifted.\n",
            "Wheels stopped.\n",
            "Engine stopped.\n"
          ]
        }
      ]
    },
    {
      "cell_type": "markdown",
      "source": [
        "Encapsulation and Hiding Details in Composition:\n",
        "\n",
        "In Python, encapsulation involves bundling the implementation details of a class and restricting direct access to its internal state. When using composition, encapsulation helps maintain abstraction by ensuring that the details of composed objects are hidden from the outside world. Here are some techniques to achieve encapsulation:\n",
        "\n",
        "Private Attributes:\n",
        "\n",
        "Use private attributes (prefixed with double underscores, like __attribute) to make them inaccessible from outside the class.\n",
        "\n",
        "Getter and Setter Methods:\n",
        "\n",
        "Provide getter methods to access the values of private attributes.\n",
        "Optionally, provide setter methods to modify the values of private attributes, allowing controlled access.\n",
        "\n",
        "Property Decorators:\n",
        "\n",
        "Use property decorators to create getter and setter methods in a more concise way.\n",
        "Property decorators allow you to define a method that can be accessed like an attribute."
      ],
      "metadata": {
        "id": "BhQZ9X__wuns"
      }
    },
    {
      "cell_type": "code",
      "source": [
        "class Student:\n",
        "    def __init__(self, name, student_id):\n",
        "        self.__name = name\n",
        "        self.__student_id = student_id\n",
        "\n",
        "    def get_name(self):\n",
        "        return self.__name\n",
        "\n",
        "    def get_student_id(self):\n",
        "        return self.__student_id\n",
        "\n",
        "class Instructor:\n",
        "    def __init__(self, name, employee_id):\n",
        "        self.__name = name\n",
        "        self.__employee_id = employee_id\n",
        "\n",
        "    def get_name(self):\n",
        "        return self.__name\n",
        "\n",
        "    def get_employee_id(self):\n",
        "        return self.__employee_id\n",
        "\n",
        "class CourseMaterial:\n",
        "    def __init__(self, title, content):\n",
        "        self.__title = title\n",
        "        self.__content = content\n",
        "\n",
        "    def get_title(self):\n",
        "        return self.__title\n",
        "\n",
        "    def get_content(self):\n",
        "        return self.__content\n",
        "\n",
        "class UniversityCourse:\n",
        "    def __init__(self, name, instructor, students, course_material):\n",
        "        self.__name = name\n",
        "        self.__instructor = instructor\n",
        "        self.__students = students\n",
        "        self.__course_material = course_material\n",
        "\n",
        "    def get_name(self):\n",
        "        return self.__name\n",
        "\n",
        "    def get_instructor(self):\n",
        "        return self.__instructor\n",
        "\n",
        "    def get_students(self):\n",
        "        return self.__students\n",
        "\n",
        "    def get_course_material(self):\n",
        "        return self.__course_material\n",
        "\n",
        "# Example usage:\n",
        "student1 = Student(name=\"Alice\", student_id=\"S001\")\n",
        "student2 = Student(name=\"Bob\", student_id=\"S002\")\n",
        "\n",
        "instructor = Instructor(name=\"Dr. Smith\", employee_id=\"E001\")\n",
        "\n",
        "course_material = CourseMaterial(title=\"Introduction to Python\", content=\"... Course content ...\")\n",
        "\n",
        "students = [student1, student2]\n",
        "\n",
        "python_course = UniversityCourse(name=\"Python Programming\", instructor=instructor, students=students, course_material=course_material)\n",
        "\n",
        "# Accessing information with encapsulation\n",
        "print(f\"Course Name: {python_course.get_name()}\")\n",
        "print(f\"Instructor: {python_course.get_instructor().get_name()}\")\n",
        "print(f\"Student 1: {python_course.get_students()[0].get_name()}\")\n",
        "print(f\"Course Material: {python_course.get_course_material().get_title()}\")\n"
      ],
      "metadata": {
        "colab": {
          "base_uri": "https://localhost:8080/"
        },
        "id": "_4c5sMr6wdxa",
        "outputId": "7add8eae-7a4e-49fc-8f82-3c55aa6ae66f"
      },
      "execution_count": 64,
      "outputs": [
        {
          "output_type": "stream",
          "name": "stdout",
          "text": [
            "Course Name: Python Programming\n",
            "Instructor: Dr. Smith\n",
            "Student 1: Alice\n",
            "Course Material: Introduction to Python\n"
          ]
        }
      ]
    },
    {
      "cell_type": "code",
      "source": [
        "class Ingredient:\n",
        "    def __init__(self, name, quantity, unit):\n",
        "        self.name = name\n",
        "        self.quantity = quantity\n",
        "        self.unit = unit\n",
        "\n",
        "    def __str__(self):\n",
        "        return f\"{self.quantity} {self.unit} of {self.name}\"\n",
        "\n",
        "class Dish:\n",
        "    def __init__(self, name, description, ingredients):\n",
        "        self.name = name\n",
        "        self.description = description\n",
        "        self.ingredients = ingredients\n",
        "\n",
        "    def display_dish(self):\n",
        "        info = f\"{self.name}\\nDescription: {self.description}\\nIngredients:\"\n",
        "        ingredient_info = [str(ingredient) for ingredient in self.ingredients]\n",
        "        return info + \"\\n\" + \"\\n\".join(ingredient_info)\n",
        "\n",
        "class Menu:\n",
        "    def __init__(self, name, dishes):\n",
        "        self.name = name\n",
        "        self.dishes = dishes\n",
        "\n",
        "    def display_menu(self):\n",
        "        menu_info = f\"Menu: {self.name}\\nDishes:\"\n",
        "        dish_info = [dish.display_dish() for dish in self.dishes]\n",
        "        return menu_info + \"\\n\" + \"\\n\".join(dish_info)\n",
        "\n",
        "# Example usage:\n",
        "ingredient1 = Ingredient(name=\"Tomato\", quantity=2, unit=\"pcs\")\n",
        "ingredient2 = Ingredient(name=\"Cheese\", quantity=150, unit=\"g\")\n",
        "ingredient3 = Ingredient(name=\"Dough\", quantity=1, unit=\"portion\")\n",
        "\n",
        "dish1 = Dish(name=\"Margherita Pizza\", description=\"Classic margherita pizza\", ingredients=[ingredient1, ingredient2, ingredient3])\n",
        "\n",
        "ingredient4 = Ingredient(name=\"Chicken Breast\", quantity=200, unit=\"g\")\n",
        "ingredient5 = Ingredient(name=\"Broccoli\", quantity=150, unit=\"g\")\n",
        "ingredient6 = Ingredient(name=\"Pasta\", quantity=100, unit=\"g\")\n",
        "\n",
        "dish2 = Dish(name=\"Chicken Alfredo Pasta\", description=\"Creamy chicken alfredo pasta\", ingredients=[ingredient4, ingredient5, ingredient6])\n",
        "\n",
        "menu = Menu(name=\"Italian Delights\", dishes=[dish1, dish2])\n",
        "\n",
        "# Display restaurant information\n",
        "print(menu.display_menu())\n"
      ],
      "metadata": {
        "colab": {
          "base_uri": "https://localhost:8080/"
        },
        "id": "YlL8TXbZw0dS",
        "outputId": "8e45e5a4-f07c-49fc-f871-d0e6656cb831"
      },
      "execution_count": 65,
      "outputs": [
        {
          "output_type": "stream",
          "name": "stdout",
          "text": [
            "Menu: Italian Delights\n",
            "Dishes:\n",
            "Margherita Pizza\n",
            "Description: Classic margherita pizza\n",
            "Ingredients:\n",
            "2 pcs of Tomato\n",
            "150 g of Cheese\n",
            "1 portion of Dough\n",
            "Chicken Alfredo Pasta\n",
            "Description: Creamy chicken alfredo pasta\n",
            "Ingredients:\n",
            "200 g of Chicken Breast\n",
            "150 g of Broccoli\n",
            "100 g of Pasta\n"
          ]
        }
      ]
    },
    {
      "cell_type": "code",
      "source": [
        "class Weapon:\n",
        "    def __init__(self, name, damage):\n",
        "        self.name = name\n",
        "        self.damage = damage\n",
        "\n",
        "    def __str__(self):\n",
        "        return f\"Weapon: {self.name}, Damage: {self.damage}\"\n",
        "\n",
        "class Armor:\n",
        "    def __init__(self, name, defense):\n",
        "        self.name = name\n",
        "        self.defense = defense\n",
        "\n",
        "    def __str__(self):\n",
        "        return f\"Armor: {self.name}, Defense: {self.defense}\"\n",
        "\n",
        "class InventoryItem:\n",
        "    def __init__(self, name, quantity):\n",
        "        self.name = name\n",
        "        self.quantity = quantity\n",
        "\n",
        "    def __str__(self):\n",
        "        return f\"{self.quantity} {self.name}\"\n",
        "\n",
        "class GameCharacter:\n",
        "    def __init__(self, name, health, weapon=None, armor=None, inventory=None):\n",
        "        self.name = name\n",
        "        self.health = health\n",
        "        self.weapon = weapon\n",
        "        self.armor = armor\n",
        "        self.inventory = inventory\n",
        "\n",
        "    def equip_weapon(self, weapon):\n",
        "        self.weapon = weapon\n",
        "\n",
        "    def equip_armor(self, armor):\n",
        "        self.armor = armor\n",
        "\n",
        "    def add_to_inventory(self, item):\n",
        "        if self.inventory is None:\n",
        "            self.inventory = []\n",
        "        self.inventory.append(item)\n",
        "\n",
        "    def display_character_info(self):\n",
        "        info = f\"Character: {self.name}\\nHealth: {self.health}\"\n",
        "        if self.weapon:\n",
        "            info += f\"\\nEquipped Weapon: {self.weapon}\"\n",
        "        if self.armor:\n",
        "            info += f\"\\nEquipped Armor: {self.armor}\"\n",
        "        if self.inventory:\n",
        "            info += f\"\\nInventory: {', '.join(map(str, self.inventory))}\"\n",
        "        return info\n",
        "\n",
        "# Example usage:\n",
        "sword = Weapon(name=\"Sword\", damage=20)\n",
        "armor_set = Armor(name=\"Steel Armor\", defense=15)\n",
        "health_potion = InventoryItem(name=\"Health Potion\", quantity=3)\n",
        "\n",
        "player_character = GameCharacter(name=\"Hero\", health=100)\n",
        "\n",
        "player_character.equip_weapon(sword)\n",
        "player_character.equip_armor(armor_set)\n",
        "player_character.add_to_inventory(health_potion)\n",
        "\n",
        "# Display character information\n",
        "print(player_character.display_character_info())\n"
      ],
      "metadata": {
        "colab": {
          "base_uri": "https://localhost:8080/"
        },
        "id": "tX0d2bAfxChy",
        "outputId": "1d06582d-4a1e-4ed3-d3e1-815fcf04a71a"
      },
      "execution_count": 66,
      "outputs": [
        {
          "output_type": "stream",
          "name": "stdout",
          "text": [
            "Character: Hero\n",
            "Health: 100\n",
            "Equipped Weapon: Weapon: Sword, Damage: 20\n",
            "Equipped Armor: Armor: Steel Armor, Defense: 15\n",
            "Inventory: 3 Health Potion\n"
          ]
        }
      ]
    },
    {
      "cell_type": "code",
      "source": [
        "class Furniture:\n",
        "    def __init__(self, name):\n",
        "        self.name = name\n",
        "\n",
        "    def __str__(self):\n",
        "        return f\"{self.name}\"\n",
        "\n",
        "class Appliance:\n",
        "    def __init__(self, name):\n",
        "        self.name = name\n",
        "\n",
        "    def __str__(self):\n",
        "        return f\"{self.name}\"\n",
        "\n",
        "class Room:\n",
        "    def __init__(self, name, area):\n",
        "        self.name = name\n",
        "        self.area = area\n",
        "        self.furniture = []\n",
        "        self.appliances = []\n",
        "\n",
        "    def add_furniture(self, furniture):\n",
        "        self.furniture.append(furniture)\n",
        "\n",
        "    def add_appliance(self, appliance):\n",
        "        self.appliances.append(appliance)\n",
        "\n",
        "    def display_room_info(self):\n",
        "        furniture_info = \", \".join(map(str, self.furniture))\n",
        "        appliance_info = \", \".join(map(str, self.appliances))\n",
        "        return f\"Room: {self.name}\\nArea: {self.area} sq. ft\\nFurniture: {furniture_info}\\nAppliances: {appliance_info}\"\n",
        "\n",
        "class House:\n",
        "    def __init__(self, name):\n",
        "        self.name = name\n",
        "        self.rooms = []\n",
        "\n",
        "    def add_room(self, room):\n",
        "        self.rooms.append(room)\n",
        "\n",
        "    def display_house_info(self):\n",
        "        room_info = \"\\n\".join(room.display_room_info() for room in self.rooms)\n",
        "        return f\"House: {self.name}\\nRooms:\\n{room_info}\"\n",
        "\n",
        "# Example usage:\n",
        "sofa = Furniture(name=\"Sofa\")\n",
        "dining_table = Furniture(name=\"Dining Table\")\n",
        "refrigerator = Appliance(name=\"Refrigerator\")\n",
        "oven = Appliance(name=\"Oven\")\n",
        "\n",
        "living_room = Room(name=\"Living Room\", area=200)\n",
        "kitchen = Room(name=\"Kitchen\", area=150)\n",
        "\n",
        "living_room.add_furniture(sofa)\n",
        "living_room.add_furniture(dining_table)\n",
        "kitchen.add_appliance(refrigerator)\n",
        "kitchen.add_appliance(oven)\n",
        "\n",
        "my_house = House(name=\"Cozy Home\")\n",
        "my_house.add_room(living_room)\n",
        "my_house.add_room(kitchen)\n",
        "\n",
        "# Display house information\n",
        "print(my_house.display_house_info())\n"
      ],
      "metadata": {
        "colab": {
          "base_uri": "https://localhost:8080/"
        },
        "id": "rCx4gIGfxGsl",
        "outputId": "ffd26e6b-5ce4-4238-da31-827a07b8f9cb"
      },
      "execution_count": 67,
      "outputs": [
        {
          "output_type": "stream",
          "name": "stdout",
          "text": [
            "House: Cozy Home\n",
            "Rooms:\n",
            "Room: Living Room\n",
            "Area: 200 sq. ft\n",
            "Furniture: Sofa, Dining Table\n",
            "Appliances: \n",
            "Room: Kitchen\n",
            "Area: 150 sq. ft\n",
            "Furniture: \n",
            "Appliances: Refrigerator, Oven\n"
          ]
        }
      ]
    },
    {
      "cell_type": "code",
      "source": [
        "class Comment:\n",
        "    def __init__(self, user, content):\n",
        "        self.user = user\n",
        "        self.content = content\n",
        "\n",
        "    def __str__(self):\n",
        "        return f\"{self.user}: {self.content}\"\n",
        "\n",
        "class Post:\n",
        "    def __init__(self, user, content):\n",
        "        self.user = user\n",
        "        self.content = content\n",
        "        self.comments = []\n",
        "\n",
        "    def add_comment(self, comment):\n",
        "        self.comments.append(comment)\n",
        "\n",
        "    def display_post_info(self):\n",
        "        comment_info = \"\\n\".join(map(str, self.comments))\n",
        "        return f\"{self.user} said: {self.content}\\nComments:\\n{comment_info}\"\n",
        "\n",
        "class User:\n",
        "    def __init__(self, username):\n",
        "        self.username = username\n",
        "        self.posts = []\n",
        "\n",
        "    def create_post(self, content):\n",
        "        post = Post(user=self.username, content=content)\n",
        "        self.posts.append(post)\n",
        "        return post\n",
        "\n",
        "    def display_user_posts(self):\n",
        "        return \"\\n\".join(post.display_post_info() for post in self.posts)\n",
        "\n",
        "class SocialMediaApp:\n",
        "    def __init__(self, name):\n",
        "        self.name = name\n",
        "        self.users = []\n",
        "\n",
        "    def create_user(self, username):\n",
        "        user = User(username=username)\n",
        "        self.users.append(user)\n",
        "        return user\n",
        "\n",
        "    def display_app_info(self):\n",
        "        user_info = \"\\n\".join(user.display_user_posts() for user in self.users)\n",
        "        return f\"{self.name} Social Media\\nUsers:\\n{user_info}\"\n",
        "\n",
        "# Example usage:\n",
        "social_app = SocialMediaApp(name=\"MySocialApp\")\n",
        "\n",
        "user1 = social_app.create_user(username=\"Alice\")\n",
        "user2 = social_app.create_user(username=\"Bob\")\n",
        "\n",
        "post1 = user1.create_post(content=\"Hello, World!\")\n",
        "comment1 = Comment(user=\"Charlie\", content=\"Nice post!\")\n",
        "post1.add_comment(comment1)\n",
        "\n",
        "post2 = user2.create_post(content=\"Good day, everyone!\")\n",
        "\n",
        "# Display social media app information\n",
        "print(social_app.display_app_info())\n"
      ],
      "metadata": {
        "colab": {
          "base_uri": "https://localhost:8080/"
        },
        "id": "1KaUhciExSO8",
        "outputId": "04c862b7-a589-4291-e835-f4838b8435cd"
      },
      "execution_count": 68,
      "outputs": [
        {
          "output_type": "stream",
          "name": "stdout",
          "text": [
            "MySocialApp Social Media\n",
            "Users:\n",
            "Alice said: Hello, World!\n",
            "Comments:\n",
            "Charlie: Nice post!\n",
            "Bob said: Good day, everyone!\n",
            "Comments:\n",
            "\n"
          ]
        }
      ]
    },
    {
      "cell_type": "code",
      "source": [],
      "metadata": {
        "id": "mSr4qxo0xWoT"
      },
      "execution_count": null,
      "outputs": []
    }
  ]
}