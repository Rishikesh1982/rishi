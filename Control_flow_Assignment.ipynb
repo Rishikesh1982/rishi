{
  "nbformat": 4,
  "nbformat_minor": 0,
  "metadata": {
    "colab": {
      "provenance": []
    },
    "kernelspec": {
      "name": "python3",
      "display_name": "Python 3"
    },
    "language_info": {
      "name": "python"
    }
  },
  "cells": [
    {
      "cell_type": "code",
      "execution_count": null,
      "metadata": {
        "id": "6E_MXkRBxHe4",
        "colab": {
          "base_uri": "https://localhost:8080/"
        },
        "outputId": "f5628263-da01-4a63-f471-1f47d4e28ee5"
      },
      "outputs": [
        {
          "output_type": "stream",
          "name": "stdout",
          "text": [
            "25\n",
            "positive numbers\n"
          ]
        }
      ],
      "source": [
        "num=int(input())\n",
        "if num>=0:\n",
        "  print(\"positive numbers\")\n",
        "else:\n",
        "  print(\"negative numbers\")"
      ]
    },
    {
      "cell_type": "code",
      "source": [
        "person_name=str(input())\n",
        "person_age=int(input())\n",
        "if person_age>=18:\n",
        "  print(person_name,\"is eligible for voting.\")\n",
        "else:\n",
        "  print(person_name,\"is not eligible for voting\")"
      ],
      "metadata": {
        "colab": {
          "base_uri": "https://localhost:8080/"
        },
        "id": "99pfXwB8410X",
        "outputId": "695612e0-73bb-45c7-c131-5da51534bfc2"
      },
      "execution_count": null,
      "outputs": [
        {
          "output_type": "stream",
          "name": "stdout",
          "text": [
            "rishikesh\n",
            "19\n",
            "rishikesh is eligible for voting.\n"
          ]
        }
      ]
    },
    {
      "cell_type": "code",
      "source": [
        "num1=int(input())\n",
        "num2=int(input())\n",
        "if num1>num2:\n",
        "  print(num1,\" is the maximum number\")\n",
        "else:\n",
        "  print(num2,\"is the maximum number\")"
      ],
      "metadata": {
        "colab": {
          "base_uri": "https://localhost:8080/"
        },
        "id": "hcR6NrbT6qHH",
        "outputId": "29813a91-89c5-49db-cdc2-91b8f1f19fe0"
      },
      "execution_count": null,
      "outputs": [
        {
          "output_type": "stream",
          "name": "stdout",
          "text": [
            "23\n",
            "56\n",
            "56 is the maximum number\n"
          ]
        }
      ]
    },
    {
      "cell_type": "code",
      "source": [
        "year=int(input())\n",
        "if year%100 == 0 and year%400 == 0:\n",
        "  print(year,\"is a leap year\")\n",
        "else:\n",
        "  print(year,\"is not a leap year\")"
      ],
      "metadata": {
        "colab": {
          "base_uri": "https://localhost:8080/"
        },
        "id": "JEO8_5oG7iJG",
        "outputId": "ccb0fb49-2eaa-4c82-ea5c-a2fb86ec8844"
      },
      "execution_count": null,
      "outputs": [
        {
          "output_type": "stream",
          "name": "stdout",
          "text": [
            "1900\n",
            "1900 is not a leap year\n"
          ]
        }
      ]
    },
    {
      "cell_type": "code",
      "source": [
        "letter=str(input())\n",
        "letter=letter.lower()\n",
        "if letter == 'a' or letter=='e' or letter=='i' or letter=='o' or letter=='u':\n",
        "  print(letter,\"is a vowel\")\n",
        "else:\n",
        "    print(letter,\"is a consonanat\")"
      ],
      "metadata": {
        "id": "IuNg2RVgGVtG",
        "colab": {
          "base_uri": "https://localhost:8080/"
        },
        "outputId": "1f0b6727-16e9-4bb4-ef3e-58f74ce1f4cc"
      },
      "execution_count": null,
      "outputs": [
        {
          "output_type": "stream",
          "name": "stdout",
          "text": [
            "A\n",
            "a is a vowel\n"
          ]
        }
      ]
    },
    {
      "cell_type": "code",
      "source": [
        "num=int(input())\n",
        "if num%2==0:\n",
        "  print(num, \"is even\")\n",
        "else:\n",
        "  print(num,\"is odd\")"
      ],
      "metadata": {
        "colab": {
          "base_uri": "https://localhost:8080/"
        },
        "id": "ZZXck6H4i13j",
        "outputId": "c8501d99-ce02-4359-ff08-4bbd2fc1e7e1"
      },
      "execution_count": null,
      "outputs": [
        {
          "output_type": "stream",
          "name": "stdout",
          "text": [
            "7\n",
            "7 is odd\n"
          ]
        }
      ]
    },
    {
      "cell_type": "code",
      "source": [
        "number=int(input())\n",
        "if number > 0 :\n",
        "  print(\"the absolute value is \",number)\n",
        "else:\n",
        "  number*=-1\n",
        "  print(\"the absolute number is \",number)"
      ],
      "metadata": {
        "colab": {
          "base_uri": "https://localhost:8080/"
        },
        "id": "FxqzzD2FpO4r",
        "outputId": "c31a0d09-9eeb-432b-af24-5d2b3ea8eb17"
      },
      "execution_count": null,
      "outputs": [
        {
          "output_type": "stream",
          "name": "stdout",
          "text": [
            "-56\n",
            "the absolute number is  56\n"
          ]
        }
      ]
    },
    {
      "cell_type": "code",
      "source": [
        "num1 = float(input())\n",
        "num2 = float(input())\n",
        "num3 = float(input())\n",
        "if num1>num2 and num1>num3 :\n",
        "  print('the largest number is ',num1)\n",
        "elif num2>num1 and num2>num3:\n",
        "  print('the largest number is ',num2)\n",
        "else :\n",
        "  print('the largest number is ',num3)"
      ],
      "metadata": {
        "colab": {
          "base_uri": "https://localhost:8080/"
        },
        "id": "DJrtbf2lJv8z",
        "outputId": "2fba6264-639b-484c-ba28-065943aef4ef"
      },
      "execution_count": null,
      "outputs": [
        {
          "output_type": "stream",
          "name": "stdout",
          "text": [
            "62.5\n",
            "55.5\n",
            "62.3\n",
            "the largest number is  62.5\n"
          ]
        }
      ]
    },
    {
      "cell_type": "code",
      "source": [
        "input_string= str(input())\n",
        "input_string=input_string.lower()\n",
        "if input_string==input_string[::-1]:\n",
        "  print(input_string,'is palindrome')\n",
        "else:\n",
        "  print(input_string,'is not palindrome')"
      ],
      "metadata": {
        "colab": {
          "base_uri": "https://localhost:8080/"
        },
        "id": "LDsdfqKrNoMQ",
        "outputId": "38e7f909-8e74-41bb-a2ec-e0fc46484cfe"
      },
      "execution_count": null,
      "outputs": [
        {
          "output_type": "stream",
          "name": "stdout",
          "text": [
            "RACECAR\n",
            "racecar is palindrome\n"
          ]
        }
      ]
    },
    {
      "cell_type": "code",
      "source": [
        "student_score=float(input())\n",
        "if student_score >= 60 :\n",
        "  print(\"pass\")\n",
        "else :\n",
        "  print(\"fail\")"
      ],
      "metadata": {
        "colab": {
          "base_uri": "https://localhost:8080/"
        },
        "id": "Ql7VY6GTbq31",
        "outputId": "a22960d9-51f2-42da-e234-9b47279d793a"
      },
      "execution_count": null,
      "outputs": [
        {
          "output_type": "stream",
          "name": "stdout",
          "text": [
            "60\n",
            "pass\n"
          ]
        }
      ]
    },
    {
      "cell_type": "code",
      "source": [
        "num1 = float(input())\n",
        "num2 = float(input())\n",
        "num3 = float(input())\n",
        "if num1>num2 and num1>num3 :\n",
        "  print('the largest number is ',num1)\n",
        "else:\n",
        "  if num2>num1 and num2>num3:\n",
        "    print('the largest number is ',num2)\n",
        "  else :\n",
        "    print('the largest number is ',num3)"
      ],
      "metadata": {
        "colab": {
          "base_uri": "https://localhost:8080/"
        },
        "id": "aP4vaHPkgdcm",
        "outputId": "c7c504b3-5a06-47f8-dde2-56b98ec35e33"
      },
      "execution_count": null,
      "outputs": [
        {
          "output_type": "stream",
          "name": "stdout",
          "text": [
            "65\n",
            "98\n",
            "32\n",
            "the largest number is  98.0\n"
          ]
        }
      ]
    },
    {
      "cell_type": "code",
      "source": [
        "side1 = float(input())\n",
        "side2 = float(input())\n",
        "side3 = float(input())\n",
        "if side1 == side2 == side3:\n",
        "        triangle_type = \"Equilateral\"\n",
        "else:\n",
        "    if side1 == side2 or side2 == side3 or side1 == side3:\n",
        "         triangle_type = \"Isosceles\"\n",
        "    else:\n",
        "         triangle_type = \"Scalene\"\n",
        "print(\"Triangle Type:\", triangle_type)\n"
      ],
      "metadata": {
        "colab": {
          "base_uri": "https://localhost:8080/"
        },
        "id": "bkU6Set1gzQt",
        "outputId": "068ab366-ae72-4730-c230-38a220f0773a"
      },
      "execution_count": null,
      "outputs": [
        {
          "output_type": "stream",
          "name": "stdout",
          "text": [
            "5\n",
            "5\n",
            "5\n",
            "Triangle Type: Equilateral\n"
          ]
        }
      ]
    },
    {
      "cell_type": "code",
      "source": [
        "year=int(input())\n",
        "leap_year= (year%4==0 and year%100!=0) or (year%400==0)\n",
        "century_year= year%100==0\n",
        "if leap_year :\n",
        "  if century_year :\n",
        "    print(f\"{year} is leap year and a century year\")\n",
        "  else :\n",
        "    print(f\"{year} is a leap year but not a century year\")\n",
        "else :\n",
        "  if century_year :\n",
        "    print(f\"{year} is not a leap year but century year\")\n",
        "  else :\n",
        "    print(f\"{year} is not a leap year and not a century year\")"
      ],
      "metadata": {
        "id": "p8wKftAajslz",
        "colab": {
          "base_uri": "https://localhost:8080/"
        },
        "outputId": "f0fb19ce-361f-48ab-e4bf-7d89338c1211"
      },
      "execution_count": null,
      "outputs": [
        {
          "output_type": "stream",
          "name": "stdout",
          "text": [
            "2024\n",
            "2024 is a leap year but not a century year\n"
          ]
        }
      ]
    },
    {
      "cell_type": "code",
      "source": [
        "n=float(input())\n",
        "if n==0:\n",
        "  print(f\"{n} is a zero\")\n",
        "else :\n",
        "  if n>0:\n",
        "    print(f\"{n} is a positive number\")\n",
        "  else :\n",
        "    print(f\"{n} is a negative number\")"
      ],
      "metadata": {
        "colab": {
          "base_uri": "https://localhost:8080/"
        },
        "id": "nfAOJKLY3dC7",
        "outputId": "3fd02b26-4224-4041-d60b-fce31fa81e25"
      },
      "execution_count": null,
      "outputs": [
        {
          "output_type": "stream",
          "name": "stdout",
          "text": [
            "54\n",
            "54.0 is a positive number\n"
          ]
        }
      ]
    },
    {
      "cell_type": "code",
      "source": [
        "name=str(input())\n",
        "age= int(input())\n",
        "teen_age=13<= age <=19\n",
        "if teen_age:\n",
        "  print(f\"{name} is a teenager\")\n",
        "else :\n",
        "  print(f\"{name} is not a teenager\")"
      ],
      "metadata": {
        "colab": {
          "base_uri": "https://localhost:8080/"
        },
        "id": "3hW6uLPW5PXs",
        "outputId": "100c62de-e816-4674-a016-40a4de9de06e"
      },
      "execution_count": null,
      "outputs": [
        {
          "output_type": "stream",
          "name": "stdout",
          "text": [
            "bobby\n",
            "20\n",
            "bobby is not a teenager\n"
          ]
        }
      ]
    },
    {
      "cell_type": "code",
      "source": [
        "angle=float(input())\n",
        "if angle>0 and angle<90:\n",
        "  angle_type=\"Acute\"\n",
        "else :\n",
        "  if angle == 90:\n",
        "    angle_type=\"Right\"\n",
        "  else:\n",
        "    if angle > 90 and angle<180:\n",
        "      angle_type = \"obtuse\"\n",
        "    else :\n",
        "      angle_type = \"invalid\"\n",
        "if angle_type!= \"invalid\" :\n",
        "  print(f\"the given angle is a {angle_type} angle\")\n",
        "else:\n",
        "  print(f\"the given angle is {angle_type}\")"
      ],
      "metadata": {
        "colab": {
          "base_uri": "https://localhost:8080/"
        },
        "id": "m4GF-1oO6MzS",
        "outputId": "cd64689e-fb0e-4ea3-97c0-dbd5925e8b56"
      },
      "execution_count": null,
      "outputs": [
        {
          "output_type": "stream",
          "name": "stdout",
          "text": [
            "75\n",
            "the given angle is a Acute angle\n"
          ]
        }
      ]
    },
    {
      "cell_type": "code",
      "source": [
        "i=16\n",
        "i=i**(1/2)\n",
        "print(i)"
      ],
      "metadata": {
        "colab": {
          "base_uri": "https://localhost:8080/"
        },
        "id": "w4_oWn_c82nN",
        "outputId": "4def5b35-7b17-4b3d-f783-353f5ed9702e"
      },
      "execution_count": null,
      "outputs": [
        {
          "output_type": "stream",
          "name": "stdout",
          "text": [
            "4.0\n"
          ]
        }
      ]
    },
    {
      "cell_type": "code",
      "source": [
        "a = float(input(\"a:\"))\n",
        "b = float(input(\"b:\"))\n",
        "c = float(input(\"c:\"))\n",
        "d= b**2 - 4*a*c\n",
        "if d > 0:\n",
        "    root1 = (-b + (d**(1/2))) / (2*a)\n",
        "    root2 = (-b - (d**(1/2))) / (2*a)\n",
        "    print(f\"The roots are real and distinct: {root1} and {root2}\")\n",
        "else :\n",
        "  if d == 0:\n",
        "    root1 = -b / (2*a)\n",
        "    print(f\"The root is real and repeated: {root1}\")\n",
        "  else:\n",
        "    real_part = -b / (2*a)\n",
        "    imaginary_part = abs(d)**(1/2) / (2*a)\n",
        "    print(f\"The roots are complex: {real_part} + {imaginary_part}i and {real_part} - {imaginary_part}i\")"
      ],
      "metadata": {
        "colab": {
          "base_uri": "https://localhost:8080/"
        },
        "id": "w_vxgOfm-KZG",
        "outputId": "2bf0b2e7-6edf-4fee-89b2-ff423b5ba271"
      },
      "execution_count": null,
      "outputs": [
        {
          "output_type": "stream",
          "name": "stdout",
          "text": [
            "a:1\n",
            "b:6\n",
            "c:15\n",
            "The roots are complex: -3.0 + 2.449489742783178i and -3.0 - 2.449489742783178i\n"
          ]
        }
      ]
    },
    {
      "cell_type": "code",
      "source": [
        "day=int(input(\"day \"))\n",
        "if day == 1:\n",
        "  print(\"Monday\")\n",
        "else:\n",
        "  if day == 2:\n",
        "    print('Tuesday')\n",
        "  else:\n",
        "    if day == 3:\n",
        "      print('wednesday')\n",
        "    else :\n",
        "      if day == 4:\n",
        "        print('Thursday')\n",
        "      else :\n",
        "        if day == 5:\n",
        "          print('Friday')\n",
        "        else :\n",
        "          if day == 6:\n",
        "            print('Saturday')\n",
        "          else :\n",
        "            if day == 7:\n",
        "              print('Sunday')\n",
        "            else :\n",
        "              print(\"there are only 7 days in a week\")"
      ],
      "metadata": {
        "colab": {
          "base_uri": "https://localhost:8080/"
        },
        "id": "faR6KwaVAxJ2",
        "outputId": "b1fb2480-353b-4e7e-e4c9-14b387414ca1"
      },
      "execution_count": null,
      "outputs": [
        {
          "output_type": "stream",
          "name": "stdout",
          "text": [
            "day 4\n",
            "Thursday\n"
          ]
        }
      ]
    },
    {
      "cell_type": "code",
      "source": [
        "year1 = int(input(\"Enter a year: \"))\n",
        "leapyear = (year1 % 4 == 0 and year1 % 100 != 0) or (year1 % 400 == 0)\n",
        "divisible_by_400 = year1 % 400 == 0\n",
        "if leapyear:\n",
        "    if divisible_by_400:\n",
        "        print(f\"{year1} is a leap year and also evenly divible by 400.\")\n",
        "    else:\n",
        "        print(f\"{year1} is a leap year but not divisible by 400.\")\n",
        "else :\n",
        "    print(f\"{year1} is not a leap year\")"
      ],
      "metadata": {
        "colab": {
          "base_uri": "https://localhost:8080/"
        },
        "id": "m_xOEacbFNsI",
        "outputId": "d73a2634-48ac-4668-88da-8302be04cd6a"
      },
      "execution_count": null,
      "outputs": [
        {
          "output_type": "stream",
          "name": "stdout",
          "text": [
            "Enter a year: 2000\n",
            "2000 is a leap year.\n",
            "2000 is evenly divisible by 400.\n"
          ]
        }
      ]
    },
    {
      "cell_type": "code",
      "source": [
        "number = int(input())\n",
        "if number < 2:\n",
        "  print(f\"{number} is not a prime number. \")\n",
        "else :\n",
        "  for i in range(2, int(number**0.5)+1):\n",
        "    if number % i == 0:\n",
        "      print(f\"{number} is not a prime number\")\n",
        "      break\n",
        "    else:\n",
        "      print(f\"{number} is a prime number\")\n",
        "      break"
      ],
      "metadata": {
        "id": "mmTH4uM4G5m6",
        "colab": {
          "base_uri": "https://localhost:8080/"
        },
        "outputId": "6f5bbeee-fb12-4729-cf43-566e6cc8e123"
      },
      "execution_count": null,
      "outputs": [
        {
          "output_type": "stream",
          "name": "stdout",
          "text": [
            "13\n",
            "13 is a prime number\n"
          ]
        }
      ]
    },
    {
      "cell_type": "code",
      "source": [
        "student_score1=float(input())\n",
        "if 90< student_score1 <=100:\n",
        "  print(\"A Grade\")\n",
        "elif 80< student_score1 <=90:\n",
        "  print('B Grade')\n",
        "elif 70< student_score1 <=80:\n",
        "  print('C Grade')\n",
        "elif 60<= student_score1 <=70:\n",
        "  print('D Grade')\n",
        "else :\n",
        "  print('F Grade')"
      ],
      "metadata": {
        "id": "IZVoteXqlYc1",
        "colab": {
          "base_uri": "https://localhost:8080/"
        },
        "outputId": "a4c1b1f3-1d07-4658-eb21-2102e78b69af"
      },
      "execution_count": null,
      "outputs": [
        {
          "output_type": "stream",
          "name": "stdout",
          "text": [
            "75\n",
            "C Grade\n"
          ]
        }
      ]
    },
    {
      "cell_type": "code",
      "source": [
        "angle=float(input())\n",
        "if angle>0 and angle<90:\n",
        "  angle_type=\"Acute\"\n",
        "elif angle == 90:\n",
        "    angle_type=\"Right\"\n",
        "elif angle > 90 and angle<180:\n",
        "      angle_type = \"obtuse\"\n",
        "else :\n",
        "      angle_type = \"invalid\"\n",
        "if angle_type!= \"invalid\" :\n",
        "  print(f\"the given angle is a {angle_type} angle\")\n",
        "else:\n",
        "  print(f\"the given angle is {angle_type}\")"
      ],
      "metadata": {
        "colab": {
          "base_uri": "https://localhost:8080/"
        },
        "id": "XOBfkCZo25MH",
        "outputId": "8292a95b-5394-4a3b-a7a4-328c06ce94b4"
      },
      "execution_count": null,
      "outputs": [
        {
          "output_type": "stream",
          "name": "stdout",
          "text": [
            "105\n",
            "the given angle is a obtuse angle\n"
          ]
        }
      ]
    },
    {
      "cell_type": "code",
      "source": [
        "weight = float(input(\"Enter weight in kilograms: \"))\n",
        "height_in_feet = float(input(\"Enter height in feet: \"))\n",
        "height_in_meters = height_in_feet * 0.3048\n",
        "bmi = weight / (height_in_meters ** 2)\n",
        "if bmi < 18.5:\n",
        "    category = \"Underweight\"\n",
        "elif 18.5 <= bmi < 24.9:\n",
        "    category = \"Normal Weight\"\n",
        "elif 25 <= bmi < 29.9:\n",
        "    category = \"Overweight\"\n",
        "else:\n",
        "    category = \"Obese\"\n",
        "print(f\"BMI: {bmi:.2f}\")\n",
        "print(f\"Category: {category}\")"
      ],
      "metadata": {
        "colab": {
          "base_uri": "https://localhost:8080/"
        },
        "id": "bheeQegh28A_",
        "outputId": "8af20782-a1ab-4752-f748-caa3b86f4b03"
      },
      "execution_count": null,
      "outputs": [
        {
          "output_type": "stream",
          "name": "stdout",
          "text": [
            "Enter weight in kilograms: 95\n",
            "Enter height in feet: 6\n",
            "BMI: 28.40\n",
            "Category: Overweight\n"
          ]
        }
      ]
    },
    {
      "cell_type": "code",
      "source": [
        "n=float(input())\n",
        "if n==0:\n",
        "  print(f\"{n} is a zero\")\n",
        "elif n>0:\n",
        "    print(f\"{n} is a positive number\")\n",
        "else :\n",
        "    print(f\"{n} is a negative number\")"
      ],
      "metadata": {
        "colab": {
          "base_uri": "https://localhost:8080/"
        },
        "id": "HX7tOv1fVijx",
        "outputId": "b9d38d0e-9957-4b57-908e-958299f4c458"
      },
      "execution_count": null,
      "outputs": [
        {
          "output_type": "stream",
          "name": "stdout",
          "text": [
            "-56\n",
            "-56.0 is a negative number\n"
          ]
        }
      ]
    },
    {
      "cell_type": "code",
      "source": [
        "charecter = str(input(\"enter the charecter : \"))\n",
        "if charecter.isupper() == True:\n",
        "  print(f\"the given charecter {charecter} is in uppercase \")\n",
        "elif charecter.islower() == True :\n",
        "  print(f\"the given charecter {charecter} is in loercase \")\n",
        "else :\n",
        "  print(f\"the given charecter {charecter} is a special charecter \")"
      ],
      "metadata": {
        "colab": {
          "base_uri": "https://localhost:8080/"
        },
        "id": "i8K7gLn1Xnik",
        "outputId": "82a24101-60f7-4cda-a9d8-866bd42e64d0"
      },
      "execution_count": null,
      "outputs": [
        {
          "output_type": "stream",
          "name": "stdout",
          "text": [
            "enter the charecter : @\n",
            "the given charecter @ is a special charecter \n"
          ]
        }
      ]
    },
    {
      "cell_type": "code",
      "source": [
        "amount = float(input(\"enter the purchased amount : \"))\n",
        "if amount < 100 :\n",
        "  discount = 0 # no discount\n",
        "elif 100 < amount < 500 :\n",
        "  discount = 0.5 # 5% discount\n",
        "elif 500 < amount < 1000 :\n",
        "  discount = 0.1 # 10% discount\n",
        "else :\n",
        "  discount = 0.15 # 15% discount\n",
        "discounted_amount = amount - (amount * discount)\n",
        "print(f\"the total purchased amount : {amount:.2f}$\")\n",
        "print(f\"discount percentage : {discount*100:.2f}%\")\n",
        "print(f\"discounted price : {discounted_amount:.2f}$\")"
      ],
      "metadata": {
        "colab": {
          "base_uri": "https://localhost:8080/"
        },
        "id": "IjT4YMPlpJr_",
        "outputId": "a1b95af0-35bd-4946-d498-36b6d8e1cc0e"
      },
      "execution_count": null,
      "outputs": [
        {
          "output_type": "stream",
          "name": "stdout",
          "text": [
            "enter the purchased amount : 1500\n",
            "the total purchased amount : 1500.00$\n",
            "discount percentage : 15.00%\n",
            "discounted price : 1275.00$\n"
          ]
        }
      ]
    },
    {
      "cell_type": "code",
      "source": [
        "consumption = float(input(\"Enter electricity consumption in kWh: \"))\n",
        "rate_slab1 = 0.10 # for first 100 kwh\n",
        "rate_slab2 = 0.15 # for next 200 kwh\n",
        "rate_slab3 = 0.20 # for consumption above 300 kwh\n",
        "total_bill = 0\n",
        "if consumption <= 100:\n",
        "    total_bill = consumption * rate_slab1\n",
        "elif consumption <= 300:\n",
        "    total_bill = (100 * rate_slab1) + ((consumption - 100) * rate_slab2)\n",
        "else:\n",
        "    total_bill = (100 * rate_slab1) + (200 * rate_slab2) + ((consumption - 300) * rate_slab3)\n",
        "print(f\"Electricity Bill: {total_bill:.2f}$\")"
      ],
      "metadata": {
        "colab": {
          "base_uri": "https://localhost:8080/"
        },
        "id": "uTYhGDWurx_m",
        "outputId": "1445a9d5-0dea-465a-df23-deb32ce97484"
      },
      "execution_count": null,
      "outputs": [
        {
          "output_type": "stream",
          "name": "stdout",
          "text": [
            "Enter electricity consumption in kWh: 150\n",
            "Electricity Bill: 17.50$\n"
          ]
        }
      ]
    },
    {
      "cell_type": "code",
      "source": [
        "angle1 = float(input(\"Enter the first angle: \"))\n",
        "angle2 = float(input(\"Enter the second angle: \"))\n",
        "angle3 = float(input(\"Enter the third angle: \"))\n",
        "angle4 = float(input(\"Enter the fourth angle: \"))\n",
        "side1 = float(input(\"Enter the length of side 1: \"))\n",
        "side2 = float(input(\"Enter the length of side 2: \"))\n",
        "side3 = float(input(\"Enter the length of side 3: \"))\n",
        "side4 = float(input(\"Enter the length of side 4: \"))\n",
        "if angle1 + angle2 + angle3 + angle4 == 360:\n",
        "    if (side1 == side2 == side3 == side4) and (angle1 == angle2 == angle3 == angle4 == 90):\n",
        "        quadrilateral_type = \"Square\"\n",
        "    elif (side1 == side2 == side3 == side4) and (angle1 == angle2 == angle3 == angle4 != 90):\n",
        "        quadrilateral_type = \"Rhombus\"\n",
        "    elif (side1 == side3) and (side2 == side4) and (angle1 == angle3) and (angle2 == angle4):\n",
        "        quadrilateral_type = \"Rectangle\"\n",
        "    elif (side1 == side3) and (side2 == side4) and (angle1 == angle3 != 90) and (angle2 == angle4 != 90):\n",
        "        quadrilateral_type = \"Parallelogram\"\n",
        "    else:\n",
        "        quadrilateral_type = \"General Quadrilateral\"\n",
        "else:\n",
        "    quadrilateral_type = \"Invalid\"\n",
        "print(f\"The quadrilateral is a {quadrilateral_type}.\")"
      ],
      "metadata": {
        "colab": {
          "base_uri": "https://localhost:8080/"
        },
        "id": "-kx2N94vvZ1g",
        "outputId": "ce5ebcc9-31cb-4439-86ad-4c4082f6bfb1"
      },
      "execution_count": null,
      "outputs": [
        {
          "output_type": "stream",
          "name": "stdout",
          "text": [
            "Enter the first angle: 90\n",
            "Enter the second angle: 90\n",
            "Enter the third angle: 90\n",
            "Enter the fourth angle: 90\n",
            "Enter the length of side 1: 9\n",
            "Enter the length of side 2: 9\n",
            "Enter the length of side 3: 9\n",
            "Enter the length of side 4: 9\n",
            "The quadrilateral is a Square.\n"
          ]
        }
      ]
    },
    {
      "cell_type": "code",
      "source": [
        "month = str(input(\"enter the month : \"))\n",
        "month = month.lower()\n",
        "if month == \"january\" or month == \"febraury\" :\n",
        "  print(f\"the season of the {month} is Winter. \")\n",
        "elif month == \"march\" or month == \"april\" :\n",
        "  print(f\"the season of the {month} is Spring. \")\n",
        "elif month == \"may\" or month == \"june\" :\n",
        "  print(f\"the seson of the {month} is Summer. \")\n",
        "elif month == \"july\" or month == \"august\" :\n",
        "  print(f\"the seson of the {month} is Rainy\")\n",
        "elif month ==\"september\" or month == \"october\" :\n",
        "  print(f\"the season of the {month} is Autmn\")\n",
        "elif month == \"november\" or month == \"december\" :\n",
        "  print(f\"the season of the {month} is Pre-Winter\")\n",
        "else :\n",
        "  print(\"enter the correct month\")"
      ],
      "metadata": {
        "colab": {
          "base_uri": "https://localhost:8080/"
        },
        "id": "woYTOXA9wKzg",
        "outputId": "0f45c315-32cb-4ff9-bff2-b907937c25e2"
      },
      "execution_count": null,
      "outputs": [
        {
          "output_type": "stream",
          "name": "stdout",
          "text": [
            "enter the month : January\n",
            "the season of the january is Winter. \n"
          ]
        }
      ]
    },
    {
      "cell_type": "code",
      "source": [
        "year = int(input(\"Enter a year: \"))\n",
        "month1 = str(input(\"Enter a month: \"))\n",
        "month1 = month1.lower()\n",
        "is_leap_year = (year % 4 == 0 and year % 100 != 0) or (year % 400 == 0)\n",
        "days_in_month = None\n",
        "if month1 == \"january\" or month1 == \"march\" or month1 == \"may\" or month1 == \"july\" or month1 == \"august\" or month1 == \"october\" or month1 == \"december\":\n",
        "    days_in_month = 31\n",
        "elif month1 == \"april\" or month1 == \"june\" or month1 == \"september\" or month1 == \"november\":\n",
        "    days_in_month = 30\n",
        "elif month1 == \"febraury\":\n",
        "    if is_leap_year:\n",
        "        days_in_month = 29\n",
        "    else:\n",
        "        days_in_month = 28\n",
        "else:\n",
        "    print(\"Invalid month input. Please enter a month between 1 and 12.\")\n",
        "if days_in_month is not None:\n",
        "    if is_leap_year:\n",
        "        print(f\"{year} is a leap year.\")\n",
        "    else:\n",
        "        print(f\"{year} is a common year.\")\n",
        "    print(f\"The month {month1} has {days_in_month} days.\")"
      ],
      "metadata": {
        "colab": {
          "base_uri": "https://localhost:8080/"
        },
        "id": "8NEjEqJf91UC",
        "outputId": "a59afd1a-b83d-4d9a-e7f6-320eb2bf1998"
      },
      "execution_count": null,
      "outputs": [
        {
          "output_type": "stream",
          "name": "stdout",
          "text": [
            "Enter a year: 2024\n",
            "Enter a month: Febraury\n",
            "2024 is a leap year.\n",
            "The month febraury has 29 days.\n"
          ]
        }
      ]
    },
    {
      "cell_type": "code",
      "source": [
        "number = float(input(\"enter the number: \"))\n",
        "if number == 0 :\n",
        "  print(f\"The given number {number} is zero\")\n",
        "elif number < 0 :\n",
        "  print(f\"The given number {number} is negative number\")\n",
        "else :\n",
        "  print(f\"The given number {number} is positive number\")"
      ],
      "metadata": {
        "id": "Ts3_kI0qA_FX",
        "colab": {
          "base_uri": "https://localhost:8080/"
        },
        "outputId": "f4084815-bc67-4e43-9697-878ad2e11f2a"
      },
      "execution_count": null,
      "outputs": [
        {
          "output_type": "stream",
          "name": "stdout",
          "text": [
            "enter the number: 56\n",
            "The given number 56.0 is positive number\n"
          ]
        }
      ]
    },
    {
      "cell_type": "code",
      "source": [
        "person_age = int(input(\"enter the age : \"))\n",
        "if person_age >= 18 :\n",
        "  print(\"The person is eligible for vote\")\n",
        "else :\n",
        "  print(\"The person is not eligible for vote\")"
      ],
      "metadata": {
        "colab": {
          "base_uri": "https://localhost:8080/"
        },
        "id": "eNzNoTUo7VhY",
        "outputId": "0623323b-b4b8-4ea7-9a25-1dbfd1f3efaa"
      },
      "execution_count": null,
      "outputs": [
        {
          "output_type": "stream",
          "name": "stdout",
          "text": [
            "enter the age : 23\n",
            "The person is eligible for vote\n"
          ]
        }
      ]
    },
    {
      "cell_type": "code",
      "source": [
        "num1 = float(input(\"Enter the number : \"))\n",
        "num2 = float(input(\"Enter the number : \"))\n",
        "if num1 > num2 :\n",
        "  print(f\"The number {num1} is grater than the number {num2}.\")\n",
        "else :\n",
        "  print(f\"The number {num2} is grater than the number {num1}.\")"
      ],
      "metadata": {
        "colab": {
          "base_uri": "https://localhost:8080/"
        },
        "id": "rmksRJne8Qdu",
        "outputId": "a45e7cf9-1c49-4e38-f8c3-f6924507f3d6"
      },
      "execution_count": null,
      "outputs": [
        {
          "output_type": "stream",
          "name": "stdout",
          "text": [
            "Enter the number : 25\n",
            "Enter the number : 56\n",
            "The number 56.0 is grater than the number 25.0.\n"
          ]
        }
      ]
    },
    {
      "cell_type": "code",
      "source": [
        "exam_score = float(input(\"enter the score of the student : \"))\n",
        "if 100 >= exam_score > 90 :\n",
        "  print(\"S Grade\")\n",
        "elif 90 >= exam_score > 80 :\n",
        "  print(\"A Grade\")\n",
        "elif 80 >= exam_score > 75 :\n",
        "  print(\"B Grade\")\n",
        "elif 75 >= exam_score > 70 :\n",
        "  print(\"C Grade\")\n",
        "elif 70 >= exam_score > 60 :\n",
        "  print(\"D Grade\")\n",
        "else :\n",
        "  print(\"FAIL\")"
      ],
      "metadata": {
        "colab": {
          "base_uri": "https://localhost:8080/"
        },
        "id": "zEdBu6b39i8d",
        "outputId": "fb2621c8-9f8f-439c-cd8b-706875a759a5"
      },
      "execution_count": null,
      "outputs": [
        {
          "output_type": "stream",
          "name": "stdout",
          "text": [
            "enter the score of the student : 65\n",
            "D Grade\n"
          ]
        }
      ]
    },
    {
      "cell_type": "code",
      "source": [
        "Year = int(input(\"enter the year : \"))\n",
        "if (Year % 4 == 0 and Year % 100 != 0) or (Year % 400 == 0) :\n",
        "  print(f\"the year {Year} is a leap year\")\n",
        "else :\n",
        "  print(f\"the year {Year} is not a leap year\")"
      ],
      "metadata": {
        "colab": {
          "base_uri": "https://localhost:8080/"
        },
        "id": "IeFG3IM0_uWt",
        "outputId": "4af1c7cf-1d52-4d9e-d6c9-797e0ab20e0d"
      },
      "execution_count": null,
      "outputs": [
        {
          "output_type": "stream",
          "name": "stdout",
          "text": [
            "enter the year : 2024\n",
            "the year 2024 is a leap year\n"
          ]
        }
      ]
    },
    {
      "cell_type": "code",
      "source": [
        "side1 = float(input(\"enter the length of the first side : \"))\n",
        "side2 = float(input(\"enter the length of the second side : \"))\n",
        "side3 = float(input(\"enter the length of the third side : \"))\n",
        "if side1 == side2 == side3:\n",
        "    triangle_type = \"Equilateral\"\n",
        "elif side1 == side2 or side2 == side3 or side1 == side3:\n",
        "    triangle_type = \"Isosceles\"\n",
        "else:\n",
        "    triangle_type = \"Scalene\"\n",
        "print(\"Triangle Type:\", triangle_type)\n"
      ],
      "metadata": {
        "colab": {
          "base_uri": "https://localhost:8080/"
        },
        "id": "8SoD-svmByMF",
        "outputId": "cc8dfcf2-8ef1-4a48-eb9d-209585da0cf5"
      },
      "execution_count": null,
      "outputs": [
        {
          "output_type": "stream",
          "name": "stdout",
          "text": [
            "enter the length of the first side : 2\n",
            "enter the length of the second side : 6\n",
            "enter the length of the third side : 2\n",
            "Triangle Type: Isosceles\n"
          ]
        }
      ]
    },
    {
      "cell_type": "code",
      "source": [
        "char = str(input(\"enter the charecter form a to z : \"))\n",
        "char = char.lower()\n",
        "if char == 'a' or char == 'e' or char == 'i' or char == 'o' or char == 'u' :\n",
        "  print(f\"The given charecter {char} is a Vowel\")\n",
        "else :\n",
        "  print(f\"The given charecter {char} is a Consonant\")"
      ],
      "metadata": {
        "colab": {
          "base_uri": "https://localhost:8080/"
        },
        "id": "O5sndRFsDCs6",
        "outputId": "8a0d8e97-b503-48e9-e56a-b5d2fb08da04"
      },
      "execution_count": null,
      "outputs": [
        {
          "output_type": "stream",
          "name": "stdout",
          "text": [
            "enter the charecter form a to z : A\n",
            "The given charecter a is a Vowel\n"
          ]
        }
      ]
    },
    {
      "cell_type": "code",
      "source": [
        "amount = float(input(\"enter the purchased amount : \"))\n",
        "if amount < 100 :\n",
        "  discount = 0 # no discount\n",
        "elif 100 < amount < 500 :\n",
        "  discount = 0.5 # 5% discount\n",
        "elif 500 < amount < 1000 :\n",
        "  discount = 0.1 # 10% discount\n",
        "else :\n",
        "  discount = 0.15 # 15% discount\n",
        "discounted_amount = amount - (amount * discount)\n",
        "print(f\"discounted price : {discounted_amount:.2f}$\")"
      ],
      "metadata": {
        "colab": {
          "base_uri": "https://localhost:8080/"
        },
        "id": "aOecgHKsFkdd",
        "outputId": "2f7d9a07-a204-4786-ec92-a223298fd21f"
      },
      "execution_count": null,
      "outputs": [
        {
          "output_type": "stream",
          "name": "stdout",
          "text": [
            "enter the purchased amount : 2000\n",
            "discounted price : 1700.00$\n"
          ]
        }
      ]
    },
    {
      "cell_type": "code",
      "source": [
        "number1 = int(input(\"Enter the number : \"))\n",
        "if number1 % 2 == 0 :\n",
        "  print(f\"The given number {number1} is even number\")\n",
        "else :\n",
        "  print(f\"The given number {number1} is odd number\")"
      ],
      "metadata": {
        "colab": {
          "base_uri": "https://localhost:8080/"
        },
        "id": "yGowFYkWGyM5",
        "outputId": "31382b4e-37a3-40dc-fcda-23a8ecbd3c18"
      },
      "execution_count": null,
      "outputs": [
        {
          "output_type": "stream",
          "name": "stdout",
          "text": [
            "Enter the number : 12\n",
            "The given number 12 is even number\n"
          ]
        }
      ]
    },
    {
      "cell_type": "code",
      "source": [
        "a = float(input(\"a:\"))\n",
        "b = float(input(\"b:\"))\n",
        "c = float(input(\"c:\"))\n",
        "d= b**2 - 4*a*c\n",
        "if d > 0:\n",
        "  root1 = (-b + (d**(1/2))) / (2*a)\n",
        "  root2 = (-b - (d**(1/2))) / (2*a)\n",
        "  print(f\"The roots are real and distinct: {root1} and {root2}\")\n",
        "elif d == 0:\n",
        "  root1 = -b / (2*a)\n",
        "  print(f\"The root is real and repeated: {root1}\")\n",
        "else:\n",
        "  real_part = -b / (2*a)\n",
        "  imaginary_part = abs(d)**(1/2) / (2*a)\n",
        "  print(f\"The roots are complex: {real_part} + {imaginary_part}i and {real_part} - {imaginary_part}i\")"
      ],
      "metadata": {
        "id": "Tdl05eU5HyHB",
        "colab": {
          "base_uri": "https://localhost:8080/"
        },
        "outputId": "1d11db6f-e93e-4c78-8fab-fa36554c6728"
      },
      "execution_count": null,
      "outputs": [
        {
          "output_type": "stream",
          "name": "stdout",
          "text": [
            "a:1\n",
            "b:6\n",
            "c:9\n",
            "The root is real and repeated: -3.0\n"
          ]
        }
      ]
    },
    {
      "cell_type": "code",
      "source": [
        "day=int(input(\"day \"))\n",
        "if day == 1:\n",
        "  print(\"Monday\")\n",
        "elif day == 2:\n",
        "  print('Tuesday')\n",
        "elif day == 3:\n",
        "  print('wednesday')\n",
        "elif day == 4:\n",
        "  print('Thursday')\n",
        "elif day == 5:\n",
        "  print('Friday')\n",
        "elif day == 6:\n",
        "  print('Saturday')\n",
        "elif day == 7:\n",
        "  print('Sunday')\n",
        "else :\n",
        "  print(\"there are only 7 days in a week\")"
      ],
      "metadata": {
        "id": "SmUd1JtFDGwj",
        "colab": {
          "base_uri": "https://localhost:8080/"
        },
        "outputId": "ba212d49-8ca0-46a0-f582-4a9b0ecd94d5"
      },
      "execution_count": null,
      "outputs": [
        {
          "output_type": "stream",
          "name": "stdout",
          "text": [
            "day 6\n",
            "Saturday\n"
          ]
        }
      ]
    },
    {
      "cell_type": "code",
      "source": [
        "def factorial(n):\n",
        "  if n == 0 :\n",
        "    return 1\n",
        "  else :\n",
        "    return n * factorial(n-1)\n",
        "n = int(input(\"enter the number : \"))\n",
        "if n < 0 :\n",
        "  print(\"it is not defined for the negative numbers\")\n",
        "else :\n",
        "  result = factorial(n)\n",
        "  print(f\"the factoraial of {n} is {result}.\")"
      ],
      "metadata": {
        "colab": {
          "base_uri": "https://localhost:8080/"
        },
        "id": "8IxONWrxfd0R",
        "outputId": "8c93d4b5-3d3d-4089-9936-b2ea8d453170"
      },
      "execution_count": null,
      "outputs": [
        {
          "output_type": "stream",
          "name": "stdout",
          "text": [
            "enter the number : 1\n",
            "the factoraial of 1 is 1.\n"
          ]
        }
      ]
    },
    {
      "cell_type": "code",
      "source": [
        "num1 = float(input('Enter the first number :'))\n",
        "num2 = float(input(\"Enter the second number :\"))\n",
        "num3 = float(input(\"Enter the third number :\"))\n",
        "if num1>num2 and num1>num3 :\n",
        "  print('the largest number is ',num1)\n",
        "elif num2>num1 and num2>num3:\n",
        "  print('the largest number is ',num2)\n",
        "else :\n",
        "  print('the largest number is ',num3)"
      ],
      "metadata": {
        "colab": {
          "base_uri": "https://localhost:8080/"
        },
        "id": "E0bY3LZ7kRWW",
        "outputId": "91fff47e-0ff0-407b-8121-52f9907c1e70"
      },
      "execution_count": null,
      "outputs": [
        {
          "output_type": "stream",
          "name": "stdout",
          "text": [
            "Enter the first number :3\n",
            "Enter the second number :5\n",
            "Enter the third number :1\n",
            "the largest number is  5.0\n"
          ]
        }
      ]
    },
    {
      "cell_type": "code",
      "source": [
        "Account_balance = 2000.00\n",
        "def check_balance() :\n",
        "  print(f\"Your account balance is {Account_balance:.2f}\")\n",
        "def make_deposit(amount) :\n",
        "  global Account_balance\n",
        "  Account_balance += amount\n",
        "  print(f\"Deposited {amount:.2f} in your account.\")\n",
        "  check_balance()\n",
        "def make_withdrawl(amount) :\n",
        "  global Account_balance\n",
        "  if amount <= Account_balance:\n",
        "    Account_balance -= amount\n",
        "    print(f\"withdrew {amount:.2f} from your account.\")\n",
        "  else :\n",
        "    print(\"withdrawl cannot be completed due to insufficient funds\")\n",
        "  check_balance()\n",
        "print(\"1. Check the balance\")\n",
        "print(\"2. To Deposit amount\")\n",
        "print(\"3. To withdrawl the amount\")\n",
        "print(\"4. Exit\")\n",
        "while True :\n",
        "  choice = input(\"Enter your choice from 1/2/3/4 : \")\n",
        "  if choice == \"1\":\n",
        "    check_balance()\n",
        "  elif choice == \"2\":\n",
        "    deposit_amount = float(input(\"Enter the deposit amount : \"))\n",
        "    make_deposit(deposit_amount)\n",
        "  elif choice == \"3\":\n",
        "    withdrawl_amount = float(input(\"Enter the withdrawl amount : \"))\n",
        "    make_withdrawl(withdrawl_amount)\n",
        "  elif choice == \"4\":\n",
        "    print(\"THANK YOU FOR USING OUR ATM\")\n",
        "    break\n",
        "  else :\n",
        "    print(\"Invalid choice. Enter the correct choice\")"
      ],
      "metadata": {
        "colab": {
          "base_uri": "https://localhost:8080/"
        },
        "id": "C859glbBlAZm",
        "outputId": "61afc730-b4af-4011-ddf3-fab57baff9f6"
      },
      "execution_count": null,
      "outputs": [
        {
          "output_type": "stream",
          "name": "stdout",
          "text": [
            "1. Check the balance\n",
            "2. To Deposit amount\n",
            "3. To withdrawl the amount\n",
            "4. Exit\n",
            "Enter your choice from 1/2/3/4 : 1\n",
            "Your account balance is 2000.00\n",
            "Enter your choice from 1/2/3/4 : 2\n",
            "Enter the deposit amount : 200\n",
            "Deposited 200.00 in your account.\n",
            "Your account balance is 2200.00\n",
            "Enter your choice from 1/2/3/4 : 3\n",
            "Enter the withdrawl amount : 300\n",
            "withdrew 300.00 from your account.\n",
            "Your account balance is 1900.00\n",
            "Enter your choice from 1/2/3/4 : 6\n",
            "Invalid choice. Enter the correct choice\n",
            "Enter your choice from 1/2/3/4 : 4\n",
            "THANK YOU FOR USING OUR ATM\n"
          ]
        }
      ]
    },
    {
      "cell_type": "code",
      "source": [
        "input_string= str(input(\"Enter the word: \"))\n",
        "input_string=input_string.lower()\n",
        "input_string=input_string.replace(' ','')\n",
        "if input_string==input_string[::-1]:\n",
        "  print(f'The given word {input_string} is palindrome')\n",
        "else:\n",
        "  print(f'The given word {input_string} is not palindrome')"
      ],
      "metadata": {
        "colab": {
          "base_uri": "https://localhost:8080/"
        },
        "id": "P8_XqZ7hruP9",
        "outputId": "378ead11-8d36-4aa0-f86d-768fc83dee16"
      },
      "execution_count": null,
      "outputs": [
        {
          "output_type": "stream",
          "name": "stdout",
          "text": [
            "Enter the word: Race car\n",
            "The given word racecar is palindrome\n"
          ]
        }
      ]
    },
    {
      "cell_type": "code",
      "source": [
        "numbers = input(\"Enter the numbers by giving space for each number : \").split()\n",
        "numbers = [float(num) for num in numbers]\n",
        "if len(numbers) < 3:\n",
        "  print(\"to do average of numbers it needs atleast 3 numbers\")\n",
        "else :\n",
        "  sorted_numbers = sorted(numbers)\n",
        "  trimmed_numbers = sorted_numbers[1:-1]\n",
        "  average = sum(trimmed_numbers)/len(trimmed_numbers)\n",
        "print(f\"the average of the excluding largest and smallest numbers is {average}.\")"
      ],
      "metadata": {
        "colab": {
          "base_uri": "https://localhost:8080/"
        },
        "id": "IjvvyrpsVBML",
        "outputId": "dce89709-a59b-4b34-e13e-6762548417f1"
      },
      "execution_count": null,
      "outputs": [
        {
          "output_type": "stream",
          "name": "stdout",
          "text": [
            "Enter the numbers by giving space for each number : 1 4 7 5 8 2 3 6 9\n",
            "the average of the excluding largest and smallest numbers is 5.0.\n"
          ]
        }
      ]
    },
    {
      "cell_type": "code",
      "source": [
        "temp_in_celsius = float(input(\"Enter the tempearture in celsius : \"))\n",
        "temp_in_fahrenheit = (1.8 * temp_in_celsius) + 32\n",
        "print(f\"the temprature in fahrenheit is {temp_in_fahrenheit}\")"
      ],
      "metadata": {
        "colab": {
          "base_uri": "https://localhost:8080/"
        },
        "id": "RI2emHT-s7qi",
        "outputId": "8b32c6e5-dedb-420a-861d-d6a537f74d0c"
      },
      "execution_count": null,
      "outputs": [
        {
          "output_type": "stream",
          "name": "stdout",
          "text": [
            "Enter the tempearture in celsius : 32\n",
            "the temprature in fahrenheit is 89.6\n"
          ]
        }
      ]
    },
    {
      "cell_type": "code",
      "source": [
        "def add(x,y) :\n",
        "  return x + y\n",
        "def subtract(x,y) :\n",
        "  return x - y\n",
        "def multiply(x,y) :\n",
        "  return x * y\n",
        "def divide(x,y) :\n",
        "  if y == 0 :\n",
        "    return \"Error division by zero\"\n",
        "  return x / y\n",
        "while True :\n",
        "  print(\"Enter add for Addition, subtract for Subtraction, multiply for Multiplication, divide for Division\")\n",
        "  print(\"Enetr exit to stop the program\")\n",
        "  user_input = input(\"Select the operation : \")\n",
        "  if user_input == \"exit\" :\n",
        "    break\n",
        "  elif user_input in [\"add\",\"subtract\",\"multiply\",\"divide\"] :\n",
        "    x = float(input(\"Enter the number : \"))\n",
        "    y = float(input(\"Enter the number : \"))\n",
        "    if user_input == \"add\":\n",
        "      print(f\"The addition of numbers is {add(x,y)}\")\n",
        "    elif user_input == \"subtract\":\n",
        "      print(f\"The subtraction of numbers is {subtract(x,y)}\")\n",
        "    elif user_input == \"multiply\":\n",
        "      print(f\"The multipliaction of numbers is {multiply(x,y)}\")\n",
        "    elif user_input == \"divide\":\n",
        "      print(f\"The division of numbers is {divide(x,y)}\")\n",
        "  else :\n",
        "    print(\"Invalid input\")"
      ],
      "metadata": {
        "colab": {
          "base_uri": "https://localhost:8080/"
        },
        "id": "Oo2jcmfxXWXu",
        "outputId": "0b0215b6-cf02-4772-c259-a2c09be1f8ff"
      },
      "execution_count": null,
      "outputs": [
        {
          "name": "stdout",
          "output_type": "stream",
          "text": [
            "Enter add for Addition, subtract for Subtraction, multiply for Multiplication, divide for Division\n",
            "Enetr exit to stop the program\n",
            "Select the operation : divide\n",
            "Enter the number : 6\n",
            "Enter the number : 3\n",
            "The division of numbers is 2.0\n",
            "Enter add for Addition, subtract for Subtraction, multiply for Multiplication, divide for Division\n",
            "Enetr exit to stop the program\n",
            "Select the operation : exit\n"
          ]
        }
      ]
    },
    {
      "cell_type": "code",
      "source": [
        "import cmath\n",
        "a = float(input(\"Enter coefficient a: \"))\n",
        "b = float(input(\"Enter coefficient b: \"))\n",
        "c = float(input(\"Enter coefficient c: \"))\n",
        "d = float(input(\"Enter coefficient d: \"))\n",
        "p = (3 * a * c - b**2) / (3 * a**2)\n",
        "q = (2 * b**3 - 9 * a * b * c + 27 * a**2 * d) / (27 * a**3)\n",
        "discriminant = (q/2)**2 + (p/3)**3\n",
        "if discriminant > 0:\n",
        "    u = (-(q/2) + discriminant**0.5) ** (1/3)\n",
        "    v = (-(q/2) - discriminant**0.5) ** (1/3)\n",
        "    root1 = -b / (3 * a) - u - v\n",
        "    root2 = -b / (3 * a) + (u + v) / 2\n",
        "    root3 = -b / (3 * a) + (u + v) / 2\n",
        "    print(\"Real Roots:\")\n",
        "    print(f\"Root 1: {root1}\")\n",
        "    print(f\"Root 2: {root2}\")\n",
        "    print(f\"Root 3: {root3}\")\n",
        "elif discriminant == 0:\n",
        "    if p == 0:\n",
        "        root1 = (-(q/2) * (1/3))\n",
        "    else:\n",
        "        root1 = -2 * (q/2)**(1/3)\n",
        "    root2 = root1\n",
        "    root3 = -root1\n",
        "    print(\"Real Roots:\")\n",
        "    print(f\"Root 1: {root1}\")\n",
        "    print(f\"Root 2: {root2}\")\n",
        "    print(f\"Root 3: {root3}\")\n",
        "else:\n",
        "    u = (-q/2 + discriminant**0.5) ** (1/3)\n",
        "    v = (-q/2 - discriminant**0.5) ** (1/3)\n",
        "    root1 = complex(-b / (3 * a), u + v)\n",
        "    root2 = complex(-b / (3 * a), (-1/2) * (u + v) + complex(3**0.5 / 2, 0) * (u - v))\n",
        "    root3 = complex(-b / (3 * a), (-1/2) * (u + v) - complex(3**0.5 / 2, 0) * (u - v))\n",
        "    print(\"Complex Roots:\")\n",
        "    print(f\"Root 1: {root1}\")\n",
        "    print(f\"Root 2: {root2}\")\n",
        "    print(f\"Root 3: {root3}\")"
      ],
      "metadata": {
        "colab": {
          "base_uri": "https://localhost:8080/"
        },
        "id": "aeGwy4rZyz4d",
        "outputId": "2fce46a9-9017-4e20-98aa-9e9afcb8d0fb"
      },
      "execution_count": null,
      "outputs": [
        {
          "output_type": "stream",
          "name": "stdout",
          "text": [
            "Enter coefficient a: 25\n",
            "Enter coefficient b: 6\n",
            "Enter coefficient c: 8\n",
            "Enter coefficient d: 9\n",
            "Real Roots:\n",
            "Root 1: (-0.5723130900486133-0.6034972073839349j)\n",
            "Root 2: (0.16615654502430666+0.30174860369196743j)\n",
            "Root 3: (0.16615654502430666+0.30174860369196743j)\n"
          ]
        }
      ]
    },
    {
      "cell_type": "code",
      "source": [
        "tax_brackets = [(0, 9999, 0.10), (10000, 40000, 0.12), (40001, 85000, 0.22), (85001, 100000, 0.24), (100001, 200000, 0.32), (200001, 500000, 0.35), (500001, float(\"inf\"), 0.37)]\n",
        "def calculate_income_tax(income):\n",
        "    tax_owed = 0\n",
        "    for bracket in tax_brackets:\n",
        "        min_income, max_income, tax_rate = bracket\n",
        "        if income >= max_income:\n",
        "            tax_owed += (max_income - min_income) * tax_rate\n",
        "        else:\n",
        "            tax_owed += (income - min_income) * tax_rate\n",
        "            break\n",
        "    return tax_owed\n",
        "income = float(input(\"Enter your income: \"))\n",
        "income_tax = calculate_income_tax(income)\n",
        "print(f\"Your income tax is: ${income_tax:.2f}\")\n"
      ],
      "metadata": {
        "colab": {
          "base_uri": "https://localhost:8080/"
        },
        "id": "S_Jg5TMY3aWO",
        "outputId": "2bdcb36e-0d02-4599-e314-afc61d942880"
      },
      "execution_count": null,
      "outputs": [
        {
          "output_type": "stream",
          "name": "stdout",
          "text": [
            "Enter your income: 110000\n",
            "Your income tax is: $21299.12\n"
          ]
        }
      ]
    },
    {
      "cell_type": "code",
      "source": [
        "import random\n",
        "def computer_choice():\n",
        "  choices = [\"rock\",\"paper\",\"scissors\"]\n",
        "  return random.choice(choices)\n",
        "def to_determine_winner(player_choice,computer_choice) :\n",
        "  if player_choice == computer_choice :\n",
        "    return \"It is Tie\"\n",
        "  elif player_choice == \"rock\" :\n",
        "    return \"You Win\" if computer_choice == \"scissors\" else \"computer wins\"\n",
        "  elif player_choice == \"paper\" :\n",
        "    return \"You Win\" if computer_choice == \"rock\" else \"computer wins\"\n",
        "  elif player_choice == \"scissors\":\n",
        "    return \"you Win\" if computer_choice == \"paper\" else \"computer wins\"\n",
        "while True :\n",
        "  print(\"rock,paper,scissors \\nEnter your choice:\")\n",
        "  player_choice = input().lower()\n",
        "  if player_choice in [\"rock\",\"paper\",\"scissors\"]:\n",
        "    comp_choice = computer_choice()\n",
        "    result = to_determine_winner(player_choice,comp_choice)\n",
        "    print(f\"user choice is {player_choice} and computer choice is {comp_choice} hence {result}.\")\n",
        "  elif player_choice == \"quit\" :\n",
        "    break\n",
        "  else :\n",
        "    print(\"Invalid Choice. Please enter rock or paper or scissor \")"
      ],
      "metadata": {
        "colab": {
          "base_uri": "https://localhost:8080/"
        },
        "id": "i_n7SF_lbfvK",
        "outputId": "8d88d147-4643-4473-e1d1-248cea46dace"
      },
      "execution_count": null,
      "outputs": [
        {
          "name": "stdout",
          "output_type": "stream",
          "text": [
            "rock,paper,scissors \n",
            "Enter your choice:\n",
            "rock\n",
            "user choice is rock and computer choice is rock hence It is Tie.\n",
            "rock,paper,scissors \n",
            "Enter your choice:\n",
            "sissors\n",
            "Invalid Choice. Please enter rock or paper or scissor \n",
            "rock,paper,scissors \n",
            "Enter your choice:\n",
            "scissors\n",
            "user choice is scissors and computer choice is paper hence you Win.\n",
            "rock,paper,scissors \n",
            "Enter your choice:\n",
            "paper\n",
            "user choice is paper and computer choice is scissors hence computer wins.\n",
            "rock,paper,scissors \n",
            "Enter your choice:\n",
            "quit\n"
          ]
        }
      ]
    },
    {
      "cell_type": "code",
      "source": [
        "import random\n",
        "import string\n",
        "def generate_password(length,complexity):\n",
        "  if complexity == \"low\":\n",
        "    charecters = string.ascii_letters\n",
        "  elif complexity == \"medium\":\n",
        "    charecters = string.ascii_letters + string.digits\n",
        "  elif complexity == \"high\":\n",
        "    charecters = string.ascii_letters + string.digits + string.punctuation\n",
        "  else :\n",
        "    print(\"Invalid Complexity. Please enter complexity low or medium or high\")\n",
        "    return None\n",
        "  if length < 4 :\n",
        "    print(\"The password must be atleat 4 charecters\")\n",
        "    return None\n",
        "  password = \"\".join((random.choice(charecters)) for _ in range(length))\n",
        "  return password\n",
        "password_length = int(input(\"Enter the length of the password : \"))\n",
        "password_complexity = input(\"Enter the password complexity (low or medium or high) : \")\n",
        "password = generate_password(password_length,password_complexity)\n",
        "print(f\"generated password is : {password}.\")"
      ],
      "metadata": {
        "colab": {
          "base_uri": "https://localhost:8080/"
        },
        "id": "8WfPp8ago22S",
        "outputId": "902a4ea3-9d9b-41a6-e0c4-bd6dbead67dd"
      },
      "execution_count": null,
      "outputs": [
        {
          "output_type": "stream",
          "name": "stdout",
          "text": [
            "Enter the length of the password : 11\n",
            "Enter the password complexity (low or medium or high) : high\n",
            "generated password is : 1x`Ms@\\`@o9.\n"
          ]
        }
      ]
    },
    {
      "cell_type": "code",
      "source": [
        "def start_game():\n",
        "  print(\"Select the city where your journey starts.\")\n",
        "  print(\"Will you go to the SECTOR A or SECTOR B ?\")\n",
        "  Choose_sector = input(\"Enter the sector A or B : \")\n",
        "  Choose_sector = Choose_sector.upper()\n",
        "  if Choose_sector == \"A\" :\n",
        "    print(\"You entered the sector A.\")\n",
        "    sector_A_journey()\n",
        "  elif Choose_sector == \"B\" :\n",
        "    print(\"You entered the sector B.\")\n",
        "    sector_B_journey()\n",
        "  else :\n",
        "    print(\"Invalid Sector. please choose between A and B .\")\n",
        "    start_game()\n",
        "def sector_A_journey():\n",
        "  global Your_Name\n",
        "  print(f\"Hi {Your_Name}! what do you want to do ?\")\n",
        "  print(\"You have two choices. Will you/n 1. Live peacefully   2. Fight monsters outside of thr sector. \")\n",
        "  Your_Choice = int(input(\"Enter the number of your choice : \"))\n",
        "  if Your_Choice == 1 :\n",
        "    print(\"After 2 years./n The monsters entered the sector from the gate that is broken beacause of a mutated monster that is controlling the monsters and attacking the sector. \")\n",
        "    print(\"You have died! Your Journey ends!\")\n",
        "  elif Your_Choice == 2 :\n",
        "    print(\"You have joined the military and explore the outside of the sector where monsters reside. \")\n",
        "    Exploration()\n",
        "  else :\n",
        "    print(\"Invalid Choice. please choose between 1 and 2 .\")\n",
        "    sector_A_journey()\n",
        "def sector_B_journey():\n",
        "  global Your_Name\n",
        "  print(f\"Hi {Your_Name}! what do you want to do ?\")\n",
        "  print(\"You have two choices. Will you\\n 1. Live peacefully   2. Fight monsters outside of thr sector. \")\n",
        "  Your_Choice = int(input(\"Enter the number of your choice : \"))\n",
        "  if Your_Choice == 1 :\n",
        "    print(\"After 2 years.\\n The monsters entered the sector from the gate that is broken beacause of a mutated monster that is controlling the monsters and attacking the sector. \")\n",
        "    print(\"You have died! Your Journey ends!\")\n",
        "  elif Your_Choice == 2 :\n",
        "    print(\"You have joined the military and explore the outside of the sector where monsters reside. \")\n",
        "    Exploration()\n",
        "  else :\n",
        "    print(\"Invalid Choice. please choose between 1 and 2 .\")\n",
        "    sector_B_journey()\n",
        "def Exploration():\n",
        "  print(\"While exploring outside you found the mutated monster and you killed the mutated monster. \")\n",
        "  print(\"Do you want to start again.\\n Type YES to start again\\n Type NO to end.\")\n",
        "  CHOICE = input(\"TYPE YES OR NO : \")\n",
        "  CHOICE = CHOICE.upper()\n",
        "  if CHOICE == \"YES\"  :\n",
        "    start_game()\n",
        "  else :\n",
        "    print(\"      END      \")\n",
        "\n",
        "print(\"WELCOME TO THE ADVNTURE GAME\")\n",
        "Your_Name = input(\"Enter your Name : \")\n",
        "start_game()"
      ],
      "metadata": {
        "id": "IL8MBtpqw0UP",
        "colab": {
          "base_uri": "https://localhost:8080/"
        },
        "outputId": "e5ea2139-e3ac-44e5-fe89-3f1ddd9a9f81"
      },
      "execution_count": null,
      "outputs": [
        {
          "output_type": "stream",
          "name": "stdout",
          "text": [
            "WELCOME TO THE ADVNTURE GAME\n",
            "Enter your Name : rishi\n",
            "Select the city where your journey starts.\n",
            "Will you go to the SECTOR A or SECTOR B ?\n",
            "Enter the sector A or B : a\n",
            "You entered the sector A.\n",
            "Hi rishi! what do you want to do ?\n",
            "You have two choices. Will you /n1. Live peacefully   2. Fight monsters outside of thr sector. \n",
            "Enter the number of your choice : 2\n",
            "You have joined the military and explore the outside of the sector where monsters reside. \n",
            "While exploring outside you found the mutated monster and you killed the mutated monster. \n",
            "Do you want to start again.\n",
            " Type YES to start again\n",
            " Type NO to end.\n",
            "TYPE YES OR NO : no\n",
            "      END      \n"
          ]
        }
      ]
    },
    {
      "cell_type": "code",
      "source": [
        "def solve_linear_equation(a, b):\n",
        "    if a == 0:\n",
        "        if b == 0:\n",
        "            return \"all real numbers are solutions\"\n",
        "        else:\n",
        "            return \"No solution\"\n",
        "    else:\n",
        "        x = -b / a\n",
        "        return f\"Solution: x = {x:.2f}\"\n",
        "a = float(input(\"Enter coefficient a: \"))\n",
        "b = float(input(\"Enter coefficient b: \"))\n",
        "solution = solve_linear_equation(a, b)\n",
        "print(solution)"
      ],
      "metadata": {
        "colab": {
          "base_uri": "https://localhost:8080/"
        },
        "id": "mJx7XqOK5kLD",
        "outputId": "ff3d85bf-29ad-4d0f-bfd0-5a19c22759c5"
      },
      "execution_count": null,
      "outputs": [
        {
          "output_type": "stream",
          "name": "stdout",
          "text": [
            "Enter coefficient a: 5\n",
            "Enter coefficient b: 3\n",
            "Solution: x = -0.60\n"
          ]
        }
      ]
    },
    {
      "cell_type": "code",
      "source": [
        "class Quiz:\n",
        "    def __init__(self):\n",
        "        self.questions = []\n",
        "        self.score = 0\n",
        "    def add_question(self, question_text, choices, correct_choice_index):\n",
        "        question = {\n",
        "            \"text\": question_text,\n",
        "            \"choices\": choices,\n",
        "            \"correct_choice\": correct_choice_index, }\n",
        "        self.questions.append(question)\n",
        "    def display_question(self, question):\n",
        "        print(question[\"text\"])\n",
        "        for i, choice in enumerate(question[\"choices\"]):\n",
        "            print(f\"{i + 1}. {choice}\")\n",
        "        user_answer = int(input(\"Enter the number of your answer: \")) - 1\n",
        "        return user_answer\n",
        "    def run_quiz(self):\n",
        "        for i, question in enumerate(self.questions):\n",
        "            print(f\"Question {i + 1}:\")\n",
        "            user_answer = self.display_question(question)\n",
        "            if user_answer == question[\"correct_choice\"]:\n",
        "                print(\"Correct!\\n\")\n",
        "                self.score += 1\n",
        "            else:\n",
        "                print(f\"Wrong! The correct answer was {question['choices'][question['correct_choice']]}\\n\")\n",
        "        print(f\"You scored {self.score} out of {len(self.questions)}\")\n",
        "quiz = Quiz()\n",
        "quiz.add_question(\"What is the capital of France?\", [\"London\", \"Madrid\", \"Paris\"], 2)\n",
        "quiz.add_question(\"Which planet is known as the Red Planet?\", [\"Mars\", \"Jupiter\", \"Venus\"], 0)\n",
        "quiz.add_question(\"What is 2 + 2?\", [\"3\", \"4\", \"5\"], 1)\n",
        "print(\"Welcome to the Quiz Game!\")\n",
        "quiz.run_quiz()"
      ],
      "metadata": {
        "colab": {
          "base_uri": "https://localhost:8080/"
        },
        "id": "mfETWyhKQzz0",
        "outputId": "3326d662-93c2-4941-cefc-0b271574ca6c"
      },
      "execution_count": null,
      "outputs": [
        {
          "output_type": "stream",
          "name": "stdout",
          "text": [
            "Welcome to the Quiz Game!\n",
            "Question 1:\n",
            "What is the capital of France?\n",
            "1. London\n",
            "2. Madrid\n",
            "3. Paris\n",
            "Enter the number of your answer: 3\n",
            "Correct!\n",
            "\n",
            "Question 2:\n",
            "Which planet is known as the Red Planet?\n",
            "1. Mars\n",
            "2. Jupiter\n",
            "3. Venus\n",
            "Enter the number of your answer: 1\n",
            "Correct!\n",
            "\n",
            "Question 3:\n",
            "What is 2 + 2?\n",
            "1. 3\n",
            "2. 4\n",
            "3. 5\n",
            "Enter the number of your answer: 2\n",
            "Correct!\n",
            "\n",
            "You scored 3 out of 3\n"
          ]
        }
      ]
    },
    {
      "cell_type": "code",
      "source": [
        "def is_prime(year):\n",
        "    if year <= 1:\n",
        "        return False\n",
        "    if year == 2:\n",
        "        return True\n",
        "    if year % 2 == 0:\n",
        "        return False\n",
        "    for j in range(3, int(year**0.5) + 1, 2):\n",
        "        if year % j == 0:\n",
        "            return False\n",
        "    return True\n",
        "year = int(input(\"Enter a year to check if it's prime: \"))\n",
        "if is_prime(year):\n",
        "    print(f\"{year} is a prime year.\")\n",
        "else:\n",
        "    print(f\"{year} is not a prime year.\")\n"
      ],
      "metadata": {
        "colab": {
          "base_uri": "https://localhost:8080/"
        },
        "id": "5yVrPyFhSXCo",
        "outputId": "8307730c-09a8-4f41-d6bd-f8ba6bd7387a"
      },
      "execution_count": null,
      "outputs": [
        {
          "output_type": "stream",
          "name": "stdout",
          "text": [
            "Enter a year to check if it's prime: 1997\n",
            "1997 is a prime year.\n"
          ]
        }
      ]
    },
    {
      "cell_type": "code",
      "source": [
        "num1 = float(input(\"Enter the first number: \"))\n",
        "num2 = float(input(\"Enter the second number: \"))\n",
        "num3 = float(input(\"Enter the third number: \"))\n",
        "if num1 <= num2 <= num3:\n",
        "    smallest, middle, largest = num1, num2, num3\n",
        "elif num1 <= num3 <= num2:\n",
        "    smallest, middle, largest = num1, num3, num2\n",
        "elif num2 <= num1 <= num3:\n",
        "    smallest, middle, largest = num2, num1, num3\n",
        "elif num2 <= num3 <= num1:\n",
        "    smallest, middle, largest = num2, num3, num1\n",
        "elif num3 <= num1 <= num2:\n",
        "    smallest, middle, largest = num3, num1, num2\n",
        "else:\n",
        "    smallest, middle, largest = num3, num2, num1\n",
        "print(\"Numbers in ascending order: \", smallest, middle, largest)\n"
      ],
      "metadata": {
        "colab": {
          "base_uri": "https://localhost:8080/"
        },
        "id": "EiercRa1SrsQ",
        "outputId": "4eab54d2-c0ad-493d-b17f-f29e77d6c437"
      },
      "execution_count": null,
      "outputs": [
        {
          "output_type": "stream",
          "name": "stdout",
          "text": [
            "Enter the first number: 6\n",
            "Enter the second number: 25\n",
            "Enter the third number: 31\n",
            "Numbers in ascending order:  6.0 25.0 31.0\n"
          ]
        }
      ]
    },
    {
      "cell_type": "code",
      "source": [
        "import numpy as np\n",
        "a = float(input(\"Enter the coefficient a: \"))\n",
        "b = float(input(\"Enter the coefficient b: \"))\n",
        "c = float(input(\"Enter the coefficient c: \"))\n",
        "d = float(input(\"Enter the coefficient d: \"))\n",
        "e = float(input(\"Enter the coefficient e: \"))\n",
        "coefficients = [a, b, c, d, e]\n",
        "roots = np.roots(coefficients)\n",
        "print(\"Roots of the quartic equation:\")\n",
        "for i, root in enumerate(roots):\n",
        "    print(f\"Root {i + 1}: {root}\")\n"
      ],
      "metadata": {
        "colab": {
          "base_uri": "https://localhost:8080/"
        },
        "id": "9tWdwHZ-Xjo3",
        "outputId": "c14108fe-aa45-42ab-936b-0369669fef64"
      },
      "execution_count": null,
      "outputs": [
        {
          "output_type": "stream",
          "name": "stdout",
          "text": [
            "Enter the coefficient a: 1\n",
            "Enter the coefficient b: -10\n",
            "Enter the coefficient c: 35\n",
            "Enter the coefficient d: -50\n",
            "Enter the coefficient e: 24\n",
            "Roots of the quartic equation:\n",
            "Root 1: 3.9999999999999822\n",
            "Root 2: 3.0000000000000386\n",
            "Root 3: 1.9999999999999805\n",
            "Root 4: 1.000000000000002\n"
          ]
        }
      ]
    },
    {
      "cell_type": "code",
      "source": [
        "def calculate_bmi(weight, height):\n",
        "    return weight / (height ** 2)\n",
        "weight = float(input(\"Enter your weight in kilograms: \"))\n",
        "height = float(input(\"Enter your height in meters: \"))\n",
        "bmi = calculate_bmi(weight, height)\n",
        "print(f\"Your BMI is: {bmi:.2f}\")\n",
        "if bmi < 18.5:\n",
        "    print(\"You are underweight. Consider gaining some weight to reach a healthy BMI.\")\n",
        "elif 18.5 <= bmi < 24.9:\n",
        "    print(\"Your weight is in the healthy range. Keep maintaining a balanced diet and regular exercise.\")\n",
        "elif 25 <= bmi < 29.9:\n",
        "    print(\"You are overweight. Consider losing some weight through a balanced diet and exercise.\")\n",
        "else:\n",
        "    print(\"You are obese. It's important to consult a healthcare professional for guidance on weight management.\")"
      ],
      "metadata": {
        "colab": {
          "base_uri": "https://localhost:8080/"
        },
        "id": "2HxceO_3ecw5",
        "outputId": "bed705db-aa90-47ee-90f7-8c48595965d7"
      },
      "execution_count": null,
      "outputs": [
        {
          "output_type": "stream",
          "name": "stdout",
          "text": [
            "Enter your weight in kilograms: 94\n",
            "Enter your height in meters: 1.8688\n",
            "Your BMI is: 26.92\n",
            "You are overweight. Consider losing some weight through a balanced diet and exercise.\n"
          ]
        }
      ]
    },
    {
      "cell_type": "code",
      "source": [
        "import re\n",
        "\n",
        "def is_valid_password(password):\n",
        "    if len(password) < 8:\n",
        "        return False\n",
        "    if not any(char.isupper() for char in password):\n",
        "        return False\n",
        "    if not any(char.islower() for char in password):\n",
        "        return False\n",
        "    if not any(char.isdigit() for char in password):\n",
        "        return False\n",
        "    if not re.search(r'[!@#$%^&*()_+{}:;<>,.?~]', password):\n",
        "        return False\n",
        "\n",
        "    return True\n",
        "password = input(\"Enter a password: \")\n",
        "if is_valid_password(password):\n",
        "    print(\"Password is valid.\")\n",
        "else:\n",
        "    print(\"Password is not valid. Please make sure it meets the complexity requirements.\")"
      ],
      "metadata": {
        "colab": {
          "base_uri": "https://localhost:8080/"
        },
        "id": "nBJ7vsUbiSNc",
        "outputId": "286c967b-1b0a-42fa-8107-cc8c0474a13c"
      },
      "execution_count": null,
      "outputs": [
        {
          "output_type": "stream",
          "name": "stdout",
          "text": [
            "Enter a password: 1575@sjgfsdkGjkas\n",
            "Password is valid.\n"
          ]
        }
      ]
    },
    {
      "cell_type": "code",
      "source": [
        "def create_matrix(rows, columns):\n",
        "    matrix = []\n",
        "    for i in range(rows):\n",
        "        row = []\n",
        "        for j in range(columns):\n",
        "            value = float(input(f\"Enter the value for element ({i+1}, {j+1}): \"))\n",
        "            row.append(value)\n",
        "        matrix.append(row)\n",
        "    return matrix\n",
        "def add_matrices(matrix1, matrix2):\n",
        "    result = []\n",
        "    for i in range(len(matrix1)):\n",
        "      row = []\n",
        "      for j in range(len(matrix1[0])):\n",
        "        row.append(matrix1[i][j] + matrix2[i][j])\n",
        "      result.append(row)\n",
        "    return result\n",
        "def subtract_matrices(matrix1, matrix2):\n",
        "    result = []\n",
        "    for i in range(len(matrix1)):\n",
        "        row = []\n",
        "        for j in range(len(matrix1[0])):\n",
        "            row.append(matrix1[i][j] - matrix2[i][j])\n",
        "        result.append(row)\n",
        "    return result\n",
        "def print_matrix(matrix):\n",
        "    for row in matrix:\n",
        "        print(\" \".join(map(str, row)))\n",
        "rows = int(input(\"Enter the number of rows: \"))\n",
        "columns = int(input(\"Enter the number of columns: \"))\n",
        "print(\"Enter values for the first matrix:\")\n",
        "matrix1 = create_matrix(rows, columns)\n",
        "print(\"Enter values for the second matrix:\")\n",
        "matrix2 = create_matrix(rows, columns)\n",
        "print(\"Matrix Addition:\")\n",
        "result_addition = add_matrices(matrix1, matrix2)\n",
        "print_matrix(result_addition)\n",
        "print(\"Matrix Subtraction:\")\n",
        "result_subtraction = subtract_matrices(matrix1, matrix2)\n",
        "print_matrix(result_subtraction)\n"
      ],
      "metadata": {
        "colab": {
          "base_uri": "https://localhost:8080/"
        },
        "id": "vC-ldTnwiz8k",
        "outputId": "33528bc3-49dc-4e1e-ba4b-a58c5f88d971"
      },
      "execution_count": null,
      "outputs": [
        {
          "output_type": "stream",
          "name": "stdout",
          "text": [
            "Enter the number of rows: 3\n",
            "Enter the number of columns: 3\n",
            "Enter values for the first matrix:\n",
            "Enter the value for element (1, 1): 2\n",
            "Enter the value for element (1, 2): 3\n",
            "Enter the value for element (1, 3): 2\n",
            "Enter the value for element (2, 1): 5\n",
            "Enter the value for element (2, 2): 1\n",
            "Enter the value for element (2, 3): 6\n",
            "Enter the value for element (3, 1): 9\n",
            "Enter the value for element (3, 2): 2\n",
            "Enter the value for element (3, 3): 4\n",
            "Enter values for the second matrix:\n",
            "Enter the value for element (1, 1): 9\n",
            "Enter the value for element (1, 2): 5\n",
            "Enter the value for element (1, 3): 4\n",
            "Enter the value for element (2, 1): 7\n",
            "Enter the value for element (2, 2): 5\n",
            "Enter the value for element (2, 3): 3\n",
            "Enter the value for element (3, 1): 2\n",
            "Enter the value for element (3, 2): 1\n",
            "Enter the value for element (3, 3): 6\n",
            "Matrix Addition:\n",
            "11.0 8.0 6.0\n",
            "12.0 6.0 9.0\n",
            "11.0 3.0 10.0\n",
            "Matrix Subtraction:\n",
            "-7.0 -2.0 -2.0\n",
            "-2.0 -4.0 3.0\n",
            "7.0 1.0 -2.0\n"
          ]
        }
      ]
    },
    {
      "cell_type": "code",
      "source": [
        "def gcd_euclidean(a, b):\n",
        "    while b:\n",
        "        a, b = b, a % b\n",
        "    return a\n",
        "num1 = int(input(\"Enter the first number: \"))\n",
        "num2 = int(input(\"Enter the second number: \"))\n",
        "result = gcd_euclidean(num1, num2)\n",
        "print(f\"The GCD of {num1} and {num2} is: {result}\")"
      ],
      "metadata": {
        "id": "AoAQO1qljp_o",
        "colab": {
          "base_uri": "https://localhost:8080/"
        },
        "outputId": "942315a4-1616-4acc-82e0-0197bdc25069"
      },
      "execution_count": null,
      "outputs": [
        {
          "output_type": "stream",
          "name": "stdout",
          "text": [
            "Enter the first number: 12\n",
            "Enter the second number: 0\n",
            "The GCD of 12 and 0 is: 12\n"
          ]
        }
      ]
    },
    {
      "cell_type": "code",
      "source": [
        "def create_matrix(rows, columns):\n",
        "  matrix = []\n",
        "  for i in range(rows):\n",
        "    row = []\n",
        "    for j in range(columns):\n",
        "      value = float(input(f\"Enter the value for element ({i+1}, {j+1}): \"))\n",
        "      row.append(value)\n",
        "    matrix.append(row)\n",
        "  return matrix\n",
        "\n",
        "def multiply_matrices(matrix1, matrix2):\n",
        "  result = []\n",
        "  for i in range(len(matrix1)):\n",
        "    row = []\n",
        "    for j in range(len(matrix2[0])):\n",
        "      element = 0\n",
        "      for k in range(len(matrix2)):\n",
        "        element += matrix1[i][k] * matrix2[k][j]\n",
        "      row.append(element)\n",
        "    result.append(row)\n",
        "  return result\n",
        "\n",
        "def print_matrix(matrix):\n",
        "  for row in matrix:\n",
        "    print(\" \".join(map(str, row)))\n",
        "\n",
        "# Get user input for matrix dimensions\n",
        "rows1 = int(input(\"Enter the number of rows for the first matrix: \"))\n",
        "columns1 = int(input(\"Enter the number of columns for the first matrix: \"))\n",
        "rows2 = int(input(\"Enter the number of rows for the second matrix: \"))\n",
        "columns2 = int(input(\"Enter the number of columns for the second matrix: \"))\n",
        "if columns1 != rows2 :\n",
        "  print(\"Matrix multiplication is not possible. The number of columns in the first matrix must be equal to the number of rows in the second matrix.\")\n",
        "else :\n",
        "  print(\"Enter values for the first matrix:\")\n",
        "  matrix1 = create_matrix(rows1, columns1)\n",
        "  print(\"Enter values for the second matrix:\")\n",
        "  matrix2 = create_matrix(rows2, columns2)\n",
        "  result = multiply_matrices(matrix1, matrix2)\n",
        "  if result:\n",
        "    print(\"Matrix Multiplication Result:\")\n",
        "    print_matrix(result)\n"
      ],
      "metadata": {
        "colab": {
          "base_uri": "https://localhost:8080/"
        },
        "id": "C_WwAeEXOkSm",
        "outputId": "30827e05-9e07-401b-97d4-a2661bfbc364"
      },
      "execution_count": null,
      "outputs": [
        {
          "output_type": "stream",
          "name": "stdout",
          "text": [
            "Enter the number of rows for the first matrix: 2\n",
            "Enter the number of columns for the first matrix: 2\n",
            "Enter the number of rows for the second matrix: 2\n",
            "Enter the number of columns for the second matrix: 2\n",
            "Enter values for the first matrix:\n",
            "Enter the value for element (1, 1): 2\n",
            "Enter the value for element (1, 2): 3\n",
            "Enter the value for element (2, 1): 1\n",
            "Enter the value for element (2, 2): 4\n",
            "Enter values for the second matrix:\n",
            "Enter the value for element (1, 1): 5\n",
            "Enter the value for element (1, 2): 6\n",
            "Enter the value for element (2, 1): 9\n",
            "Enter the value for element (2, 2): 8\n",
            "Matrix Multiplication Result:\n",
            "37.0 36.0\n",
            "41.0 38.0\n"
          ]
        }
      ]
    },
    {
      "cell_type": "code",
      "source": [
        "import random\n",
        "board = [\" \" for _ in range(9)]\n",
        "def print_board(board):\n",
        "    for row in [board[i:i + 3] for i in range(0, 9, 3)]:\n",
        "        print(\" | \".join(row))\n",
        "        print(\"-\" * 9)\n",
        "def check_win(board, player):\n",
        "    win_combinations = [\n",
        "        [0, 1, 2], [3, 4, 5], [6, 7, 8],  # Rows\n",
        "        [0, 3, 6], [1, 4, 7], [2, 5, 8],  # Columns\n",
        "        [0, 4, 8], [2, 4, 6]  # Diagonals\n",
        "    ]\n",
        "    for combo in win_combinations:\n",
        "        if all(board[i] == player for i in combo):\n",
        "            return True\n",
        "    return False\n",
        "def check_tie(board):\n",
        "    return \" \" not in board\n",
        "def computer_move(board):\n",
        "    available_moves = [i for i, space in enumerate(board) if space == \" \"]\n",
        "    return random.choice(available_moves)\n",
        "while True:\n",
        "    print_board(board)\n",
        "    player_move = int(input(\"Enter your move (0-8): \"))\n",
        "    if board[player_move] == \" \":\n",
        "        board[player_move] = \"X\"\n",
        "    else:\n",
        "        print(\"Invalid move. Try again.\")\n",
        "        continue\n",
        "    if check_win(board, \"X\"):\n",
        "        print_board(board)\n",
        "        print(\"You win! Congratulations!\")\n",
        "        break\n",
        "    if check_tie(board):\n",
        "        print_board(board)\n",
        "        print(\"It's a tie!\")\n",
        "        break\n",
        "    computer_move_index = computer_move(board)\n",
        "    board[computer_move_index] = \"O\"\n",
        "    if check_win(board, \"O\"):\n",
        "        print_board(board)\n",
        "        print(\"Computer wins! You lose.\")\n",
        "        break"
      ],
      "metadata": {
        "colab": {
          "base_uri": "https://localhost:8080/"
        },
        "id": "HcRiquz5QaFQ",
        "outputId": "36bc08eb-7c1b-4631-c79b-2223194f6804"
      },
      "execution_count": null,
      "outputs": [
        {
          "output_type": "stream",
          "name": "stdout",
          "text": [
            "  |   |  \n",
            "---------\n",
            "  |   |  \n",
            "---------\n",
            "  |   |  \n",
            "---------\n",
            "Enter your move (0-8): 4\n",
            "  |   |  \n",
            "---------\n",
            "  | X |  \n",
            "---------\n",
            "  |   | O\n",
            "---------\n",
            "Enter your move (0-8): 6\n",
            "  |   | O\n",
            "---------\n",
            "  | X |  \n",
            "---------\n",
            "X |   | O\n",
            "---------\n",
            "Enter your move (0-8): 5\n",
            "  |   | O\n",
            "---------\n",
            "  | X | X\n",
            "---------\n",
            "X | O | O\n",
            "---------\n",
            "Enter your move (0-8): 3\n",
            "  |   | O\n",
            "---------\n",
            "X | X | X\n",
            "---------\n",
            "X | O | O\n",
            "---------\n",
            "You win! Congratulations!\n"
          ]
        }
      ]
    },
    {
      "cell_type": "code",
      "source": [
        "def generate_fibonacci(n):\n",
        "  if n <= 0:\n",
        "    return []\n",
        "\n",
        "  fibonacci_sequence = [0, 1]\n",
        "  while len(fibonacci_sequence) < n:\n",
        "    next_number = fibonacci_sequence[-1] + fibonacci_sequence[-2]\n",
        "    fibonacci_sequence.append(next_number)\n",
        "  return fibonacci_sequence\n",
        "n = int(input(\"Enter the number of Fibonacci terms to generate: \"))\n",
        "if n <= 0:\n",
        "    print(\"Please enter a positive number.\")\n",
        "else:\n",
        "    fibonacci_sequence = generate_fibonacci(n)\n",
        "    print(\"Fibonacci Sequence (up to the\", n, \"term):\")\n",
        "    print(fibonacci_sequence)"
      ],
      "metadata": {
        "colab": {
          "base_uri": "https://localhost:8080/"
        },
        "id": "ZofQHgpscFEJ",
        "outputId": "0bc41059-c362-43f3-98ee-f1b0670b91cc"
      },
      "execution_count": null,
      "outputs": [
        {
          "output_type": "stream",
          "name": "stdout",
          "text": [
            "Enter the number of Fibonacci terms to generate: 8\n",
            "Fibonacci Sequence (up to the 8 term):\n",
            "[0, 1, 1, 2, 3, 5, 8, 13]\n"
          ]
        }
      ]
    },
    {
      "cell_type": "code",
      "source": [
        "fibonacci_seq = {}\n",
        "def fibonacci(n):\n",
        "    if n in fibonacci_seq:\n",
        "        return fibonacci_seq[n]\n",
        "    if n == 0:\n",
        "        result = 0\n",
        "    elif n == 1:\n",
        "        result = 1\n",
        "    else:\n",
        "        result = fibonacci(n - 1) + fibonacci(n - 2)\n",
        "    fibonacci_seq[n] = result\n",
        "    return result\n",
        "n = int(input(\"Enter the value of n: \"))\n",
        "if n < 0:\n",
        "    print(\"Please enter a non-negative integer.\")\n",
        "else:\n",
        "    result = fibonacci(n)\n",
        "    print(f\"The {n}th term of the Fibonacci sequence is: {result}\")"
      ],
      "metadata": {
        "colab": {
          "base_uri": "https://localhost:8080/"
        },
        "id": "-3PnnWlIeMZF",
        "outputId": "af023bba-1df6-42c7-f20e-095e5d197035"
      },
      "execution_count": null,
      "outputs": [
        {
          "output_type": "stream",
          "name": "stdout",
          "text": [
            "Enter the value of n: 8\n",
            "The 8th term of the Fibonacci sequence is: 21\n"
          ]
        }
      ]
    },
    {
      "cell_type": "code",
      "source": [
        "import calendar\n",
        "year = int(input(\"Enter the year: \"))\n",
        "month = int(input(\"Enter the month: \"))\n",
        "if month < 1 or month > 12:\n",
        "    print(\"Invalid month. Please enter a month between 1 and 12.\")\n",
        "else:\n",
        "    cal = calendar.month(year, month)\n",
        "    print(f\"Calendar for {calendar.month_name[month]} {year}:\")\n",
        "    print(cal)"
      ],
      "metadata": {
        "colab": {
          "base_uri": "https://localhost:8080/"
        },
        "id": "5YlLmusafUTN",
        "outputId": "ef004737-987d-4e6d-e15f-dd78fd5a59ff"
      },
      "execution_count": null,
      "outputs": [
        {
          "output_type": "stream",
          "name": "stdout",
          "text": [
            "Enter the year: 2024\n",
            "Enter the month: 8\n",
            "Calendar for August 2024:\n",
            "    August 2024\n",
            "Mo Tu We Th Fr Sa Su\n",
            "          1  2  3  4\n",
            " 5  6  7  8  9 10 11\n",
            "12 13 14 15 16 17 18\n",
            "19 20 21 22 23 24 25\n",
            "26 27 28 29 30 31\n",
            "\n"
          ]
        }
      ]
    },
    {
      "cell_type": "code",
      "source": [
        "import random\n",
        "suits = ['Hearts', 'Diamonds', 'Clubs', 'Spades']\n",
        "ranks = ['Two', 'Three', 'Four', 'Five', 'Six', 'Seven', 'Eight', 'Nine', 'Ten', 'Jack', 'Queen', 'King', 'Ace']\n",
        "card_values = {\n",
        "    'Two': 2, 'Three': 3, 'Four': 4, 'Five': 5, 'Six': 6, 'Seven': 7, 'Eight': 8,\n",
        "    'Nine': 9, 'Ten': 10, 'Jack': 10, 'Queen': 10, 'King': 10, 'Ace': 11}\n",
        "player_hand = []\n",
        "dealer_hand = []\n",
        "def deal_card():\n",
        "    card = (random.choice(ranks), random.choice(suits))\n",
        "    return card\n",
        "def calculate_hand_value(hand):\n",
        "    value = sum(card_values[card[0]] for card in hand)\n",
        "    num_aces = sum(1 for card in hand if card[0] == 'Ace')\n",
        "    while value > 21 and num_aces > 0:\n",
        "        value -= 10\n",
        "        num_aces -= 1\n",
        "    return value\n",
        "def display_hands():\n",
        "    print(\"Your hand: \" + ', '.join([f\"{card[0]} of {card[1]}\" for card in player_hand]))\n",
        "    print(\"Dealer's hand: \" + f\"{dealer_hand[0][0]} of {dealer_hand[0][1]}, [Hidden Card]\")\n",
        "for _ in range(2):\n",
        "    player_hand.append(deal_card())\n",
        "    dealer_hand.append(deal_card())\n",
        "display_hands()\n",
        "while calculate_hand_value(player_hand) < 21:\n",
        "    action = input(\"Do you want to 'hit' or 'stand'? \").lower()\n",
        "    if action == 'hit':\n",
        "        player_hand.append(deal_card())\n",
        "        display_hands()\n",
        "    elif action == 'stand':\n",
        "        break\n",
        "while calculate_hand_value(dealer_hand) < 17:\n",
        "    dealer_hand.append(deal_card())\n",
        "print(\"Dealer's hand: \" + ', '.join([f\"{card[0]} of {card[1]}\" for card in dealer_hand]))\n",
        "print(\"Your hand value:\", calculate_hand_value(player_hand))\n",
        "print(\"Dealer's hand value:\", calculate_hand_value(dealer_hand))\n",
        "player_value = calculate_hand_value(player_hand)\n",
        "dealer_value = calculate_hand_value(dealer_hand)\n",
        "if player_value > 21:\n",
        "    print(\"You busted. Dealer wins.\")\n",
        "elif dealer_value > 21:\n",
        "    print(\"Dealer busted. You win!\")\n",
        "elif player_value > dealer_value:\n",
        "    print(\"You win!\")\n",
        "elif player_value < dealer_value:\n",
        "    print(\"Dealer wins.\")\n",
        "else:\n",
        "    print(\"It's a tie!\")"
      ],
      "metadata": {
        "colab": {
          "base_uri": "https://localhost:8080/"
        },
        "id": "PWua1Yl-hij1",
        "outputId": "542f3e46-a016-492d-a879-a63dfce2d164"
      },
      "execution_count": null,
      "outputs": [
        {
          "output_type": "stream",
          "name": "stdout",
          "text": [
            "Your hand: Ten of Spades, Seven of Clubs\n",
            "Dealer's hand: Ace of Diamonds, [Hidden Card]\n",
            "Do you want to 'hit' or 'stand'? stand\n",
            "Dealer's hand: Ace of Diamonds, King of Hearts\n",
            "Your hand value: 17\n",
            "Dealer's hand value: 21\n",
            "Dealer wins.\n"
          ]
        }
      ]
    },
    {
      "cell_type": "code",
      "source": [
        "def prime_factors(n):\n",
        "    factors = []\n",
        "    div = 2\n",
        "    while div <= n:\n",
        "      if n % div == 0:\n",
        "        factors.append(div)\n",
        "        n = n // div\n",
        "      else:\n",
        "        div += 1\n",
        "    return factors\n",
        "number = int(input(\"Enter a number to find its prime factors: \"))\n",
        "if number <= 0:\n",
        "    print(\"Please enter a positive integer.\")\n",
        "else:\n",
        "    factors = prime_factors(number)\n",
        "    if len(factors) == 1 and factors[0] == number:\n",
        "      print(f\"{number} is a prime number.\")\n",
        "    else:\n",
        "      print(f\"The prime factors of {number} are: {factors}\")"
      ],
      "metadata": {
        "colab": {
          "base_uri": "https://localhost:8080/"
        },
        "id": "5hwy4q_6ieEG",
        "outputId": "e2ec424b-4c1d-4372-89b6-237f9a3577c8"
      },
      "execution_count": null,
      "outputs": [
        {
          "output_type": "stream",
          "name": "stdout",
          "text": [
            "Enter a number to find its prime factors: 56\n",
            "The prime factors of 56 are: [2, 2, 2, 7]\n"
          ]
        }
      ]
    },
    {
      "cell_type": "code",
      "source": [],
      "metadata": {
        "id": "LJiRUXn4inTn"
      },
      "execution_count": null,
      "outputs": []
    }
  ]
}