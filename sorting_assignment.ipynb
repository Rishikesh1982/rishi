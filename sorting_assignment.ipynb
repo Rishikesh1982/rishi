{
  "nbformat": 4,
  "nbformat_minor": 0,
  "metadata": {
    "colab": {
      "provenance": []
    },
    "kernelspec": {
      "name": "python3",
      "display_name": "Python 3"
    },
    "language_info": {
      "name": "python"
    }
  },
  "cells": [
    {
      "cell_type": "code",
      "execution_count": 1,
      "metadata": {
        "colab": {
          "base_uri": "https://localhost:8080/"
        },
        "id": "b6rQP4eNpKY4",
        "outputId": "df15e9fe-2301-4329-e38a-dadd1204e8f0"
      },
      "outputs": [
        {
          "output_type": "stream",
          "name": "stdout",
          "text": [
            "Element appearing the maximum number of times: 3\n"
          ]
        }
      ],
      "source": [
        "def find_max_frequency_element(arr):\n",
        "    frequency_dict = {}\n",
        "\n",
        "    for element in arr:\n",
        "        if element in frequency_dict:\n",
        "            frequency_dict[element] += 1\n",
        "        else:\n",
        "            frequency_dict[element] = 1\n",
        "\n",
        "    max_element = max(frequency_dict, key=frequency_dict.get)\n",
        "\n",
        "    return max_element\n",
        "\n",
        "array_example = [1, 2, 3, 4, 2, 2, 3, 3, 3, 5]\n",
        "result = find_max_frequency_element(array_example)\n",
        "print(\"Element appearing the maximum number of times:\", result)\n"
      ]
    },
    {
      "cell_type": "code",
      "source": [
        "def missing_num(arr):\n",
        "  arr.sort()\n",
        "  for num in range(1,max(arr)):\n",
        "    if num not in arr:\n",
        "      return num\n",
        "\n",
        "arr = [1,2,4,6,3,7,8]\n",
        "res = missing_num(arr)\n",
        "print(f\"{res} is missing number in the array\")"
      ],
      "metadata": {
        "colab": {
          "base_uri": "https://localhost:8080/"
        },
        "id": "m5Fu1Gp7qIVh",
        "outputId": "dd90d665-1550-4d38-ae62-57c1828d7ee9"
      },
      "execution_count": 6,
      "outputs": [
        {
          "output_type": "stream",
          "name": "stdout",
          "text": [
            "5 is missing number in the array\n"
          ]
        }
      ]
    },
    {
      "cell_type": "code",
      "source": [
        "def find_odd_occurred_number(arr):\n",
        "    result = 0\n",
        "\n",
        "    for num in arr:\n",
        "        result ^= num\n",
        "\n",
        "    return result\n",
        "\n",
        "arr = [1, 2, 3, 2, 3, 1, 3]\n",
        "result = find_odd_occurred_number(arr)\n",
        "print(\"Number occurring odd number of times:\", result)\n"
      ],
      "metadata": {
        "colab": {
          "base_uri": "https://localhost:8080/"
        },
        "id": "l0-CspE-swpL",
        "outputId": "072830ec-b2b1-40ba-9670-b3ebd2dc77aa"
      },
      "execution_count": 9,
      "outputs": [
        {
          "output_type": "stream",
          "name": "stdout",
          "text": [
            "Number occurring odd number of times: 3\n"
          ]
        }
      ]
    },
    {
      "cell_type": "code",
      "source": [
        "def find_closest_sum_pair(arr):\n",
        "    arr.sort()\n",
        "    closest_sum = float('inf')\n",
        "    result_pair = (None, None)\n",
        "    left, right = 0, len(arr) - 1\n",
        "\n",
        "    while left < right:\n",
        "        current_sum = arr[left] + arr[right]\n",
        "        if abs(current_sum) < abs(closest_sum):\n",
        "            closest_sum = current_sum\n",
        "            result_pair = (arr[left], arr[right])\n",
        "        if current_sum < 0:\n",
        "            left += 1\n",
        "        elif current_sum > 0:\n",
        "            right -= 1\n",
        "        else:\n",
        "            return result_pair\n",
        "\n",
        "    return result_pair\n",
        "\n",
        "arr = [1, 60, -10, 70, -80, 85]\n",
        "result = find_closest_sum_pair(arr)\n",
        "print(\"Pair with sum closest to 0:\", result)\n"
      ],
      "metadata": {
        "colab": {
          "base_uri": "https://localhost:8080/"
        },
        "id": "zyqr2kUF3X8r",
        "outputId": "d92393d2-be37-46d1-ed87-4926996e4c1d"
      },
      "execution_count": 15,
      "outputs": [
        {
          "output_type": "stream",
          "name": "stdout",
          "text": [
            "Pair with sum closest to 0: (-80, 85)\n"
          ]
        }
      ]
    },
    {
      "cell_type": "code",
      "source": [
        "def find_triplet_with_sum(arr, target_sum):\n",
        "    arr.sort()\n",
        "    n = len(arr)\n",
        "    for i in range(n - 2):\n",
        "        left = i + 1\n",
        "        right = n - 1\n",
        "        while left < right:\n",
        "            current_sum = arr[i] + arr[left] + arr[right]\n",
        "            if current_sum == target_sum:\n",
        "                return arr[i], arr[left], arr[right]\n",
        "            elif current_sum < target_sum:\n",
        "                left += 1\n",
        "            else:\n",
        "                right -= 1\n",
        "    return None\n",
        "arr = [1, 4, 2, 8, 3, 9, 6]\n",
        "target_sum = 17\n",
        "result = find_triplet_with_sum(arr, target_sum)\n",
        "if result:\n",
        "    print(\"Triplet with sum\", target_sum, \":\", result)\n",
        "else:\n",
        "    print(\"No triplet found with the given sum.\")\n"
      ],
      "metadata": {
        "colab": {
          "base_uri": "https://localhost:8080/"
        },
        "id": "3pS1iSFN3qaV",
        "outputId": "892ec680-4fcd-457f-c49f-9bab8569414e"
      },
      "execution_count": 16,
      "outputs": [
        {
          "output_type": "stream",
          "name": "stdout",
          "text": [
            "Triplet with sum 17 : (2, 6, 9)\n"
          ]
        }
      ]
    },
    {
      "cell_type": "code",
      "source": [
        "def find_triplet_pythagorean(arr):\n",
        "    arr.sort()\n",
        "    n = len(arr)\n",
        "    for k in range(n - 1, 1, -1):\n",
        "        left = 0\n",
        "        right = k - 1\n",
        "        while left < right:\n",
        "            current_sum = arr[left] ** 2 + arr[right] ** 2\n",
        "            if current_sum == arr[k] ** 2:\n",
        "                return arr[left], arr[right], arr[k]\n",
        "            elif current_sum < arr[k] ** 2:\n",
        "                left += 1\n",
        "            else:\n",
        "                right -= 1\n",
        "    return None\n",
        "arr = [3, 1, 4, 6, 5]\n",
        "result = find_triplet_pythagorean(arr)\n",
        "\n",
        "if result:\n",
        "    print(\"Triplet satisfying i * i + j * j = k * k:\", result)\n",
        "else:\n",
        "    print(\"No triplet found satisfying the condition.\")\n"
      ],
      "metadata": {
        "colab": {
          "base_uri": "https://localhost:8080/"
        },
        "id": "WfYEyKMl5vI9",
        "outputId": "4666ecb4-7408-424d-b663-68706306987e"
      },
      "execution_count": 21,
      "outputs": [
        {
          "output_type": "stream",
          "name": "stdout",
          "text": [
            "Triplet satisfying i * i + j * j = k * k: (3, 4, 5)\n"
          ]
        }
      ]
    },
    {
      "cell_type": "code",
      "source": [
        "def find_majority_element(arr):\n",
        "    candidate = None\n",
        "    count = 0\n",
        "    for num in arr:\n",
        "        if count == 0:\n",
        "            candidate = num\n",
        "        count += 1 if num == candidate else -1\n",
        "    count = 0\n",
        "    for num in arr:\n",
        "        if num == candidate:\n",
        "            count += 1\n",
        "    if count > len(arr) // 2:\n",
        "        return candidate\n",
        "    else:\n",
        "        return None\n",
        "arr = [2, 2, 3, 4, 2, 2, 5]\n",
        "result = find_majority_element(arr)\n",
        "\n",
        "if result:\n",
        "    print(\"Majority element:\", result)\n",
        "else:\n",
        "    print(\"No majority element found.\")\n"
      ],
      "metadata": {
        "colab": {
          "base_uri": "https://localhost:8080/"
        },
        "id": "udq8tRLP8S49",
        "outputId": "fd27eae1-121e-41e5-e9e8-43001b5fa5d1"
      },
      "execution_count": 22,
      "outputs": [
        {
          "output_type": "stream",
          "name": "stdout",
          "text": [
            "Majority element: 2\n"
          ]
        }
      ]
    },
    {
      "cell_type": "code",
      "source": [
        "def find_max_zeros_row(matrix):\n",
        "    rows, cols = len(matrix), len(matrix[0])\n",
        "    max_zeros_row = -1\n",
        "    max_zeros_count = -1\n",
        "    row, col = 0, cols - 1\n",
        "    while row < rows and col >= 0:\n",
        "        if matrix[row][col] == 0:\n",
        "            max_zeros_row = row\n",
        "            max_zeros_count = cols - col\n",
        "            col -= 1\n",
        "        else:\n",
        "            row += 1\n",
        "\n",
        "    return max_zeros_row\n",
        "\n",
        "matrix = [\n",
        "    [1, 1, 1, 0],\n",
        "    [1, 1, 0, 0],\n",
        "    [1, 1, 1, 1],\n",
        "    [1, 1, 1, 0]\n",
        "]\n",
        "\n",
        "result = find_max_zeros_row(matrix)\n",
        "print(\"Row with maximum number of 0's:\", result)\n"
      ],
      "metadata": {
        "colab": {
          "base_uri": "https://localhost:8080/"
        },
        "id": "6Mu-1Di_9xuT",
        "outputId": "0804c6e0-dd95-4cbe-9428-114e16ac3756"
      },
      "execution_count": 23,
      "outputs": [
        {
          "output_type": "stream",
          "name": "stdout",
          "text": [
            "Row with maximum number of 0's: 1\n"
          ]
        }
      ]
    },
    {
      "cell_type": "code",
      "source": [
        "def sort_012_array(arr):\n",
        "    low = 0\n",
        "    mid = 0\n",
        "    high = len(arr) - 1\n",
        "    while mid <= high:\n",
        "        if arr[mid] == 0:\n",
        "\n",
        "            arr[low], arr[mid] = arr[mid], arr[low]\n",
        "            low += 1\n",
        "            mid += 1\n",
        "        elif arr[mid] == 1:\n",
        "            mid += 1\n",
        "        else:\n",
        "            arr[mid], arr[high] = arr[high], arr[mid]\n",
        "            high -= 1\n",
        "arr = [0, 1, 1, 0, 1, 2, 1, 2, 0, 0, 0, 1]\n",
        "sort_012_array(arr)\n",
        "print(\"Sorted array:\", arr)\n"
      ],
      "metadata": {
        "colab": {
          "base_uri": "https://localhost:8080/"
        },
        "id": "cFSsqbP_-EWu",
        "outputId": "12c39128-9573-4768-dccb-b6f8343d68d8"
      },
      "execution_count": 25,
      "outputs": [
        {
          "output_type": "stream",
          "name": "stdout",
          "text": [
            "Sorted array: [0, 0, 0, 0, 0, 1, 1, 1, 1, 1, 2, 2]\n"
          ]
        }
      ]
    },
    {
      "cell_type": "code",
      "source": [],
      "metadata": {
        "id": "iKkHtQOw-gs1"
      },
      "execution_count": null,
      "outputs": []
    }
  ]
}