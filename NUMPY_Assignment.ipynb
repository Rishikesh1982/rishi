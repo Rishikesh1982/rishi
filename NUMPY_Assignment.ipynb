{
  "nbformat": 4,
  "nbformat_minor": 0,
  "metadata": {
    "colab": {
      "provenance": []
    },
    "kernelspec": {
      "name": "python3",
      "display_name": "Python 3"
    },
    "language_info": {
      "name": "python"
    }
  },
  "cells": [
    {
      "cell_type": "markdown",
      "source": [
        "1)\n",
        "\n",
        "Python library is a collection of pre-written code and functionalities that can be used by Python developers to perform specific tasks without having to write the code from scratch. These libraries typically contain modules, classes, and functions that address common programming challenges, making it easier for developers to build applications by leveraging existing solutions.\n",
        "\n",
        "Python libraries have several purpose like :-\n",
        "\n",
        "1) Code Reusability\n",
        "\n",
        "2)code stabilazation\n",
        "\n",
        "3)Time efficiency\n",
        "\n",
        "4)Modularity\n",
        "\n",
        "5)Community contributions\n",
        "\n",
        "\n"
      ],
      "metadata": {
        "id": "90GKM-CplHh1"
      }
    },
    {
      "cell_type": "code",
      "execution_count": 1,
      "metadata": {
        "id": "RvBsoKNrkAjE",
        "colab": {
          "base_uri": "https://localhost:8080/"
        },
        "outputId": "8e171ac1-0d71-44f4-cddd-2678ea3c3bad"
      },
      "outputs": [
        {
          "output_type": "stream",
          "name": "stdout",
          "text": [
            "Array:\n",
            "[[ 1  2  3  4]\n",
            " [ 5  6  7  8]\n",
            " [ 9 10 11 12]]\n",
            "\n",
            "Shape: (3, 4)\n",
            "Size: 12\n",
            "Dimensions: 2\n"
          ]
        }
      ],
      "source": [
        "import numpy as np\n",
        "\n",
        "# Define the array\n",
        "my_array = np.array([[1, 2, 3, 4],\n",
        "                    [5, 6, 7, 8],\n",
        "                    [9, 10, 11, 12]])\n",
        "\n",
        "# Print the array\n",
        "print(\"Array:\")\n",
        "print(my_array)\n",
        "\n",
        "# Get the shape, size, and dimensions\n",
        "shape = my_array.shape\n",
        "size = my_array.size\n",
        "dimensions = my_array.ndim\n",
        "\n",
        "# Print the results\n",
        "print(\"\\nShape:\", shape)\n",
        "print(\"Size:\", size)\n",
        "print(\"Dimensions:\", dimensions)\n"
      ]
    },
    {
      "cell_type": "code",
      "source": [
        "\n",
        "\n",
        "# Define the array\n",
        "my_array = np.array([[1, 2, 3, 4],\n",
        "                    [5, 6, 7, 8],\n",
        "                    [9, 10, 11, 12]])\n",
        "\n",
        "# Access the first row\n",
        "first_row = my_array[0, :]\n",
        "\n",
        "# Print the result\n",
        "print(\"First Row:\")\n",
        "print(first_row)\n"
      ],
      "metadata": {
        "colab": {
          "base_uri": "https://localhost:8080/"
        },
        "id": "kyqXAn1i85LU",
        "outputId": "edcaa03a-5e9f-413d-bd4a-a1379ffeadb8"
      },
      "execution_count": 3,
      "outputs": [
        {
          "output_type": "stream",
          "name": "stdout",
          "text": [
            "First Row:\n",
            "[1 2 3 4]\n"
          ]
        }
      ]
    },
    {
      "cell_type": "code",
      "source": [
        "# Define the array\n",
        "my_array = np.array([[1, 2, 3, 4],\n",
        "                    [5, 6, 7, 8],\n",
        "                    [9, 10, 11, 12]])\n",
        "\n",
        "# Access the element at the third row and fourth column\n",
        "element = my_array[2, 3]\n",
        "\n",
        "# Print the result\n",
        "print(\"Element at the third row and fourth column:\", element)\n"
      ],
      "metadata": {
        "colab": {
          "base_uri": "https://localhost:8080/"
        },
        "id": "rN2TxXy29P98",
        "outputId": "e144f58c-3ffe-408f-8694-98708c8adfc5"
      },
      "execution_count": 4,
      "outputs": [
        {
          "output_type": "stream",
          "name": "stdout",
          "text": [
            "Element at the third row and fourth column: 12\n"
          ]
        }
      ]
    },
    {
      "cell_type": "code",
      "source": [
        "# Define the array\n",
        "my_array = np.array([[1, 2, 3, 4],\n",
        "                    [5, 6, 7, 8],\n",
        "                    [9, 10, 11, 12]])\n",
        "\n",
        "# Extract all odd-indexed elements\n",
        "odd_indexed_elements = my_array[:, 1::2]\n",
        "\n",
        "# Print the result\n",
        "print(\"All odd-indexed elements:\")\n",
        "print(odd_indexed_elements)\n"
      ],
      "metadata": {
        "colab": {
          "base_uri": "https://localhost:8080/"
        },
        "id": "2JFUkvdC9amZ",
        "outputId": "fa81028e-e0a1-492c-9825-7433c891160d"
      },
      "execution_count": 5,
      "outputs": [
        {
          "output_type": "stream",
          "name": "stdout",
          "text": [
            "All odd-indexed elements:\n",
            "[[ 2  4]\n",
            " [ 6  8]\n",
            " [10 12]]\n"
          ]
        }
      ]
    },
    {
      "cell_type": "code",
      "source": [
        "# Generate a random 3x3 matrix with values between 0 and 1\n",
        "random_matrix = np.random.rand(3, 3)\n",
        "\n",
        "# Print the result\n",
        "print(\"Random 3x3 matrix with values between 0 and 1:\")\n",
        "print(random_matrix)\n"
      ],
      "metadata": {
        "colab": {
          "base_uri": "https://localhost:8080/"
        },
        "id": "mt2AQV2o9oC-",
        "outputId": "ab3905d7-c9c9-41c8-9c3c-a8405cb34f92"
      },
      "execution_count": 6,
      "outputs": [
        {
          "output_type": "stream",
          "name": "stdout",
          "text": [
            "Random 3x3 matrix with values between 0 and 1:\n",
            "[[0.34013658 0.20646523 0.26792445]\n",
            " [0.63745769 0.39279937 0.59521218]\n",
            " [0.24264488 0.89201248 0.02188258]]\n"
          ]
        }
      ]
    },
    {
      "cell_type": "markdown",
      "source": [
        "1) np.random.rand:\n",
        "\n",
        "This function generates random values from a uniform distribution over the interval [0, 1).\n",
        "\n",
        "The generated values are floats and are uniformly distributed between 0 (inclusive) and 1 (exclusive).\n",
        "\n",
        "You can specify the shape of the output array by passing the desired dimensions as arguments.\n",
        "\n",
        "2) np.random.randn:\n",
        "\n",
        "This function generates random values from a standard normal distribution (mean = 0, standard deviation = 1).\n",
        "\n",
        "The generated values are floats and are sampled from a standard normal distribution.\n",
        "\n",
        "You can also specify the shape of the output array by passing the desired dimensions as arguments"
      ],
      "metadata": {
        "id": "BPgehyjq-KRm"
      }
    },
    {
      "cell_type": "code",
      "source": [
        "# Given array\n",
        "original_array = np.array([[1, 2, 3, 4],\n",
        "                           [5, 6, 7, 8],\n",
        "                           [9, 10, 11, 12]])\n",
        "\n",
        "# Add a new axis using np.newaxis\n",
        "new_dimension_array = original_array[:, :, np.newaxis]\n",
        "\n",
        "# Alternatively, you can use np.expand_dims\n",
        "# new_dimension_array = np.expand_dims(original_array, axis=2)\n",
        "\n",
        "# Print the result\n",
        "print(\"Original Array:\")\n",
        "print(original_array)\n",
        "\n",
        "print(\"\\nArray with Increased Dimension:\")\n",
        "print(new_dimension_array)\n"
      ],
      "metadata": {
        "colab": {
          "base_uri": "https://localhost:8080/"
        },
        "id": "8Z01Upjq90Ql",
        "outputId": "0fea5b9e-784b-4c77-86ec-34a5224a2849"
      },
      "execution_count": 7,
      "outputs": [
        {
          "output_type": "stream",
          "name": "stdout",
          "text": [
            "Original Array:\n",
            "[[ 1  2  3  4]\n",
            " [ 5  6  7  8]\n",
            " [ 9 10 11 12]]\n",
            "\n",
            "Array with Increased Dimension:\n",
            "[[[ 1]\n",
            "  [ 2]\n",
            "  [ 3]\n",
            "  [ 4]]\n",
            "\n",
            " [[ 5]\n",
            "  [ 6]\n",
            "  [ 7]\n",
            "  [ 8]]\n",
            "\n",
            " [[ 9]\n",
            "  [10]\n",
            "  [11]\n",
            "  [12]]]\n"
          ]
        }
      ]
    },
    {
      "cell_type": "code",
      "source": [
        "# Given array\n",
        "original_array = np.array([[1, 2, 3, 4],\n",
        "                           [5, 6, 7, 8],\n",
        "                           [9, 10, 11, 12]])\n",
        "\n",
        "# Transpose the array using .T attribute\n",
        "transposed_array_t = original_array.T\n",
        "\n",
        "# Transpose the array using np.transpose()\n",
        "transposed_array_np = np.transpose(original_array)\n",
        "\n",
        "# Print the results\n",
        "print(\"Original Array:\")\n",
        "print(original_array)\n",
        "\n",
        "print(\"\\nTransposed Array (using .T):\")\n",
        "print(transposed_array_t)\n",
        "\n",
        "print(\"\\nTransposed Array (using np.transpose()):\")\n",
        "print(transposed_array_np)\n"
      ],
      "metadata": {
        "colab": {
          "base_uri": "https://localhost:8080/"
        },
        "id": "Z7CZwhYt-qwg",
        "outputId": "da2ff659-e1cd-4878-81d2-ec8f87717bc3"
      },
      "execution_count": 8,
      "outputs": [
        {
          "output_type": "stream",
          "name": "stdout",
          "text": [
            "Original Array:\n",
            "[[ 1  2  3  4]\n",
            " [ 5  6  7  8]\n",
            " [ 9 10 11 12]]\n",
            "\n",
            "Transposed Array (using .T):\n",
            "[[ 1  5  9]\n",
            " [ 2  6 10]\n",
            " [ 3  7 11]\n",
            " [ 4  8 12]]\n",
            "\n",
            "Transposed Array (using np.transpose()):\n",
            "[[ 1  5  9]\n",
            " [ 2  6 10]\n",
            " [ 3  7 11]\n",
            " [ 4  8 12]]\n"
          ]
        }
      ]
    },
    {
      "cell_type": "code",
      "source": [
        "# Define matrices A and B\n",
        "matrix_A = np.array([[1, 2, 3, 4],\n",
        "                    [5, 6, 7, 8],\n",
        "                    [9, 10, 11, 12]])\n",
        "\n",
        "matrix_B = np.array([[1, 2, 3, 4],\n",
        "                    [5, 6, 7, 8],\n",
        "                    [9, 10, 11, 12]])\n",
        "\n",
        "# Addition\n",
        "addition_result = matrix_A + matrix_B\n",
        "\n",
        "# Matrix Multiplication\n",
        "multiplication_result = np.dot(matrix_A, matrix_B.T)  # Transpose of B for proper multiplication\n",
        "\n",
        "# Subtraction\n",
        "subtraction_result = matrix_A - matrix_B\n",
        "\n",
        "# Division (element-wise)\n",
        "division_result = np.divide(matrix_B, matrix_A)\n",
        "\n",
        "# Print the results\n",
        "print(\"Matrix A:\")\n",
        "print(matrix_A)\n",
        "\n",
        "print(\"\\nMatrix B:\")\n",
        "print(matrix_B)\n",
        "\n",
        "print(\"\\nAddition Result:\")\n",
        "print(addition_result)\n",
        "\n",
        "print(\"\\nMatrix Multiplication Result:\")\n",
        "print(multiplication_result)\n",
        "\n",
        "print(\"\\nSubtraction Result:\")\n",
        "print(subtraction_result)\n",
        "\n",
        "print(\"\\nDivision Result:\")\n",
        "print(division_result)\n"
      ],
      "metadata": {
        "colab": {
          "base_uri": "https://localhost:8080/"
        },
        "id": "Ckjr-x2s-0bC",
        "outputId": "c7b20f57-3749-48fe-a855-8304dfaf0348"
      },
      "execution_count": 9,
      "outputs": [
        {
          "output_type": "stream",
          "name": "stdout",
          "text": [
            "Matrix A:\n",
            "[[ 1  2  3  4]\n",
            " [ 5  6  7  8]\n",
            " [ 9 10 11 12]]\n",
            "\n",
            "Matrix B:\n",
            "[[ 1  2  3  4]\n",
            " [ 5  6  7  8]\n",
            " [ 9 10 11 12]]\n",
            "\n",
            "Addition Result:\n",
            "[[ 2  4  6  8]\n",
            " [10 12 14 16]\n",
            " [18 20 22 24]]\n",
            "\n",
            "Matrix Multiplication Result:\n",
            "[[ 30  70 110]\n",
            " [ 70 174 278]\n",
            " [110 278 446]]\n",
            "\n",
            "Subtraction Result:\n",
            "[[0 0 0 0]\n",
            " [0 0 0 0]\n",
            " [0 0 0 0]]\n",
            "\n",
            "Division Result:\n",
            "[[1. 1. 1. 1.]\n",
            " [1. 1. 1. 1.]\n",
            " [1. 1. 1. 1.]]\n"
          ]
        }
      ]
    },
    {
      "cell_type": "markdown",
      "source": [
        "**np.linalg.inv function:**\n",
        "\n",
        "The np.linalg.inv function is used to compute the inverse of a matrix. If A is a square matrix, then np.linalg.inv(A) returns the inverse of matrix A.\n",
        "\n",
        "The significance of this function is mainly in solving linear systems of equations, as finding the inverse is one way to solve a system of linear equations.\n",
        "\n",
        "**Broadcasting in NumPy:**\n",
        "\n",
        "Broadcasting is a powerful feature in NumPy that allows arrays of different shapes and sizes to be combined and operated on together.\n",
        "\n",
        "When performing element-wise operations, NumPy automatically broadcasts the smaller array to the shape of the larger one.\n",
        "\n",
        "Broadcasting rules allow for operations between arrays of different shapes without explicitly reshaping them.\n",
        "\n",
        "**np.ndarray.byteswap function:**\n",
        "\n",
        "The np.ndarray.byteswap function can be used to swap the byte order of an array. It allows you to change the endianness of the data in the array."
      ],
      "metadata": {
        "id": "J0wgRdmM_TzJ"
      }
    },
    {
      "cell_type": "code",
      "source": [],
      "metadata": {
        "id": "QspZTe3g_AIV"
      },
      "execution_count": null,
      "outputs": []
    }
  ]
}