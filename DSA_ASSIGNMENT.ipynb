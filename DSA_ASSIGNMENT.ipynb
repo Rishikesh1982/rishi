{
  "nbformat": 4,
  "nbformat_minor": 0,
  "metadata": {
    "colab": {
      "provenance": []
    },
    "kernelspec": {
      "name": "python3",
      "display_name": "Python 3"
    },
    "language_info": {
      "name": "python"
    }
  },
  "cells": [
    {
      "cell_type": "code",
      "source": [
        "class Node :\n",
        "  def __init__(self,data):\n",
        "    self.data = data\n",
        "    self.next = None\n",
        "class LinkedList:\n",
        "  def __init__(self):\n",
        "    self.head = None\n",
        "  def reverse(self):\n",
        "    prev = None\n",
        "    current = self.head\n",
        "    while (current is not None):\n",
        "      next = current.next\n",
        "      current.next = prev\n",
        "      prev = current\n",
        "      current = next\n",
        "    self.head = prev\n",
        "  def push(self, new_data):\n",
        "    new_node = Node(new_data)\n",
        "    new_node.next = self.head\n",
        "    self.head = new_node\n",
        "  def Printlist(self):\n",
        "    temp = self.head\n",
        "    while(temp):\n",
        "      print(temp.data,end = \" \")\n",
        "      temp = temp.next\n",
        "\n",
        "\n",
        "llist = LinkedList()\n",
        "llist.push(5)\n",
        "llist.push(4)\n",
        "llist.push(3)\n",
        "llist.push(2)\n",
        "llist.push(1)\n",
        "llist.Printlist()\n",
        "llist.reverse()\n",
        "print('\\n')\n",
        "llist.Printlist()"
      ],
      "metadata": {
        "id": "A-LOM9FUa8Vs",
        "colab": {
          "base_uri": "https://localhost:8080/"
        },
        "outputId": "41088135-59ae-4f66-c2e8-ce4ef2f3ad9a"
      },
      "execution_count": null,
      "outputs": [
        {
          "output_type": "stream",
          "name": "stdout",
          "text": [
            "1 2 3 4 5 \n",
            "\n",
            "5 4 3 2 1 "
          ]
        }
      ]
    },
    {
      "cell_type": "code",
      "source": [
        "class ListNode:\n",
        "    def __init__(self, value=0, next=None):\n",
        "        self.value = value\n",
        "        self.next = next\n",
        "\n",
        "def merge_sorted_lists(list1, list2):\n",
        "    dummy = ListNode()\n",
        "    current = dummy\n",
        "\n",
        "    while list1 is not None and list2 is not None:\n",
        "        if list1.value < list2.value:\n",
        "            current.next = list1\n",
        "            list1 = list1.next\n",
        "        else:\n",
        "            current.next = list2\n",
        "            list2 = list2.next\n",
        "        current = current.next\n",
        "\n",
        "    # If one of the lists is not empty, append the remaining elements\n",
        "    if list1 is not None:\n",
        "        current.next = list1\n",
        "    else:\n",
        "        current.next = list2\n",
        "\n",
        "    return dummy.next\n",
        "\n",
        "# Example usage:\n",
        "# List 1: 1 -> 3 -> 5\n",
        "list1 = ListNode(1, ListNode(3, ListNode(5)))\n",
        "\n",
        "# List 2: 2 -> 4 -> 6\n",
        "list2 = ListNode(2, ListNode(4, ListNode(6)))\n",
        "\n",
        "merged_list = merge_sorted_lists(list1, list2)\n",
        "\n",
        "# Print the merged list\n",
        "while merged_list is not None:\n",
        "    print(merged_list.value, end=\" -> \")\n",
        "    merged_list = merged_list.next\n"
      ],
      "metadata": {
        "id": "Zcybt2J2X77G",
        "colab": {
          "base_uri": "https://localhost:8080/"
        },
        "outputId": "de6daf5b-32eb-4224-dee6-3b0f2d180f88"
      },
      "execution_count": 1,
      "outputs": [
        {
          "output_type": "stream",
          "name": "stdout",
          "text": [
            "1 -> 2 -> 3 -> 4 -> 5 -> 6 -> "
          ]
        }
      ]
    },
    {
      "cell_type": "code",
      "source": [
        "class ListNode:\n",
        "    def __init__(self, value=0, next=None):\n",
        "        self.value = value\n",
        "        self.next = next\n",
        "\n",
        "def remove_nth_from_end(head, n):\n",
        "    dummy = ListNode(0)\n",
        "    dummy.next = head\n",
        "    first = dummy\n",
        "    second = dummy\n",
        "\n",
        "    # Move the second pointer ahead by n+1 nodes\n",
        "    for _ in range(n + 1):\n",
        "        second = second.next\n",
        "\n",
        "    # Move both pointers until the second pointer reaches the end\n",
        "    while second is not None:\n",
        "        first = first.next\n",
        "        second = second.next\n",
        "\n",
        "    # Remove the nth node from the end\n",
        "    first.next = first.next.next\n",
        "\n",
        "    return dummy.next\n",
        "\n",
        "# Example usage:\n",
        "# Input: 1 -> 2 -> 3 -> 4 -> 5, n = 2\n",
        "head = ListNode(1, ListNode(2, ListNode(3, ListNode(4, ListNode(5)))))\n",
        "n = 2\n",
        "\n",
        "new_head = remove_nth_from_end(head, n)\n",
        "\n",
        "# Print the modified linked list\n",
        "while new_head is not None:\n",
        "    print(new_head.value, end=\" -> \")\n",
        "    new_head = new_head.next\n"
      ],
      "metadata": {
        "colab": {
          "base_uri": "https://localhost:8080/"
        },
        "id": "HjE0LEAoND4V",
        "outputId": "f790854f-e9e0-4023-a244-4a8a73786fc1"
      },
      "execution_count": 2,
      "outputs": [
        {
          "output_type": "stream",
          "name": "stdout",
          "text": [
            "1 -> 2 -> 3 -> 5 -> "
          ]
        }
      ]
    },
    {
      "cell_type": "code",
      "source": [
        "class ListNode:\n",
        "    def __init__(self, value=0, next=None):\n",
        "        self.value = value\n",
        "        self.next = next\n",
        "\n",
        "def get_intersection_node(headA, headB):\n",
        "    def get_length(node):\n",
        "        length = 0\n",
        "        while node is not None:\n",
        "            length += 1\n",
        "            node = node.next\n",
        "        return length\n",
        "\n",
        "    lenA, lenB = get_length(headA), get_length(headB)\n",
        "\n",
        "    # Adjust the starting point of the longer list\n",
        "    while lenA > lenB:\n",
        "        headA = headA.next\n",
        "        lenA -= 1\n",
        "\n",
        "    while lenB > lenA:\n",
        "        headB = headB.next\n",
        "        lenB -= 1\n",
        "\n",
        "    # Iterate until the intersection point is found\n",
        "    while headA != headB:\n",
        "        headA = headA.next\n",
        "        headB = headB.next\n",
        "\n",
        "    return headA\n",
        "\n",
        "# Example usage:\n",
        "# List 1: 1 -> 2 -> 3 -> 4\n",
        "list1 = ListNode(1, ListNode(2, ListNode(3, ListNode(4))))\n",
        "\n",
        "# List 2: 9 -> 8 -> 3 -> 4\n",
        "list2 = ListNode(9, ListNode(8, list1.next.next))\n",
        "\n",
        "intersection_node = get_intersection_node(list1, list2)\n",
        "\n",
        "# Print the value of the intersection node\n",
        "print(\"Intersection Node Value:\", intersection_node.value)\n"
      ],
      "metadata": {
        "colab": {
          "base_uri": "https://localhost:8080/"
        },
        "id": "WUMaLGXON7pX",
        "outputId": "52da089d-8afa-462b-a47f-5374d8453365"
      },
      "execution_count": 3,
      "outputs": [
        {
          "output_type": "stream",
          "name": "stdout",
          "text": [
            "Intersection Node Value: 3\n"
          ]
        }
      ]
    },
    {
      "cell_type": "code",
      "source": [
        "class ListNode:\n",
        "    def __init__(self, value=0, next=None):\n",
        "        self.value = value\n",
        "        self.next = next\n",
        "\n",
        "def remove_duplicates(head):\n",
        "    current = head\n",
        "\n",
        "    while current is not None and current.next is not None:\n",
        "        if current.value == current.next.value:\n",
        "            # Remove the duplicate node\n",
        "            current.next = current.next.next\n",
        "        else:\n",
        "            # Move to the next node\n",
        "            current = current.next\n",
        "\n",
        "    return head\n",
        "\n",
        "# Example usage:\n",
        "# Input: 1 -> 1 -> 2 -> 3 -> 3\n",
        "head = ListNode(1, ListNode(1, ListNode(2, ListNode(3, ListNode(3)))))\n",
        "\n",
        "new_head = remove_duplicates(head)\n",
        "\n",
        "# Print the modified linked list\n",
        "while new_head is not None:\n",
        "    print(new_head.value, end=\" -> \")\n",
        "    new_head = new_head.next\n"
      ],
      "metadata": {
        "colab": {
          "base_uri": "https://localhost:8080/"
        },
        "id": "ACZmwFJ2ONLP",
        "outputId": "20b6cb32-0af3-4f49-a889-be8f6f45a9ad"
      },
      "execution_count": 4,
      "outputs": [
        {
          "output_type": "stream",
          "name": "stdout",
          "text": [
            "1 -> 2 -> 3 -> "
          ]
        }
      ]
    },
    {
      "cell_type": "code",
      "source": [
        "class ListNode:\n",
        "    def __init__(self, value=0, next=None):\n",
        "        self.value = value\n",
        "        self.next = next\n",
        "\n",
        "def add_two_numbers(l1, l2):\n",
        "    dummy = ListNode()\n",
        "    current = dummy\n",
        "    carry = 0\n",
        "\n",
        "    while l1 is not None or l2 is not None or carry:\n",
        "        # Get the values of the current nodes (default to 0 if node is None)\n",
        "        value1 = l1.value if l1 is not None else 0\n",
        "        value2 = l2.value if l2 is not None else 0\n",
        "\n",
        "        # Calculate the sum and carry\n",
        "        total = value1 + value2 + carry\n",
        "        carry = total // 10\n",
        "\n",
        "        # Create a new node with the current digit\n",
        "        current.next = ListNode(total % 10)\n",
        "        current = current.next\n",
        "\n",
        "        # Move to the next nodes in both lists if they exist\n",
        "        if l1 is not None:\n",
        "            l1 = l1.next\n",
        "        if l2 is not None:\n",
        "            l2 = l2.next\n",
        "\n",
        "    return dummy.next\n",
        "\n",
        "# Example usage:\n",
        "# List 1: 2 -> 4 -> 3\n",
        "list1 = ListNode(2, ListNode(4, ListNode(3)))\n",
        "\n",
        "# List 2: 5 -> 6 -> 4\n",
        "list2 = ListNode(5, ListNode(6, ListNode(4)))\n",
        "\n",
        "result = add_two_numbers(list1, list2)\n",
        "\n",
        "# Print the result linked list\n",
        "while result is not None:\n",
        "    print(result.value, end=\" -> \")\n",
        "    result = result.next\n"
      ],
      "metadata": {
        "colab": {
          "base_uri": "https://localhost:8080/"
        },
        "id": "Yp7XYfjrOWxf",
        "outputId": "a2fb1bcc-1a9c-4c86-d399-a84ae5705626"
      },
      "execution_count": 5,
      "outputs": [
        {
          "output_type": "stream",
          "name": "stdout",
          "text": [
            "7 -> 0 -> 8 -> "
          ]
        }
      ]
    },
    {
      "cell_type": "code",
      "source": [
        "class ListNode:\n",
        "    def __init__(self, value=0, next=None):\n",
        "        self.value = value\n",
        "        self.next = next\n",
        "\n",
        "def is_palindrome(head):\n",
        "    # Helper function to reverse a linked list\n",
        "    def reverse_list(node):\n",
        "        prev = None\n",
        "        current = node\n",
        "        while current is not None:\n",
        "            next_node = current.next\n",
        "            current.next = prev\n",
        "            prev = current\n",
        "            current = next_node\n",
        "        return prev\n",
        "\n",
        "    # Find the middle of the linked list using slow and fast pointers\n",
        "    slow = fast = head\n",
        "    while fast is not None and fast.next is not None:\n",
        "        slow = slow.next\n",
        "        fast = fast.next.next\n",
        "\n",
        "    # Reverse the second half of the linked list\n",
        "    second_half_reversed = reverse_list(slow)\n",
        "\n",
        "    # Compare the reversed second half with the first half\n",
        "    while second_half_reversed is not None:\n",
        "        if head.value != second_half_reversed.value:\n",
        "            return False\n",
        "        head = head.next\n",
        "        second_half_reversed = second_half_reversed.next\n",
        "\n",
        "    return True\n",
        "\n",
        "# Example usage:\n",
        "# Input: 1 -> 2 -> 2 -> 1\n",
        "palindrome_list = ListNode(1, ListNode(2, ListNode(2, ListNode(1))))\n",
        "\n",
        "# Check if the linked list is a palindrome\n",
        "result = is_palindrome(palindrome_list)\n",
        "print(result)  # Output: True\n"
      ],
      "metadata": {
        "colab": {
          "base_uri": "https://localhost:8080/"
        },
        "id": "nWyKYPz2Ov2g",
        "outputId": "b572a055-860a-4d68-ce1e-2af4cd8a9de8"
      },
      "execution_count": 6,
      "outputs": [
        {
          "output_type": "stream",
          "name": "stdout",
          "text": [
            "True\n"
          ]
        }
      ]
    },
    {
      "cell_type": "code",
      "source": [
        "class ListNode:\n",
        "    def __init__(self, value=0, next=None):\n",
        "        self.value = value\n",
        "        self.next = next\n",
        "\n",
        "def rotate_right(head, k):\n",
        "    if not head or k == 0:\n",
        "        return head\n",
        "\n",
        "    # Calculate the length of the linked list\n",
        "    length = 1\n",
        "    current = head\n",
        "    while current.next:\n",
        "        current = current.next\n",
        "        length += 1\n",
        "\n",
        "    # Find the new tail and head after rotation\n",
        "    k = k % length  # In case k is greater than the length\n",
        "    if k == 0:\n",
        "        return head\n",
        "\n",
        "    new_tail = head\n",
        "    for _ in range(length - k - 1):\n",
        "        new_tail = new_tail.next\n",
        "\n",
        "    new_head = new_tail.next\n",
        "    new_tail.next = None\n",
        "\n",
        "    # Connect the original tail to the original head\n",
        "    current.next = head\n",
        "\n",
        "    return new_head\n",
        "\n",
        "# Example usage:\n",
        "# Input: 1 -> 2 -> 3 -> 4 -> 5, k = 2\n",
        "original_list = ListNode(1, ListNode(2, ListNode(3, ListNode(4, ListNode(5)))))\n",
        "\n",
        "# Rotate the linked list to the right by k places\n",
        "k = 2\n",
        "rotated_list = rotate_right(original_list, k)\n",
        "\n",
        "# Print the rotated linked list\n",
        "while rotated_list is not None:\n",
        "    print(rotated_list.value, end=\" -> \")\n",
        "    rotated_list = rotated_list.next\n"
      ],
      "metadata": {
        "colab": {
          "base_uri": "https://localhost:8080/"
        },
        "id": "ehWQx_JXPOpY",
        "outputId": "40376e0d-925a-4efd-9cc8-690ba6f98258"
      },
      "execution_count": 7,
      "outputs": [
        {
          "output_type": "stream",
          "name": "stdout",
          "text": [
            "4 -> 5 -> 1 -> 2 -> 3 -> "
          ]
        }
      ]
    },
    {
      "cell_type": "code",
      "source": [
        "class Node:\n",
        "    def __init__(self, value=0, prev=None, next=None, child=None):\n",
        "        self.value = value\n",
        "        self.prev = prev\n",
        "        self.next = next\n",
        "        self.child = child\n",
        "\n",
        "def flatten_multilevel_list(head):\n",
        "    if not head:\n",
        "        return None\n",
        "\n",
        "    current = head\n",
        "\n",
        "    while current:\n",
        "        # If there is a child, handle the child first\n",
        "        if current.child:\n",
        "            child_tail = current.child\n",
        "            while child_tail.next:\n",
        "                child_tail = child_tail.next\n",
        "\n",
        "            child_tail.next = current.next\n",
        "            if current.next:\n",
        "                current.next.prev = child_tail\n",
        "\n",
        "            current.next = current.child\n",
        "            current.child.prev = current\n",
        "            current.child = None\n",
        "\n",
        "        current = current.next\n",
        "\n",
        "    return head\n",
        "\n",
        "# Example usage:\n",
        "# Input: 1 <-> 2 <-> 3 <-> 7 <-> 8 <-> 11 -> 12, 4 <-> 5 -> 9 -> 10, 6 -> 13\n",
        "head = Node(1)\n",
        "head.next = Node(2)\n",
        "head.next.prev = head\n",
        "head.next.next = Node(3)\n",
        "head.next.next.prev = head.next\n",
        "head.next.next.next = Node(7)\n",
        "head.next.next.next.prev = head.next.next\n",
        "head.next.next.next.next = Node(8)\n",
        "head.next.next.next.next.prev = head.next.next.next\n",
        "head.next.next.next.next.child = Node(11)\n",
        "head.next.next.next.next.child.next = Node(12)\n",
        "head.next.next.next.next.child.prev = head.next.next.next.next\n",
        "\n",
        "head.next.next.child = Node(4)\n",
        "head.next.next.child.next = Node(5)\n",
        "head.next.next.child.next.prev = head.next.next.child\n",
        "head.next.next.child.next.next = Node(9)\n",
        "head.next.next.child.next.next.prev = head.next.next.child.next\n",
        "head.next.next.child.next.next.next = Node(10)\n",
        "head.next.next.child.next.next.next.prev = head.next.next.child.next.next\n",
        "\n",
        "head.next.next.child.next.next.child = Node(6)\n",
        "head.next.next.child.next.next.child.next = Node(13)\n",
        "head.next.next.child.next.next.child.next.prev = head.next.next.child.next.next.child\n",
        "\n",
        "# Flatten the multilevel doubly linked list\n",
        "flattened_list = flatten_multilevel_list(head)\n",
        "\n",
        "# Print the flattened linked list\n",
        "while flattened_list:\n",
        "    print(flattened_list.value, end=\" <-> \")\n",
        "    flattened_list = flattened_list.next\n"
      ],
      "metadata": {
        "colab": {
          "base_uri": "https://localhost:8080/"
        },
        "id": "iBzsQRZ0RRjS",
        "outputId": "25dab50a-37d3-4082-f7dd-16623ef69a79"
      },
      "execution_count": 8,
      "outputs": [
        {
          "output_type": "stream",
          "name": "stdout",
          "text": [
            "1 <-> 2 <-> 3 <-> 4 <-> 5 <-> 9 <-> 6 <-> 13 <-> 10 <-> 7 <-> 8 <-> 11 <-> 12 <-> "
          ]
        }
      ]
    },
    {
      "cell_type": "code",
      "source": [
        "class ListNode:\n",
        "    def __init__(self, value=0, next=None):\n",
        "        self.value = value\n",
        "        self.next = next\n",
        "\n",
        "def rearrange_even_odd(head):\n",
        "    if not head or not head.next:\n",
        "        return head\n",
        "\n",
        "    # Create separate lists for odd and even positioned nodes\n",
        "    odd_head = ListNode(0)\n",
        "    odd_current = odd_head\n",
        "\n",
        "    even_head = ListNode(0)\n",
        "    even_current = even_head\n",
        "\n",
        "    current = head\n",
        "    is_odd = True\n",
        "\n",
        "    while current:\n",
        "        if is_odd:\n",
        "            odd_current.next = current\n",
        "            odd_current = odd_current.next\n",
        "        else:\n",
        "            even_current.next = current\n",
        "            even_current = even_current.next\n",
        "\n",
        "        is_odd = not is_odd\n",
        "        current = current.next\n",
        "\n",
        "    # Connect the odd and even lists\n",
        "    odd_current.next = even_head.next\n",
        "    even_current.next = None\n",
        "\n",
        "    return odd_head.next\n",
        "\n",
        "# Example usage:\n",
        "# Input: 1 -> 2 -> 3 -> 4 -> 5\n",
        "original_list = ListNode(1, ListNode(2, ListNode(3, ListNode(4, ListNode(5)))))\n",
        "\n",
        "# Rearrange the linked list with even positioned nodes at the end\n",
        "rearranged_list = rearrange_even_odd(original_list)\n",
        "\n",
        "# Print the rearranged linked list\n",
        "while rearranged_list:\n",
        "    print(rearranged_list.value, end=\" -> \")\n",
        "    rearranged_list = rearranged_list.next\n"
      ],
      "metadata": {
        "colab": {
          "base_uri": "https://localhost:8080/"
        },
        "id": "tsVKZd-SRbDJ",
        "outputId": "735c0d77-909b-44d7-e050-c3f442504d7a"
      },
      "execution_count": 9,
      "outputs": [
        {
          "output_type": "stream",
          "name": "stdout",
          "text": [
            "1 -> 3 -> 5 -> 2 -> 4 -> "
          ]
        }
      ]
    },
    {
      "cell_type": "code",
      "source": [
        "class ListNode:\n",
        "    def __init__(self, value=0, next=None):\n",
        "        self.value = value\n",
        "        self.next = next\n",
        "\n",
        "def add_one(head):\n",
        "    # Reverse the linked list to make it easier to perform addition\n",
        "    def reverse_list(node):\n",
        "        prev = None\n",
        "        current = node\n",
        "        while current is not None:\n",
        "            next_node = current.next\n",
        "            current.next = prev\n",
        "            prev = current\n",
        "            current = next_node\n",
        "        return prev\n",
        "\n",
        "    # Reverse the original linked list\n",
        "    reversed_head = reverse_list(head)\n",
        "\n",
        "    current = reversed_head\n",
        "    carry = 1  # Start with a carry of 1 since we are adding one\n",
        "\n",
        "    while current is not None:\n",
        "        # Calculate the sum and carry\n",
        "        total = current.value + carry\n",
        "        current.value = total % 10\n",
        "        carry = total // 10\n",
        "\n",
        "        # Move to the next node\n",
        "        current = current.next\n",
        "\n",
        "    # If there is a carry left, create a new node\n",
        "    if carry:\n",
        "        reversed_head = ListNode(carry, reversed_head)\n",
        "\n",
        "    # Reverse the linked list back to its original order\n",
        "    result_head = reverse_list(reversed_head)\n",
        "\n",
        "    return result_head\n",
        "\n",
        "# Example usage:\n",
        "# Input: 1 -> 2 -> 3 (represents the number 123)\n",
        "number_list = ListNode(1, ListNode(2, ListNode(3)))\n",
        "\n",
        "# Add one to the linked list\n",
        "result = add_one(number_list)\n",
        "\n",
        "# Print the result linked list\n",
        "while result is not None:\n",
        "    print(result.value, end=\" -> \")\n",
        "    result = result.next\n"
      ],
      "metadata": {
        "colab": {
          "base_uri": "https://localhost:8080/"
        },
        "id": "roz25NaiRtR6",
        "outputId": "c5950890-76ed-4b37-acf0-5d9f1e97f190"
      },
      "execution_count": 10,
      "outputs": [
        {
          "output_type": "stream",
          "name": "stdout",
          "text": [
            "1 -> 2 -> 4 -> "
          ]
        }
      ]
    },
    {
      "cell_type": "code",
      "source": [
        "def search_insert(nums, target):\n",
        "    low, high = 0, len(nums) - 1\n",
        "\n",
        "    while low <= high:\n",
        "        mid = (low + high) // 2\n",
        "\n",
        "        if nums[mid] == target:\n",
        "            return mid\n",
        "        elif nums[mid] < target:\n",
        "            low = mid + 1\n",
        "        else:\n",
        "            high = mid - 1\n",
        "\n",
        "    return low\n",
        "\n",
        "# Example usage:\n",
        "nums = [1, 3, 5, 6]\n",
        "target = 5\n",
        "\n",
        "result = search_insert(nums, target)\n",
        "print(result)  # Output: 2\n"
      ],
      "metadata": {
        "colab": {
          "base_uri": "https://localhost:8080/"
        },
        "id": "zT0EOG_-SC7S",
        "outputId": "138400cb-375b-4aab-f1a3-01093607ce29"
      },
      "execution_count": 11,
      "outputs": [
        {
          "output_type": "stream",
          "name": "stdout",
          "text": [
            "2\n"
          ]
        }
      ]
    },
    {
      "cell_type": "code",
      "source": [
        "def find_min(nums):\n",
        "    low, high = 0, len(nums) - 1\n",
        "\n",
        "    while low < high:\n",
        "        mid = (low + high) // 2\n",
        "\n",
        "        if nums[mid] > nums[high]:\n",
        "            low = mid + 1\n",
        "        else:\n",
        "            high = mid\n",
        "\n",
        "    return nums[low]\n",
        "\n",
        "# Example usage:\n",
        "nums = [4, 5, 6, 7, 0, 1, 2]\n",
        "\n",
        "result = find_min(nums)\n",
        "print(result)  # Output: 0\n"
      ],
      "metadata": {
        "colab": {
          "base_uri": "https://localhost:8080/"
        },
        "id": "X6IDaDD_SK8a",
        "outputId": "9e87674b-ae53-4e88-9c5f-e10a08799fae"
      },
      "execution_count": 12,
      "outputs": [
        {
          "output_type": "stream",
          "name": "stdout",
          "text": [
            "0\n"
          ]
        }
      ]
    },
    {
      "cell_type": "code",
      "source": [
        "def search(nums, target):\n",
        "    low, high = 0, len(nums) - 1\n",
        "\n",
        "    while low <= high:\n",
        "        mid = (low + high) // 2\n",
        "\n",
        "        if nums[mid] == target:\n",
        "            return mid\n",
        "\n",
        "        # Check which part of the array is sorted\n",
        "        if nums[low] <= nums[mid]:\n",
        "            # Left part is sorted\n",
        "            if nums[low] <= target <= nums[mid]:\n",
        "                high = mid - 1\n",
        "            else:\n",
        "                low = mid + 1\n",
        "        else:\n",
        "            # Right part is sorted\n",
        "            if nums[mid] <= target <= nums[high]:\n",
        "                low = mid + 1\n",
        "            else:\n",
        "                high = mid - 1\n",
        "\n",
        "    return -1  # Target not found\n",
        "\n",
        "# Example usage:\n",
        "nums = [4, 5, 6, 7, 0, 1, 2]\n",
        "target = 0\n",
        "\n",
        "result = search(nums, target)\n",
        "print(result)  # Output: 4\n"
      ],
      "metadata": {
        "colab": {
          "base_uri": "https://localhost:8080/"
        },
        "id": "AtQNOwndaiFZ",
        "outputId": "d40048b1-f791-473a-943c-54df20a746c2"
      },
      "execution_count": 13,
      "outputs": [
        {
          "output_type": "stream",
          "name": "stdout",
          "text": [
            "4\n"
          ]
        }
      ]
    },
    {
      "cell_type": "code",
      "source": [
        "def search_matrix(matrix, target):\n",
        "    if not matrix or not matrix[0]:\n",
        "        return False\n",
        "\n",
        "    rows, cols = len(matrix), len(matrix[0])\n",
        "    low, high = 0, rows * cols - 1\n",
        "\n",
        "    while low <= high:\n",
        "        mid = (low + high) // 2\n",
        "        mid_value = matrix[mid // cols][mid % cols]\n",
        "\n",
        "        if mid_value == target:\n",
        "            return True\n",
        "        elif mid_value < target:\n",
        "            low = mid + 1\n",
        "        else:\n",
        "            high = mid - 1\n",
        "\n",
        "    return False\n",
        "\n",
        "# Example usage:\n",
        "matrix = [\n",
        "    [1, 3, 5, 7],\n",
        "    [10, 11, 16, 20],\n",
        "    [23, 30, 34, 60]\n",
        "]\n",
        "target = 3\n",
        "\n",
        "result = search_matrix(matrix, target)\n",
        "print(result)  # Output: True\n"
      ],
      "metadata": {
        "colab": {
          "base_uri": "https://localhost:8080/"
        },
        "id": "KmIKj6x8aj-5",
        "outputId": "49c4824d-cc24-419e-af76-50a1574fefd7"
      },
      "execution_count": 14,
      "outputs": [
        {
          "output_type": "stream",
          "name": "stdout",
          "text": [
            "True\n"
          ]
        }
      ]
    },
    {
      "cell_type": "code",
      "source": [
        "def findMedianSortedArrays(nums1, nums2):\n",
        "    merged = []\n",
        "    i, j = 0, 0\n",
        "\n",
        "    while i < len(nums1) and j < len(nums2):\n",
        "        if nums1[i] < nums2[j]:\n",
        "            merged.append(nums1[i])\n",
        "            i += 1\n",
        "        else:\n",
        "            merged.append(nums2[j])\n",
        "            j += 1\n",
        "\n",
        "    merged.extend(nums1[i:])\n",
        "    merged.extend(nums2[j:])\n",
        "\n",
        "    total_len = len(merged)\n",
        "    mid = total_len // 2\n",
        "\n",
        "    if total_len % 2 == 0:\n",
        "        return (merged[mid - 1] + merged[mid]) / 2.0\n",
        "    else:\n",
        "        return float(merged[mid])\n",
        "\n",
        "# Example usage:\n",
        "nums1 = [1, 3]\n",
        "nums2 = [2]\n",
        "\n",
        "result = findMedianSortedArrays(nums1, nums2)\n",
        "print(result)  # Output: 2.0\n",
        "\n"
      ],
      "metadata": {
        "colab": {
          "base_uri": "https://localhost:8080/"
        },
        "id": "DBm-ZtThavQa",
        "outputId": "42680fb0-4182-4e94-dc26-f2ff70d96567"
      },
      "execution_count": 15,
      "outputs": [
        {
          "output_type": "stream",
          "name": "stdout",
          "text": [
            "2.0\n"
          ]
        }
      ]
    },
    {
      "cell_type": "code",
      "source": [
        "def next_greatest_letter(letters, target):\n",
        "    low, high = 0, len(letters)\n",
        "\n",
        "    while low < high:\n",
        "        mid = (low + high) // 2\n",
        "\n",
        "        if letters[mid] <= target:\n",
        "            low = mid + 1\n",
        "        else:\n",
        "            high = mid\n",
        "\n",
        "    return letters[low % len(letters)]\n",
        "\n",
        "# Example usage:\n",
        "letters = ['c', 'f', 'j']\n",
        "target = 'a'\n",
        "\n",
        "result = next_greatest_letter(letters, target)\n",
        "print(result)  # Output: 'c'\n"
      ],
      "metadata": {
        "colab": {
          "base_uri": "https://localhost:8080/"
        },
        "id": "k62LXDpEaySi",
        "outputId": "38c0d862-ac1c-4a42-d606-a695cd389f1a"
      },
      "execution_count": 16,
      "outputs": [
        {
          "output_type": "stream",
          "name": "stdout",
          "text": [
            "c\n"
          ]
        }
      ]
    },
    {
      "cell_type": "code",
      "source": [
        "def sortColors(nums):\n",
        "    low, mid, high = 0, 0, len(nums) - 1\n",
        "\n",
        "    while mid <= high:\n",
        "        if nums[mid] == 0:\n",
        "            nums[low], nums[mid] = nums[mid], nums[low]\n",
        "            low += 1\n",
        "            mid += 1\n",
        "        elif nums[mid] == 1:\n",
        "            mid += 1\n",
        "        else:\n",
        "            nums[mid], nums[high] = nums[high], nums[mid]\n",
        "            high -= 1\n",
        "\n",
        "# Example usage:\n",
        "nums = [2, 0, 2, 1, 1, 0]\n",
        "\n",
        "sortColors(nums)\n",
        "\n",
        "print(nums)  # Output: [0, 0, 1, 1, 2, 2]\n"
      ],
      "metadata": {
        "colab": {
          "base_uri": "https://localhost:8080/"
        },
        "id": "GGjIR6-ja9SK",
        "outputId": "3febd1ea-40be-4e84-ae34-925444d77d53"
      },
      "execution_count": 17,
      "outputs": [
        {
          "output_type": "stream",
          "name": "stdout",
          "text": [
            "[0, 0, 1, 1, 2, 2]\n"
          ]
        }
      ]
    },
    {
      "cell_type": "code",
      "source": [
        "import heapq\n",
        "\n",
        "def findKthLargest(nums, k):\n",
        "    # Use a min heap to maintain the k largest elements\n",
        "    min_heap = nums[:k]\n",
        "    heapq.heapify(min_heap)\n",
        "\n",
        "    # Iterate through the remaining elements\n",
        "    for num in nums[k:]:\n",
        "        if num > min_heap[0]:\n",
        "            heapq.heappop(min_heap)\n",
        "            heapq.heappush(min_heap, num)\n",
        "\n",
        "    return min_heap[0]\n",
        "\n",
        "# Example usage:\n",
        "nums = [3, 2, 1, 5, 6, 4]\n",
        "k = 2\n",
        "\n",
        "result = findKthLargest(nums, k)\n",
        "print(result)  # Output: 5\n"
      ],
      "metadata": {
        "colab": {
          "base_uri": "https://localhost:8080/"
        },
        "id": "wRTRfkOua_Ui",
        "outputId": "d3b3b26f-c32e-471b-ba3c-79c4f811b88a"
      },
      "execution_count": 18,
      "outputs": [
        {
          "output_type": "stream",
          "name": "stdout",
          "text": [
            "5\n"
          ]
        }
      ]
    },
    {
      "cell_type": "code",
      "source": [
        "def wiggleSort(nums):\n",
        "    for i in range(len(nums) - 1):\n",
        "        if i % 2 == 0 and nums[i] > nums[i + 1]:\n",
        "            nums[i], nums[i + 1] = nums[i + 1], nums[i]\n",
        "        elif i % 2 == 1 and nums[i] < nums[i + 1]:\n",
        "            nums[i], nums[i + 1] = nums[i + 1], nums[i]\n",
        "\n",
        "# Example usage:\n",
        "nums = [3, 5, 2, 1, 6, 4]\n",
        "\n",
        "wiggleSort(nums)\n",
        "\n",
        "print(nums)  # Output: [3, 5, 1, 6, 2, 4]\n"
      ],
      "metadata": {
        "colab": {
          "base_uri": "https://localhost:8080/"
        },
        "id": "MeLbcYqUbKkq",
        "outputId": "ad4be49a-7d85-48bb-ca08-4b03afa2ee47"
      },
      "execution_count": 19,
      "outputs": [
        {
          "output_type": "stream",
          "name": "stdout",
          "text": [
            "[3, 5, 1, 6, 2, 4]\n"
          ]
        }
      ]
    },
    {
      "cell_type": "code",
      "source": [
        "def calculate_sum(nums):\n",
        "    return sum(nums)\n",
        "\n",
        "# Example usage:\n",
        "nums = [1, 2, 3, 4, 5]\n",
        "\n",
        "result = calculate_sum(nums)\n",
        "print(result)  # Output: 15\n"
      ],
      "metadata": {
        "colab": {
          "base_uri": "https://localhost:8080/"
        },
        "id": "5Frz5_GubMnC",
        "outputId": "e94066bb-f4e9-42eb-aec0-f679c7e51d92"
      },
      "execution_count": 20,
      "outputs": [
        {
          "output_type": "stream",
          "name": "stdout",
          "text": [
            "15\n"
          ]
        }
      ]
    },
    {
      "cell_type": "code",
      "source": [
        "def find_maximum(nums):\n",
        "    return max(nums)\n",
        "\n",
        "# Example usage:\n",
        "nums = [3, 7, 2, 9, 4, 1]\n",
        "\n",
        "result = find_maximum(nums)\n",
        "print(result)  # Output: 9\n"
      ],
      "metadata": {
        "colab": {
          "base_uri": "https://localhost:8080/"
        },
        "id": "xRmO0i0qbV1a",
        "outputId": "a3aed673-09f7-4496-a3c7-99b40d3e35cd"
      },
      "execution_count": 21,
      "outputs": [
        {
          "output_type": "stream",
          "name": "stdout",
          "text": [
            "9\n"
          ]
        }
      ]
    },
    {
      "cell_type": "code",
      "source": [
        "def linear_search(nums, target):\n",
        "    for i in range(len(nums)):\n",
        "        if nums[i] == target:\n",
        "            return i\n",
        "    return -1  # Return -1 if the target is not found in the array\n",
        "\n",
        "# Example usage:\n",
        "nums = [5, 3, 8, 2, 7, 4]\n",
        "target = 8\n",
        "\n",
        "result = linear_search(nums, target)\n",
        "print(result)  # Output: 2\n"
      ],
      "metadata": {
        "colab": {
          "base_uri": "https://localhost:8080/"
        },
        "id": "0fTjWHf-bjxq",
        "outputId": "49a9e420-1dc2-4b67-ccf9-559c5116ac94"
      },
      "execution_count": 22,
      "outputs": [
        {
          "output_type": "stream",
          "name": "stdout",
          "text": [
            "2\n"
          ]
        }
      ]
    },
    {
      "cell_type": "code",
      "source": [
        "def factorial(n):\n",
        "    if n == 0 or n == 1:\n",
        "        return 1\n",
        "    else:\n",
        "        return n * factorial(n - 1)\n",
        "\n",
        "# Example usage:\n",
        "number = 5\n",
        "\n",
        "result = factorial(number)\n",
        "print(result)  # Output: 120\n"
      ],
      "metadata": {
        "colab": {
          "base_uri": "https://localhost:8080/"
        },
        "id": "GaH84OyCbnw-",
        "outputId": "4d08a6a2-f961-4924-af0d-49cb3657cfda"
      },
      "execution_count": 23,
      "outputs": [
        {
          "output_type": "stream",
          "name": "stdout",
          "text": [
            "120\n"
          ]
        }
      ]
    },
    {
      "cell_type": "code",
      "source": [
        "def is_prime(number):\n",
        "    if number <= 1:\n",
        "        return False\n",
        "    elif number == 2:\n",
        "        return True\n",
        "    elif number % 2 == 0:\n",
        "        return False\n",
        "\n",
        "    # Check divisibility from 3 to the square root of the number\n",
        "    for i in range(3, int(number**0.5) + 1, 2):\n",
        "        if number % i == 0:\n",
        "            return False\n",
        "\n",
        "    return True\n",
        "\n",
        "# Example usage:\n",
        "number = 7\n",
        "\n",
        "result = is_prime(number)\n",
        "print(result)  # Output: True\n"
      ],
      "metadata": {
        "colab": {
          "base_uri": "https://localhost:8080/"
        },
        "id": "4_oaY5L1bvsC",
        "outputId": "9cd3007d-4341-41d9-81c8-509beb1fcbd5"
      },
      "execution_count": 24,
      "outputs": [
        {
          "output_type": "stream",
          "name": "stdout",
          "text": [
            "True\n"
          ]
        }
      ]
    },
    {
      "cell_type": "code",
      "source": [
        "def generate_fibonacci(n):\n",
        "    fibonacci_series = [0, 1]\n",
        "\n",
        "    while fibonacci_series[-1] + fibonacci_series[-2] <= n:\n",
        "        next_number = fibonacci_series[-1] + fibonacci_series[-2]\n",
        "        fibonacci_series.append(next_number)\n",
        "\n",
        "    return fibonacci_series\n",
        "\n",
        "# Example usage:\n",
        "number = 8\n",
        "\n",
        "result = generate_fibonacci(number)\n",
        "print(result)  # Output: [0, 1, 1, 2, 3, 5, 8]\n"
      ],
      "metadata": {
        "colab": {
          "base_uri": "https://localhost:8080/"
        },
        "id": "kkiZaws8b9UT",
        "outputId": "d95ffb1f-9931-42ca-fd2a-a41e73df5ea5"
      },
      "execution_count": 25,
      "outputs": [
        {
          "output_type": "stream",
          "name": "stdout",
          "text": [
            "[0, 1, 1, 2, 3, 5, 8]\n"
          ]
        }
      ]
    },
    {
      "cell_type": "code",
      "source": [
        "def power(base, exponent):\n",
        "    if exponent == 0:\n",
        "        return 1\n",
        "    else:\n",
        "        return base * power(base, exponent - 1)\n",
        "\n",
        "# Example usage:\n",
        "base = 3\n",
        "exponent = 4\n",
        "\n",
        "result = power(base, exponent)\n",
        "print(result)  # Output: 81\n"
      ],
      "metadata": {
        "colab": {
          "base_uri": "https://localhost:8080/"
        },
        "id": "UQtYzP3Rb_LT",
        "outputId": "3ee5dfca-4c7d-440a-c55b-7f89d85755d7"
      },
      "execution_count": 26,
      "outputs": [
        {
          "output_type": "stream",
          "name": "stdout",
          "text": [
            "81\n"
          ]
        }
      ]
    },
    {
      "cell_type": "code",
      "source": [
        "def reverse_string(input_string):\n",
        "    return input_string[::-1]\n",
        "\n",
        "# Example usage:\n",
        "input_str = \"hello\"\n",
        "\n",
        "result = reverse_string(input_str)\n",
        "print(result)  # Output: \"olleh\"\n",
        "\n"
      ],
      "metadata": {
        "id": "rIykoxs0cJR6",
        "outputId": "2c8be46e-3970-4b55-e1ba-79c04a3a088c",
        "colab": {
          "base_uri": "https://localhost:8080/"
        }
      },
      "execution_count": 27,
      "outputs": [
        {
          "output_type": "stream",
          "name": "stdout",
          "text": [
            "olleh\n"
          ]
        }
      ]
    },
    {
      "cell_type": "code",
      "source": [],
      "metadata": {
        "id": "fxnvBf1ZcKv7"
      },
      "execution_count": null,
      "outputs": []
    }
  ]
}